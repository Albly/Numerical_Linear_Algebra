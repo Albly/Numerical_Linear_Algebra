{
  "nbformat": 4,
  "nbformat_minor": 0,
  "metadata": {
    "colab": {
      "name": "hw2.ipynb",
      "provenance": [],
      "collapsed_sections": [],
      "include_colab_link": true
    },
    "kernelspec": {
      "display_name": "Python 3",
      "language": "python",
      "name": "python3"
    },
    "language_info": {
      "codemirror_mode": {
        "name": "ipython",
        "version": 3
      },
      "file_extension": ".py",
      "mimetype": "text/x-python",
      "name": "python",
      "nbconvert_exporter": "python",
      "pygments_lexer": "ipython3",
      "version": "3.7.7"
    },
    "widgets": {
      "application/vnd.jupyter.widget-state+json": {
        "5e41ebcb770942f38b69fd52bd0197ce": {
          "model_module": "@jupyter-widgets/controls",
          "model_name": "HBoxModel",
          "model_module_version": "1.5.0",
          "state": {
            "_view_name": "HBoxView",
            "_dom_classes": [],
            "_model_name": "HBoxModel",
            "_view_module": "@jupyter-widgets/controls",
            "_model_module_version": "1.5.0",
            "_view_count": null,
            "_view_module_version": "1.5.0",
            "box_style": "",
            "layout": "IPY_MODEL_4985b306fa6e447e8ab6f932e8f0ea1a",
            "_model_module": "@jupyter-widgets/controls",
            "children": [
              "IPY_MODEL_350c36ca7c1c4eb4918198975857e8f9",
              "IPY_MODEL_df05c73e71b3423697948cfc450004b8",
              "IPY_MODEL_6752d091d94f496198b6a294e2d2524c"
            ]
          }
        },
        "4985b306fa6e447e8ab6f932e8f0ea1a": {
          "model_module": "@jupyter-widgets/base",
          "model_name": "LayoutModel",
          "model_module_version": "1.2.0",
          "state": {
            "_view_name": "LayoutView",
            "grid_template_rows": null,
            "right": null,
            "justify_content": null,
            "_view_module": "@jupyter-widgets/base",
            "overflow": null,
            "_model_module_version": "1.2.0",
            "_view_count": null,
            "flex_flow": null,
            "width": null,
            "min_width": null,
            "border": null,
            "align_items": null,
            "bottom": null,
            "_model_module": "@jupyter-widgets/base",
            "top": null,
            "grid_column": null,
            "overflow_y": null,
            "overflow_x": null,
            "grid_auto_flow": null,
            "grid_area": null,
            "grid_template_columns": null,
            "flex": null,
            "_model_name": "LayoutModel",
            "justify_items": null,
            "grid_row": null,
            "max_height": null,
            "align_content": null,
            "visibility": null,
            "align_self": null,
            "height": null,
            "min_height": null,
            "padding": null,
            "grid_auto_rows": null,
            "grid_gap": null,
            "max_width": null,
            "order": null,
            "_view_module_version": "1.2.0",
            "grid_template_areas": null,
            "object_position": null,
            "object_fit": null,
            "grid_auto_columns": null,
            "margin": null,
            "display": null,
            "left": null
          }
        },
        "350c36ca7c1c4eb4918198975857e8f9": {
          "model_module": "@jupyter-widgets/controls",
          "model_name": "HTMLModel",
          "model_module_version": "1.5.0",
          "state": {
            "_view_name": "HTMLView",
            "style": "IPY_MODEL_53f36a44d9b342ebad348617f991207d",
            "_dom_classes": [],
            "description": "",
            "_model_name": "HTMLModel",
            "placeholder": "​",
            "_view_module": "@jupyter-widgets/controls",
            "_model_module_version": "1.5.0",
            "value": "100%",
            "_view_count": null,
            "_view_module_version": "1.5.0",
            "description_tooltip": null,
            "_model_module": "@jupyter-widgets/controls",
            "layout": "IPY_MODEL_1db019bc9703452c8f19f5a909a31deb"
          }
        },
        "df05c73e71b3423697948cfc450004b8": {
          "model_module": "@jupyter-widgets/controls",
          "model_name": "FloatProgressModel",
          "model_module_version": "1.5.0",
          "state": {
            "_view_name": "ProgressView",
            "style": "IPY_MODEL_93b44960e10e43d6915e0aba2ff91d79",
            "_dom_classes": [],
            "description": "",
            "_model_name": "FloatProgressModel",
            "bar_style": "success",
            "max": 30,
            "_view_module": "@jupyter-widgets/controls",
            "_model_module_version": "1.5.0",
            "value": 30,
            "_view_count": null,
            "_view_module_version": "1.5.0",
            "orientation": "horizontal",
            "min": 0,
            "description_tooltip": null,
            "_model_module": "@jupyter-widgets/controls",
            "layout": "IPY_MODEL_7e75548dd5784d48a3d18361a8240054"
          }
        },
        "6752d091d94f496198b6a294e2d2524c": {
          "model_module": "@jupyter-widgets/controls",
          "model_name": "HTMLModel",
          "model_module_version": "1.5.0",
          "state": {
            "_view_name": "HTMLView",
            "style": "IPY_MODEL_93946bf72c734d17906de45c73aff24b",
            "_dom_classes": [],
            "description": "",
            "_model_name": "HTMLModel",
            "placeholder": "​",
            "_view_module": "@jupyter-widgets/controls",
            "_model_module_version": "1.5.0",
            "value": " 30/30 [09:14&lt;00:00, 53.79s/it]",
            "_view_count": null,
            "_view_module_version": "1.5.0",
            "description_tooltip": null,
            "_model_module": "@jupyter-widgets/controls",
            "layout": "IPY_MODEL_822a454a2f91454b8ccd5aeb3c00b4c8"
          }
        },
        "53f36a44d9b342ebad348617f991207d": {
          "model_module": "@jupyter-widgets/controls",
          "model_name": "DescriptionStyleModel",
          "model_module_version": "1.5.0",
          "state": {
            "_view_name": "StyleView",
            "_model_name": "DescriptionStyleModel",
            "description_width": "",
            "_view_module": "@jupyter-widgets/base",
            "_model_module_version": "1.5.0",
            "_view_count": null,
            "_view_module_version": "1.2.0",
            "_model_module": "@jupyter-widgets/controls"
          }
        },
        "1db019bc9703452c8f19f5a909a31deb": {
          "model_module": "@jupyter-widgets/base",
          "model_name": "LayoutModel",
          "model_module_version": "1.2.0",
          "state": {
            "_view_name": "LayoutView",
            "grid_template_rows": null,
            "right": null,
            "justify_content": null,
            "_view_module": "@jupyter-widgets/base",
            "overflow": null,
            "_model_module_version": "1.2.0",
            "_view_count": null,
            "flex_flow": null,
            "width": null,
            "min_width": null,
            "border": null,
            "align_items": null,
            "bottom": null,
            "_model_module": "@jupyter-widgets/base",
            "top": null,
            "grid_column": null,
            "overflow_y": null,
            "overflow_x": null,
            "grid_auto_flow": null,
            "grid_area": null,
            "grid_template_columns": null,
            "flex": null,
            "_model_name": "LayoutModel",
            "justify_items": null,
            "grid_row": null,
            "max_height": null,
            "align_content": null,
            "visibility": null,
            "align_self": null,
            "height": null,
            "min_height": null,
            "padding": null,
            "grid_auto_rows": null,
            "grid_gap": null,
            "max_width": null,
            "order": null,
            "_view_module_version": "1.2.0",
            "grid_template_areas": null,
            "object_position": null,
            "object_fit": null,
            "grid_auto_columns": null,
            "margin": null,
            "display": null,
            "left": null
          }
        },
        "93b44960e10e43d6915e0aba2ff91d79": {
          "model_module": "@jupyter-widgets/controls",
          "model_name": "ProgressStyleModel",
          "model_module_version": "1.5.0",
          "state": {
            "_view_name": "StyleView",
            "_model_name": "ProgressStyleModel",
            "description_width": "",
            "_view_module": "@jupyter-widgets/base",
            "_model_module_version": "1.5.0",
            "_view_count": null,
            "_view_module_version": "1.2.0",
            "bar_color": null,
            "_model_module": "@jupyter-widgets/controls"
          }
        },
        "7e75548dd5784d48a3d18361a8240054": {
          "model_module": "@jupyter-widgets/base",
          "model_name": "LayoutModel",
          "model_module_version": "1.2.0",
          "state": {
            "_view_name": "LayoutView",
            "grid_template_rows": null,
            "right": null,
            "justify_content": null,
            "_view_module": "@jupyter-widgets/base",
            "overflow": null,
            "_model_module_version": "1.2.0",
            "_view_count": null,
            "flex_flow": null,
            "width": null,
            "min_width": null,
            "border": null,
            "align_items": null,
            "bottom": null,
            "_model_module": "@jupyter-widgets/base",
            "top": null,
            "grid_column": null,
            "overflow_y": null,
            "overflow_x": null,
            "grid_auto_flow": null,
            "grid_area": null,
            "grid_template_columns": null,
            "flex": null,
            "_model_name": "LayoutModel",
            "justify_items": null,
            "grid_row": null,
            "max_height": null,
            "align_content": null,
            "visibility": null,
            "align_self": null,
            "height": null,
            "min_height": null,
            "padding": null,
            "grid_auto_rows": null,
            "grid_gap": null,
            "max_width": null,
            "order": null,
            "_view_module_version": "1.2.0",
            "grid_template_areas": null,
            "object_position": null,
            "object_fit": null,
            "grid_auto_columns": null,
            "margin": null,
            "display": null,
            "left": null
          }
        },
        "93946bf72c734d17906de45c73aff24b": {
          "model_module": "@jupyter-widgets/controls",
          "model_name": "DescriptionStyleModel",
          "model_module_version": "1.5.0",
          "state": {
            "_view_name": "StyleView",
            "_model_name": "DescriptionStyleModel",
            "description_width": "",
            "_view_module": "@jupyter-widgets/base",
            "_model_module_version": "1.5.0",
            "_view_count": null,
            "_view_module_version": "1.2.0",
            "_model_module": "@jupyter-widgets/controls"
          }
        },
        "822a454a2f91454b8ccd5aeb3c00b4c8": {
          "model_module": "@jupyter-widgets/base",
          "model_name": "LayoutModel",
          "model_module_version": "1.2.0",
          "state": {
            "_view_name": "LayoutView",
            "grid_template_rows": null,
            "right": null,
            "justify_content": null,
            "_view_module": "@jupyter-widgets/base",
            "overflow": null,
            "_model_module_version": "1.2.0",
            "_view_count": null,
            "flex_flow": null,
            "width": null,
            "min_width": null,
            "border": null,
            "align_items": null,
            "bottom": null,
            "_model_module": "@jupyter-widgets/base",
            "top": null,
            "grid_column": null,
            "overflow_y": null,
            "overflow_x": null,
            "grid_auto_flow": null,
            "grid_area": null,
            "grid_template_columns": null,
            "flex": null,
            "_model_name": "LayoutModel",
            "justify_items": null,
            "grid_row": null,
            "max_height": null,
            "align_content": null,
            "visibility": null,
            "align_self": null,
            "height": null,
            "min_height": null,
            "padding": null,
            "grid_auto_rows": null,
            "grid_gap": null,
            "max_width": null,
            "order": null,
            "_view_module_version": "1.2.0",
            "grid_template_areas": null,
            "object_position": null,
            "object_fit": null,
            "grid_auto_columns": null,
            "margin": null,
            "display": null,
            "left": null
          }
        },
        "947ce30deda04067a6f31d76c0773e89": {
          "model_module": "@jupyter-widgets/controls",
          "model_name": "HBoxModel",
          "model_module_version": "1.5.0",
          "state": {
            "_view_name": "HBoxView",
            "_dom_classes": [],
            "_model_name": "HBoxModel",
            "_view_module": "@jupyter-widgets/controls",
            "_model_module_version": "1.5.0",
            "_view_count": null,
            "_view_module_version": "1.5.0",
            "box_style": "",
            "layout": "IPY_MODEL_5408dac9c69345cab14eaed948af3733",
            "_model_module": "@jupyter-widgets/controls",
            "children": [
              "IPY_MODEL_42ec10132bcd4b37a9b082a9edac4de8",
              "IPY_MODEL_2c66d0f003844e6fb7f5783664a09408",
              "IPY_MODEL_e95e9a382bd044b8b218a891bbcb8734"
            ]
          }
        },
        "5408dac9c69345cab14eaed948af3733": {
          "model_module": "@jupyter-widgets/base",
          "model_name": "LayoutModel",
          "model_module_version": "1.2.0",
          "state": {
            "_view_name": "LayoutView",
            "grid_template_rows": null,
            "right": null,
            "justify_content": null,
            "_view_module": "@jupyter-widgets/base",
            "overflow": null,
            "_model_module_version": "1.2.0",
            "_view_count": null,
            "flex_flow": null,
            "width": null,
            "min_width": null,
            "border": null,
            "align_items": null,
            "bottom": null,
            "_model_module": "@jupyter-widgets/base",
            "top": null,
            "grid_column": null,
            "overflow_y": null,
            "overflow_x": null,
            "grid_auto_flow": null,
            "grid_area": null,
            "grid_template_columns": null,
            "flex": null,
            "_model_name": "LayoutModel",
            "justify_items": null,
            "grid_row": null,
            "max_height": null,
            "align_content": null,
            "visibility": null,
            "align_self": null,
            "height": null,
            "min_height": null,
            "padding": null,
            "grid_auto_rows": null,
            "grid_gap": null,
            "max_width": null,
            "order": null,
            "_view_module_version": "1.2.0",
            "grid_template_areas": null,
            "object_position": null,
            "object_fit": null,
            "grid_auto_columns": null,
            "margin": null,
            "display": null,
            "left": null
          }
        },
        "42ec10132bcd4b37a9b082a9edac4de8": {
          "model_module": "@jupyter-widgets/controls",
          "model_name": "HTMLModel",
          "model_module_version": "1.5.0",
          "state": {
            "_view_name": "HTMLView",
            "style": "IPY_MODEL_820a9c3ffa8e4b51917a7d3489ecbb60",
            "_dom_classes": [],
            "description": "",
            "_model_name": "HTMLModel",
            "placeholder": "​",
            "_view_module": "@jupyter-widgets/controls",
            "_model_module_version": "1.5.0",
            "value": "100%",
            "_view_count": null,
            "_view_module_version": "1.5.0",
            "description_tooltip": null,
            "_model_module": "@jupyter-widgets/controls",
            "layout": "IPY_MODEL_ffbe93ccf00e427cbc7987aa98420e07"
          }
        },
        "2c66d0f003844e6fb7f5783664a09408": {
          "model_module": "@jupyter-widgets/controls",
          "model_name": "FloatProgressModel",
          "model_module_version": "1.5.0",
          "state": {
            "_view_name": "ProgressView",
            "style": "IPY_MODEL_39be985d5a4f4d50a86e09736b9fb84b",
            "_dom_classes": [],
            "description": "",
            "_model_name": "FloatProgressModel",
            "bar_style": "success",
            "max": 20,
            "_view_module": "@jupyter-widgets/controls",
            "_model_module_version": "1.5.0",
            "value": 20,
            "_view_count": null,
            "_view_module_version": "1.5.0",
            "orientation": "horizontal",
            "min": 0,
            "description_tooltip": null,
            "_model_module": "@jupyter-widgets/controls",
            "layout": "IPY_MODEL_d3b67895849a4fd98434eb9a766ab005"
          }
        },
        "e95e9a382bd044b8b218a891bbcb8734": {
          "model_module": "@jupyter-widgets/controls",
          "model_name": "HTMLModel",
          "model_module_version": "1.5.0",
          "state": {
            "_view_name": "HTMLView",
            "style": "IPY_MODEL_7fb7d6efed8c4a40bc27d60fd8d88b57",
            "_dom_classes": [],
            "description": "",
            "_model_name": "HTMLModel",
            "placeholder": "​",
            "_view_module": "@jupyter-widgets/controls",
            "_model_module_version": "1.5.0",
            "value": " 20/20 [00:29&lt;00:00,  3.66s/it]",
            "_view_count": null,
            "_view_module_version": "1.5.0",
            "description_tooltip": null,
            "_model_module": "@jupyter-widgets/controls",
            "layout": "IPY_MODEL_b4b91e55429148068d0436ce25b9b009"
          }
        },
        "820a9c3ffa8e4b51917a7d3489ecbb60": {
          "model_module": "@jupyter-widgets/controls",
          "model_name": "DescriptionStyleModel",
          "model_module_version": "1.5.0",
          "state": {
            "_view_name": "StyleView",
            "_model_name": "DescriptionStyleModel",
            "description_width": "",
            "_view_module": "@jupyter-widgets/base",
            "_model_module_version": "1.5.0",
            "_view_count": null,
            "_view_module_version": "1.2.0",
            "_model_module": "@jupyter-widgets/controls"
          }
        },
        "ffbe93ccf00e427cbc7987aa98420e07": {
          "model_module": "@jupyter-widgets/base",
          "model_name": "LayoutModel",
          "model_module_version": "1.2.0",
          "state": {
            "_view_name": "LayoutView",
            "grid_template_rows": null,
            "right": null,
            "justify_content": null,
            "_view_module": "@jupyter-widgets/base",
            "overflow": null,
            "_model_module_version": "1.2.0",
            "_view_count": null,
            "flex_flow": null,
            "width": null,
            "min_width": null,
            "border": null,
            "align_items": null,
            "bottom": null,
            "_model_module": "@jupyter-widgets/base",
            "top": null,
            "grid_column": null,
            "overflow_y": null,
            "overflow_x": null,
            "grid_auto_flow": null,
            "grid_area": null,
            "grid_template_columns": null,
            "flex": null,
            "_model_name": "LayoutModel",
            "justify_items": null,
            "grid_row": null,
            "max_height": null,
            "align_content": null,
            "visibility": null,
            "align_self": null,
            "height": null,
            "min_height": null,
            "padding": null,
            "grid_auto_rows": null,
            "grid_gap": null,
            "max_width": null,
            "order": null,
            "_view_module_version": "1.2.0",
            "grid_template_areas": null,
            "object_position": null,
            "object_fit": null,
            "grid_auto_columns": null,
            "margin": null,
            "display": null,
            "left": null
          }
        },
        "39be985d5a4f4d50a86e09736b9fb84b": {
          "model_module": "@jupyter-widgets/controls",
          "model_name": "ProgressStyleModel",
          "model_module_version": "1.5.0",
          "state": {
            "_view_name": "StyleView",
            "_model_name": "ProgressStyleModel",
            "description_width": "",
            "_view_module": "@jupyter-widgets/base",
            "_model_module_version": "1.5.0",
            "_view_count": null,
            "_view_module_version": "1.2.0",
            "bar_color": null,
            "_model_module": "@jupyter-widgets/controls"
          }
        },
        "d3b67895849a4fd98434eb9a766ab005": {
          "model_module": "@jupyter-widgets/base",
          "model_name": "LayoutModel",
          "model_module_version": "1.2.0",
          "state": {
            "_view_name": "LayoutView",
            "grid_template_rows": null,
            "right": null,
            "justify_content": null,
            "_view_module": "@jupyter-widgets/base",
            "overflow": null,
            "_model_module_version": "1.2.0",
            "_view_count": null,
            "flex_flow": null,
            "width": null,
            "min_width": null,
            "border": null,
            "align_items": null,
            "bottom": null,
            "_model_module": "@jupyter-widgets/base",
            "top": null,
            "grid_column": null,
            "overflow_y": null,
            "overflow_x": null,
            "grid_auto_flow": null,
            "grid_area": null,
            "grid_template_columns": null,
            "flex": null,
            "_model_name": "LayoutModel",
            "justify_items": null,
            "grid_row": null,
            "max_height": null,
            "align_content": null,
            "visibility": null,
            "align_self": null,
            "height": null,
            "min_height": null,
            "padding": null,
            "grid_auto_rows": null,
            "grid_gap": null,
            "max_width": null,
            "order": null,
            "_view_module_version": "1.2.0",
            "grid_template_areas": null,
            "object_position": null,
            "object_fit": null,
            "grid_auto_columns": null,
            "margin": null,
            "display": null,
            "left": null
          }
        },
        "7fb7d6efed8c4a40bc27d60fd8d88b57": {
          "model_module": "@jupyter-widgets/controls",
          "model_name": "DescriptionStyleModel",
          "model_module_version": "1.5.0",
          "state": {
            "_view_name": "StyleView",
            "_model_name": "DescriptionStyleModel",
            "description_width": "",
            "_view_module": "@jupyter-widgets/base",
            "_model_module_version": "1.5.0",
            "_view_count": null,
            "_view_module_version": "1.2.0",
            "_model_module": "@jupyter-widgets/controls"
          }
        },
        "b4b91e55429148068d0436ce25b9b009": {
          "model_module": "@jupyter-widgets/base",
          "model_name": "LayoutModel",
          "model_module_version": "1.2.0",
          "state": {
            "_view_name": "LayoutView",
            "grid_template_rows": null,
            "right": null,
            "justify_content": null,
            "_view_module": "@jupyter-widgets/base",
            "overflow": null,
            "_model_module_version": "1.2.0",
            "_view_count": null,
            "flex_flow": null,
            "width": null,
            "min_width": null,
            "border": null,
            "align_items": null,
            "bottom": null,
            "_model_module": "@jupyter-widgets/base",
            "top": null,
            "grid_column": null,
            "overflow_y": null,
            "overflow_x": null,
            "grid_auto_flow": null,
            "grid_area": null,
            "grid_template_columns": null,
            "flex": null,
            "_model_name": "LayoutModel",
            "justify_items": null,
            "grid_row": null,
            "max_height": null,
            "align_content": null,
            "visibility": null,
            "align_self": null,
            "height": null,
            "min_height": null,
            "padding": null,
            "grid_auto_rows": null,
            "grid_gap": null,
            "max_width": null,
            "order": null,
            "_view_module_version": "1.2.0",
            "grid_template_areas": null,
            "object_position": null,
            "object_fit": null,
            "grid_auto_columns": null,
            "margin": null,
            "display": null,
            "left": null
          }
        },
        "3d3c684af1454a579d86fd7f16bca516": {
          "model_module": "@jupyter-widgets/controls",
          "model_name": "HBoxModel",
          "model_module_version": "1.5.0",
          "state": {
            "_view_name": "HBoxView",
            "_dom_classes": [],
            "_model_name": "HBoxModel",
            "_view_module": "@jupyter-widgets/controls",
            "_model_module_version": "1.5.0",
            "_view_count": null,
            "_view_module_version": "1.5.0",
            "box_style": "",
            "layout": "IPY_MODEL_e523580edfe7461192422ad2e8f78cd5",
            "_model_module": "@jupyter-widgets/controls",
            "children": [
              "IPY_MODEL_6ceaffca10d642c6b10bf2672461f4a2",
              "IPY_MODEL_6707bdd2d5654089954f78b016abe0ff",
              "IPY_MODEL_8fa023dfe91a4906b0c31b42fa6e58d5"
            ]
          }
        },
        "e523580edfe7461192422ad2e8f78cd5": {
          "model_module": "@jupyter-widgets/base",
          "model_name": "LayoutModel",
          "model_module_version": "1.2.0",
          "state": {
            "_view_name": "LayoutView",
            "grid_template_rows": null,
            "right": null,
            "justify_content": null,
            "_view_module": "@jupyter-widgets/base",
            "overflow": null,
            "_model_module_version": "1.2.0",
            "_view_count": null,
            "flex_flow": null,
            "width": null,
            "min_width": null,
            "border": null,
            "align_items": null,
            "bottom": null,
            "_model_module": "@jupyter-widgets/base",
            "top": null,
            "grid_column": null,
            "overflow_y": null,
            "overflow_x": null,
            "grid_auto_flow": null,
            "grid_area": null,
            "grid_template_columns": null,
            "flex": null,
            "_model_name": "LayoutModel",
            "justify_items": null,
            "grid_row": null,
            "max_height": null,
            "align_content": null,
            "visibility": null,
            "align_self": null,
            "height": null,
            "min_height": null,
            "padding": null,
            "grid_auto_rows": null,
            "grid_gap": null,
            "max_width": null,
            "order": null,
            "_view_module_version": "1.2.0",
            "grid_template_areas": null,
            "object_position": null,
            "object_fit": null,
            "grid_auto_columns": null,
            "margin": null,
            "display": null,
            "left": null
          }
        },
        "6ceaffca10d642c6b10bf2672461f4a2": {
          "model_module": "@jupyter-widgets/controls",
          "model_name": "HTMLModel",
          "model_module_version": "1.5.0",
          "state": {
            "_view_name": "HTMLView",
            "style": "IPY_MODEL_a7b1d011eb634516b9eb2be0625044ad",
            "_dom_classes": [],
            "description": "",
            "_model_name": "HTMLModel",
            "placeholder": "​",
            "_view_module": "@jupyter-widgets/controls",
            "_model_module_version": "1.5.0",
            "value": "100%",
            "_view_count": null,
            "_view_module_version": "1.5.0",
            "description_tooltip": null,
            "_model_module": "@jupyter-widgets/controls",
            "layout": "IPY_MODEL_fe50e88dbb7b4578af8538c5f6c5077b"
          }
        },
        "6707bdd2d5654089954f78b016abe0ff": {
          "model_module": "@jupyter-widgets/controls",
          "model_name": "FloatProgressModel",
          "model_module_version": "1.5.0",
          "state": {
            "_view_name": "ProgressView",
            "style": "IPY_MODEL_09a118b3d4694e87a0d2559d65eed906",
            "_dom_classes": [],
            "description": "",
            "_model_name": "FloatProgressModel",
            "bar_style": "success",
            "max": 200,
            "_view_module": "@jupyter-widgets/controls",
            "_model_module_version": "1.5.0",
            "value": 200,
            "_view_count": null,
            "_view_module_version": "1.5.0",
            "orientation": "horizontal",
            "min": 0,
            "description_tooltip": null,
            "_model_module": "@jupyter-widgets/controls",
            "layout": "IPY_MODEL_495971cba78e46a7864e5f5c74c88297"
          }
        },
        "8fa023dfe91a4906b0c31b42fa6e58d5": {
          "model_module": "@jupyter-widgets/controls",
          "model_name": "HTMLModel",
          "model_module_version": "1.5.0",
          "state": {
            "_view_name": "HTMLView",
            "style": "IPY_MODEL_3d742cdf4a594da98278bd97ddccefcb",
            "_dom_classes": [],
            "description": "",
            "_model_name": "HTMLModel",
            "placeholder": "​",
            "_view_module": "@jupyter-widgets/controls",
            "_model_module_version": "1.5.0",
            "value": " 200/200 [01:36&lt;00:00,  2.13it/s]",
            "_view_count": null,
            "_view_module_version": "1.5.0",
            "description_tooltip": null,
            "_model_module": "@jupyter-widgets/controls",
            "layout": "IPY_MODEL_a7afb4d632f84fbb86e1ea68a2a88f66"
          }
        },
        "a7b1d011eb634516b9eb2be0625044ad": {
          "model_module": "@jupyter-widgets/controls",
          "model_name": "DescriptionStyleModel",
          "model_module_version": "1.5.0",
          "state": {
            "_view_name": "StyleView",
            "_model_name": "DescriptionStyleModel",
            "description_width": "",
            "_view_module": "@jupyter-widgets/base",
            "_model_module_version": "1.5.0",
            "_view_count": null,
            "_view_module_version": "1.2.0",
            "_model_module": "@jupyter-widgets/controls"
          }
        },
        "fe50e88dbb7b4578af8538c5f6c5077b": {
          "model_module": "@jupyter-widgets/base",
          "model_name": "LayoutModel",
          "model_module_version": "1.2.0",
          "state": {
            "_view_name": "LayoutView",
            "grid_template_rows": null,
            "right": null,
            "justify_content": null,
            "_view_module": "@jupyter-widgets/base",
            "overflow": null,
            "_model_module_version": "1.2.0",
            "_view_count": null,
            "flex_flow": null,
            "width": null,
            "min_width": null,
            "border": null,
            "align_items": null,
            "bottom": null,
            "_model_module": "@jupyter-widgets/base",
            "top": null,
            "grid_column": null,
            "overflow_y": null,
            "overflow_x": null,
            "grid_auto_flow": null,
            "grid_area": null,
            "grid_template_columns": null,
            "flex": null,
            "_model_name": "LayoutModel",
            "justify_items": null,
            "grid_row": null,
            "max_height": null,
            "align_content": null,
            "visibility": null,
            "align_self": null,
            "height": null,
            "min_height": null,
            "padding": null,
            "grid_auto_rows": null,
            "grid_gap": null,
            "max_width": null,
            "order": null,
            "_view_module_version": "1.2.0",
            "grid_template_areas": null,
            "object_position": null,
            "object_fit": null,
            "grid_auto_columns": null,
            "margin": null,
            "display": null,
            "left": null
          }
        },
        "09a118b3d4694e87a0d2559d65eed906": {
          "model_module": "@jupyter-widgets/controls",
          "model_name": "ProgressStyleModel",
          "model_module_version": "1.5.0",
          "state": {
            "_view_name": "StyleView",
            "_model_name": "ProgressStyleModel",
            "description_width": "",
            "_view_module": "@jupyter-widgets/base",
            "_model_module_version": "1.5.0",
            "_view_count": null,
            "_view_module_version": "1.2.0",
            "bar_color": null,
            "_model_module": "@jupyter-widgets/controls"
          }
        },
        "495971cba78e46a7864e5f5c74c88297": {
          "model_module": "@jupyter-widgets/base",
          "model_name": "LayoutModel",
          "model_module_version": "1.2.0",
          "state": {
            "_view_name": "LayoutView",
            "grid_template_rows": null,
            "right": null,
            "justify_content": null,
            "_view_module": "@jupyter-widgets/base",
            "overflow": null,
            "_model_module_version": "1.2.0",
            "_view_count": null,
            "flex_flow": null,
            "width": null,
            "min_width": null,
            "border": null,
            "align_items": null,
            "bottom": null,
            "_model_module": "@jupyter-widgets/base",
            "top": null,
            "grid_column": null,
            "overflow_y": null,
            "overflow_x": null,
            "grid_auto_flow": null,
            "grid_area": null,
            "grid_template_columns": null,
            "flex": null,
            "_model_name": "LayoutModel",
            "justify_items": null,
            "grid_row": null,
            "max_height": null,
            "align_content": null,
            "visibility": null,
            "align_self": null,
            "height": null,
            "min_height": null,
            "padding": null,
            "grid_auto_rows": null,
            "grid_gap": null,
            "max_width": null,
            "order": null,
            "_view_module_version": "1.2.0",
            "grid_template_areas": null,
            "object_position": null,
            "object_fit": null,
            "grid_auto_columns": null,
            "margin": null,
            "display": null,
            "left": null
          }
        },
        "3d742cdf4a594da98278bd97ddccefcb": {
          "model_module": "@jupyter-widgets/controls",
          "model_name": "DescriptionStyleModel",
          "model_module_version": "1.5.0",
          "state": {
            "_view_name": "StyleView",
            "_model_name": "DescriptionStyleModel",
            "description_width": "",
            "_view_module": "@jupyter-widgets/base",
            "_model_module_version": "1.5.0",
            "_view_count": null,
            "_view_module_version": "1.2.0",
            "_model_module": "@jupyter-widgets/controls"
          }
        },
        "a7afb4d632f84fbb86e1ea68a2a88f66": {
          "model_module": "@jupyter-widgets/base",
          "model_name": "LayoutModel",
          "model_module_version": "1.2.0",
          "state": {
            "_view_name": "LayoutView",
            "grid_template_rows": null,
            "right": null,
            "justify_content": null,
            "_view_module": "@jupyter-widgets/base",
            "overflow": null,
            "_model_module_version": "1.2.0",
            "_view_count": null,
            "flex_flow": null,
            "width": null,
            "min_width": null,
            "border": null,
            "align_items": null,
            "bottom": null,
            "_model_module": "@jupyter-widgets/base",
            "top": null,
            "grid_column": null,
            "overflow_y": null,
            "overflow_x": null,
            "grid_auto_flow": null,
            "grid_area": null,
            "grid_template_columns": null,
            "flex": null,
            "_model_name": "LayoutModel",
            "justify_items": null,
            "grid_row": null,
            "max_height": null,
            "align_content": null,
            "visibility": null,
            "align_self": null,
            "height": null,
            "min_height": null,
            "padding": null,
            "grid_auto_rows": null,
            "grid_gap": null,
            "max_width": null,
            "order": null,
            "_view_module_version": "1.2.0",
            "grid_template_areas": null,
            "object_position": null,
            "object_fit": null,
            "grid_auto_columns": null,
            "margin": null,
            "display": null,
            "left": null
          }
        },
        "6ff69440653348e78d428f1f9019b9da": {
          "model_module": "@jupyter-widgets/controls",
          "model_name": "HBoxModel",
          "model_module_version": "1.5.0",
          "state": {
            "_view_name": "HBoxView",
            "_dom_classes": [],
            "_model_name": "HBoxModel",
            "_view_module": "@jupyter-widgets/controls",
            "_model_module_version": "1.5.0",
            "_view_count": null,
            "_view_module_version": "1.5.0",
            "box_style": "",
            "layout": "IPY_MODEL_ea06668fa41042148f50b5fa14e472db",
            "_model_module": "@jupyter-widgets/controls",
            "children": [
              "IPY_MODEL_a06159b05f544c32ba28fbbfcf26c5f4",
              "IPY_MODEL_d15b7bd1eee444628d48afb019e65c38",
              "IPY_MODEL_341bac16a164432286d3fa10784bc07a"
            ]
          }
        },
        "ea06668fa41042148f50b5fa14e472db": {
          "model_module": "@jupyter-widgets/base",
          "model_name": "LayoutModel",
          "model_module_version": "1.2.0",
          "state": {
            "_view_name": "LayoutView",
            "grid_template_rows": null,
            "right": null,
            "justify_content": null,
            "_view_module": "@jupyter-widgets/base",
            "overflow": null,
            "_model_module_version": "1.2.0",
            "_view_count": null,
            "flex_flow": null,
            "width": null,
            "min_width": null,
            "border": null,
            "align_items": null,
            "bottom": null,
            "_model_module": "@jupyter-widgets/base",
            "top": null,
            "grid_column": null,
            "overflow_y": null,
            "overflow_x": null,
            "grid_auto_flow": null,
            "grid_area": null,
            "grid_template_columns": null,
            "flex": null,
            "_model_name": "LayoutModel",
            "justify_items": null,
            "grid_row": null,
            "max_height": null,
            "align_content": null,
            "visibility": null,
            "align_self": null,
            "height": null,
            "min_height": null,
            "padding": null,
            "grid_auto_rows": null,
            "grid_gap": null,
            "max_width": null,
            "order": null,
            "_view_module_version": "1.2.0",
            "grid_template_areas": null,
            "object_position": null,
            "object_fit": null,
            "grid_auto_columns": null,
            "margin": null,
            "display": null,
            "left": null
          }
        },
        "a06159b05f544c32ba28fbbfcf26c5f4": {
          "model_module": "@jupyter-widgets/controls",
          "model_name": "HTMLModel",
          "model_module_version": "1.5.0",
          "state": {
            "_view_name": "HTMLView",
            "style": "IPY_MODEL_e25319fe89fc4529bcaf8b29afb80ac0",
            "_dom_classes": [],
            "description": "",
            "_model_name": "HTMLModel",
            "placeholder": "​",
            "_view_module": "@jupyter-widgets/controls",
            "_model_module_version": "1.5.0",
            "value": "100%",
            "_view_count": null,
            "_view_module_version": "1.5.0",
            "description_tooltip": null,
            "_model_module": "@jupyter-widgets/controls",
            "layout": "IPY_MODEL_332ac999b5864ef8bcefff26ab399f27"
          }
        },
        "d15b7bd1eee444628d48afb019e65c38": {
          "model_module": "@jupyter-widgets/controls",
          "model_name": "FloatProgressModel",
          "model_module_version": "1.5.0",
          "state": {
            "_view_name": "ProgressView",
            "style": "IPY_MODEL_6a4ae5d367e34cc5950fd19a9efb5f95",
            "_dom_classes": [],
            "description": "",
            "_model_name": "FloatProgressModel",
            "bar_style": "success",
            "max": 200,
            "_view_module": "@jupyter-widgets/controls",
            "_model_module_version": "1.5.0",
            "value": 200,
            "_view_count": null,
            "_view_module_version": "1.5.0",
            "orientation": "horizontal",
            "min": 0,
            "description_tooltip": null,
            "_model_module": "@jupyter-widgets/controls",
            "layout": "IPY_MODEL_cbb513277d57417fa4ac2954f0886642"
          }
        },
        "341bac16a164432286d3fa10784bc07a": {
          "model_module": "@jupyter-widgets/controls",
          "model_name": "HTMLModel",
          "model_module_version": "1.5.0",
          "state": {
            "_view_name": "HTMLView",
            "style": "IPY_MODEL_c1cfaacffa634d00b5c606929a33961b",
            "_dom_classes": [],
            "description": "",
            "_model_name": "HTMLModel",
            "placeholder": "​",
            "_view_module": "@jupyter-widgets/controls",
            "_model_module_version": "1.5.0",
            "value": " 200/200 [01:13&lt;00:00,  2.83it/s]",
            "_view_count": null,
            "_view_module_version": "1.5.0",
            "description_tooltip": null,
            "_model_module": "@jupyter-widgets/controls",
            "layout": "IPY_MODEL_1375c7dd60b44e9c9e8763502bdf756a"
          }
        },
        "e25319fe89fc4529bcaf8b29afb80ac0": {
          "model_module": "@jupyter-widgets/controls",
          "model_name": "DescriptionStyleModel",
          "model_module_version": "1.5.0",
          "state": {
            "_view_name": "StyleView",
            "_model_name": "DescriptionStyleModel",
            "description_width": "",
            "_view_module": "@jupyter-widgets/base",
            "_model_module_version": "1.5.0",
            "_view_count": null,
            "_view_module_version": "1.2.0",
            "_model_module": "@jupyter-widgets/controls"
          }
        },
        "332ac999b5864ef8bcefff26ab399f27": {
          "model_module": "@jupyter-widgets/base",
          "model_name": "LayoutModel",
          "model_module_version": "1.2.0",
          "state": {
            "_view_name": "LayoutView",
            "grid_template_rows": null,
            "right": null,
            "justify_content": null,
            "_view_module": "@jupyter-widgets/base",
            "overflow": null,
            "_model_module_version": "1.2.0",
            "_view_count": null,
            "flex_flow": null,
            "width": null,
            "min_width": null,
            "border": null,
            "align_items": null,
            "bottom": null,
            "_model_module": "@jupyter-widgets/base",
            "top": null,
            "grid_column": null,
            "overflow_y": null,
            "overflow_x": null,
            "grid_auto_flow": null,
            "grid_area": null,
            "grid_template_columns": null,
            "flex": null,
            "_model_name": "LayoutModel",
            "justify_items": null,
            "grid_row": null,
            "max_height": null,
            "align_content": null,
            "visibility": null,
            "align_self": null,
            "height": null,
            "min_height": null,
            "padding": null,
            "grid_auto_rows": null,
            "grid_gap": null,
            "max_width": null,
            "order": null,
            "_view_module_version": "1.2.0",
            "grid_template_areas": null,
            "object_position": null,
            "object_fit": null,
            "grid_auto_columns": null,
            "margin": null,
            "display": null,
            "left": null
          }
        },
        "6a4ae5d367e34cc5950fd19a9efb5f95": {
          "model_module": "@jupyter-widgets/controls",
          "model_name": "ProgressStyleModel",
          "model_module_version": "1.5.0",
          "state": {
            "_view_name": "StyleView",
            "_model_name": "ProgressStyleModel",
            "description_width": "",
            "_view_module": "@jupyter-widgets/base",
            "_model_module_version": "1.5.0",
            "_view_count": null,
            "_view_module_version": "1.2.0",
            "bar_color": null,
            "_model_module": "@jupyter-widgets/controls"
          }
        },
        "cbb513277d57417fa4ac2954f0886642": {
          "model_module": "@jupyter-widgets/base",
          "model_name": "LayoutModel",
          "model_module_version": "1.2.0",
          "state": {
            "_view_name": "LayoutView",
            "grid_template_rows": null,
            "right": null,
            "justify_content": null,
            "_view_module": "@jupyter-widgets/base",
            "overflow": null,
            "_model_module_version": "1.2.0",
            "_view_count": null,
            "flex_flow": null,
            "width": null,
            "min_width": null,
            "border": null,
            "align_items": null,
            "bottom": null,
            "_model_module": "@jupyter-widgets/base",
            "top": null,
            "grid_column": null,
            "overflow_y": null,
            "overflow_x": null,
            "grid_auto_flow": null,
            "grid_area": null,
            "grid_template_columns": null,
            "flex": null,
            "_model_name": "LayoutModel",
            "justify_items": null,
            "grid_row": null,
            "max_height": null,
            "align_content": null,
            "visibility": null,
            "align_self": null,
            "height": null,
            "min_height": null,
            "padding": null,
            "grid_auto_rows": null,
            "grid_gap": null,
            "max_width": null,
            "order": null,
            "_view_module_version": "1.2.0",
            "grid_template_areas": null,
            "object_position": null,
            "object_fit": null,
            "grid_auto_columns": null,
            "margin": null,
            "display": null,
            "left": null
          }
        },
        "c1cfaacffa634d00b5c606929a33961b": {
          "model_module": "@jupyter-widgets/controls",
          "model_name": "DescriptionStyleModel",
          "model_module_version": "1.5.0",
          "state": {
            "_view_name": "StyleView",
            "_model_name": "DescriptionStyleModel",
            "description_width": "",
            "_view_module": "@jupyter-widgets/base",
            "_model_module_version": "1.5.0",
            "_view_count": null,
            "_view_module_version": "1.2.0",
            "_model_module": "@jupyter-widgets/controls"
          }
        },
        "1375c7dd60b44e9c9e8763502bdf756a": {
          "model_module": "@jupyter-widgets/base",
          "model_name": "LayoutModel",
          "model_module_version": "1.2.0",
          "state": {
            "_view_name": "LayoutView",
            "grid_template_rows": null,
            "right": null,
            "justify_content": null,
            "_view_module": "@jupyter-widgets/base",
            "overflow": null,
            "_model_module_version": "1.2.0",
            "_view_count": null,
            "flex_flow": null,
            "width": null,
            "min_width": null,
            "border": null,
            "align_items": null,
            "bottom": null,
            "_model_module": "@jupyter-widgets/base",
            "top": null,
            "grid_column": null,
            "overflow_y": null,
            "overflow_x": null,
            "grid_auto_flow": null,
            "grid_area": null,
            "grid_template_columns": null,
            "flex": null,
            "_model_name": "LayoutModel",
            "justify_items": null,
            "grid_row": null,
            "max_height": null,
            "align_content": null,
            "visibility": null,
            "align_self": null,
            "height": null,
            "min_height": null,
            "padding": null,
            "grid_auto_rows": null,
            "grid_gap": null,
            "max_width": null,
            "order": null,
            "_view_module_version": "1.2.0",
            "grid_template_areas": null,
            "object_position": null,
            "object_fit": null,
            "grid_auto_columns": null,
            "margin": null,
            "display": null,
            "left": null
          }
        },
        "b7d389ca525b4ff68b8b4dd7f4cb77df": {
          "model_module": "@jupyter-widgets/controls",
          "model_name": "HBoxModel",
          "model_module_version": "1.5.0",
          "state": {
            "_view_name": "HBoxView",
            "_dom_classes": [],
            "_model_name": "HBoxModel",
            "_view_module": "@jupyter-widgets/controls",
            "_model_module_version": "1.5.0",
            "_view_count": null,
            "_view_module_version": "1.5.0",
            "box_style": "",
            "layout": "IPY_MODEL_12a21d7cfb1e449c901d5e4ad2e2ac77",
            "_model_module": "@jupyter-widgets/controls",
            "children": [
              "IPY_MODEL_1ab0561a5ccb42ae9f0b99c23d27db81",
              "IPY_MODEL_e13e52b5800247cca8845c467b3db3cb",
              "IPY_MODEL_735a94c02e974b62a743ed85fa719c89"
            ]
          }
        },
        "12a21d7cfb1e449c901d5e4ad2e2ac77": {
          "model_module": "@jupyter-widgets/base",
          "model_name": "LayoutModel",
          "model_module_version": "1.2.0",
          "state": {
            "_view_name": "LayoutView",
            "grid_template_rows": null,
            "right": null,
            "justify_content": null,
            "_view_module": "@jupyter-widgets/base",
            "overflow": null,
            "_model_module_version": "1.2.0",
            "_view_count": null,
            "flex_flow": null,
            "width": null,
            "min_width": null,
            "border": null,
            "align_items": null,
            "bottom": null,
            "_model_module": "@jupyter-widgets/base",
            "top": null,
            "grid_column": null,
            "overflow_y": null,
            "overflow_x": null,
            "grid_auto_flow": null,
            "grid_area": null,
            "grid_template_columns": null,
            "flex": null,
            "_model_name": "LayoutModel",
            "justify_items": null,
            "grid_row": null,
            "max_height": null,
            "align_content": null,
            "visibility": null,
            "align_self": null,
            "height": null,
            "min_height": null,
            "padding": null,
            "grid_auto_rows": null,
            "grid_gap": null,
            "max_width": null,
            "order": null,
            "_view_module_version": "1.2.0",
            "grid_template_areas": null,
            "object_position": null,
            "object_fit": null,
            "grid_auto_columns": null,
            "margin": null,
            "display": null,
            "left": null
          }
        },
        "1ab0561a5ccb42ae9f0b99c23d27db81": {
          "model_module": "@jupyter-widgets/controls",
          "model_name": "HTMLModel",
          "model_module_version": "1.5.0",
          "state": {
            "_view_name": "HTMLView",
            "style": "IPY_MODEL_23b80e7a2f5341e78ac594f4f6e62c0f",
            "_dom_classes": [],
            "description": "",
            "_model_name": "HTMLModel",
            "placeholder": "​",
            "_view_module": "@jupyter-widgets/controls",
            "_model_module_version": "1.5.0",
            "value": "100%",
            "_view_count": null,
            "_view_module_version": "1.5.0",
            "description_tooltip": null,
            "_model_module": "@jupyter-widgets/controls",
            "layout": "IPY_MODEL_3d495c088e0242bf917600d5a8a76c46"
          }
        },
        "e13e52b5800247cca8845c467b3db3cb": {
          "model_module": "@jupyter-widgets/controls",
          "model_name": "FloatProgressModel",
          "model_module_version": "1.5.0",
          "state": {
            "_view_name": "ProgressView",
            "style": "IPY_MODEL_50895dfdf7964c7f8b9e121d7e91b0c2",
            "_dom_classes": [],
            "description": "",
            "_model_name": "FloatProgressModel",
            "bar_style": "success",
            "max": 200,
            "_view_module": "@jupyter-widgets/controls",
            "_model_module_version": "1.5.0",
            "value": 200,
            "_view_count": null,
            "_view_module_version": "1.5.0",
            "orientation": "horizontal",
            "min": 0,
            "description_tooltip": null,
            "_model_module": "@jupyter-widgets/controls",
            "layout": "IPY_MODEL_0d6a9e10e2344e1aa25a561b68347458"
          }
        },
        "735a94c02e974b62a743ed85fa719c89": {
          "model_module": "@jupyter-widgets/controls",
          "model_name": "HTMLModel",
          "model_module_version": "1.5.0",
          "state": {
            "_view_name": "HTMLView",
            "style": "IPY_MODEL_b442f1e21c5f47b4b7c20b0fb8f6a070",
            "_dom_classes": [],
            "description": "",
            "_model_name": "HTMLModel",
            "placeholder": "​",
            "_view_module": "@jupyter-widgets/controls",
            "_model_module_version": "1.5.0",
            "value": " 200/200 [01:14&lt;00:00,  2.82it/s]",
            "_view_count": null,
            "_view_module_version": "1.5.0",
            "description_tooltip": null,
            "_model_module": "@jupyter-widgets/controls",
            "layout": "IPY_MODEL_c29a4a843288497091cb640c9ee7ba0f"
          }
        },
        "23b80e7a2f5341e78ac594f4f6e62c0f": {
          "model_module": "@jupyter-widgets/controls",
          "model_name": "DescriptionStyleModel",
          "model_module_version": "1.5.0",
          "state": {
            "_view_name": "StyleView",
            "_model_name": "DescriptionStyleModel",
            "description_width": "",
            "_view_module": "@jupyter-widgets/base",
            "_model_module_version": "1.5.0",
            "_view_count": null,
            "_view_module_version": "1.2.0",
            "_model_module": "@jupyter-widgets/controls"
          }
        },
        "3d495c088e0242bf917600d5a8a76c46": {
          "model_module": "@jupyter-widgets/base",
          "model_name": "LayoutModel",
          "model_module_version": "1.2.0",
          "state": {
            "_view_name": "LayoutView",
            "grid_template_rows": null,
            "right": null,
            "justify_content": null,
            "_view_module": "@jupyter-widgets/base",
            "overflow": null,
            "_model_module_version": "1.2.0",
            "_view_count": null,
            "flex_flow": null,
            "width": null,
            "min_width": null,
            "border": null,
            "align_items": null,
            "bottom": null,
            "_model_module": "@jupyter-widgets/base",
            "top": null,
            "grid_column": null,
            "overflow_y": null,
            "overflow_x": null,
            "grid_auto_flow": null,
            "grid_area": null,
            "grid_template_columns": null,
            "flex": null,
            "_model_name": "LayoutModel",
            "justify_items": null,
            "grid_row": null,
            "max_height": null,
            "align_content": null,
            "visibility": null,
            "align_self": null,
            "height": null,
            "min_height": null,
            "padding": null,
            "grid_auto_rows": null,
            "grid_gap": null,
            "max_width": null,
            "order": null,
            "_view_module_version": "1.2.0",
            "grid_template_areas": null,
            "object_position": null,
            "object_fit": null,
            "grid_auto_columns": null,
            "margin": null,
            "display": null,
            "left": null
          }
        },
        "50895dfdf7964c7f8b9e121d7e91b0c2": {
          "model_module": "@jupyter-widgets/controls",
          "model_name": "ProgressStyleModel",
          "model_module_version": "1.5.0",
          "state": {
            "_view_name": "StyleView",
            "_model_name": "ProgressStyleModel",
            "description_width": "",
            "_view_module": "@jupyter-widgets/base",
            "_model_module_version": "1.5.0",
            "_view_count": null,
            "_view_module_version": "1.2.0",
            "bar_color": null,
            "_model_module": "@jupyter-widgets/controls"
          }
        },
        "0d6a9e10e2344e1aa25a561b68347458": {
          "model_module": "@jupyter-widgets/base",
          "model_name": "LayoutModel",
          "model_module_version": "1.2.0",
          "state": {
            "_view_name": "LayoutView",
            "grid_template_rows": null,
            "right": null,
            "justify_content": null,
            "_view_module": "@jupyter-widgets/base",
            "overflow": null,
            "_model_module_version": "1.2.0",
            "_view_count": null,
            "flex_flow": null,
            "width": null,
            "min_width": null,
            "border": null,
            "align_items": null,
            "bottom": null,
            "_model_module": "@jupyter-widgets/base",
            "top": null,
            "grid_column": null,
            "overflow_y": null,
            "overflow_x": null,
            "grid_auto_flow": null,
            "grid_area": null,
            "grid_template_columns": null,
            "flex": null,
            "_model_name": "LayoutModel",
            "justify_items": null,
            "grid_row": null,
            "max_height": null,
            "align_content": null,
            "visibility": null,
            "align_self": null,
            "height": null,
            "min_height": null,
            "padding": null,
            "grid_auto_rows": null,
            "grid_gap": null,
            "max_width": null,
            "order": null,
            "_view_module_version": "1.2.0",
            "grid_template_areas": null,
            "object_position": null,
            "object_fit": null,
            "grid_auto_columns": null,
            "margin": null,
            "display": null,
            "left": null
          }
        },
        "b442f1e21c5f47b4b7c20b0fb8f6a070": {
          "model_module": "@jupyter-widgets/controls",
          "model_name": "DescriptionStyleModel",
          "model_module_version": "1.5.0",
          "state": {
            "_view_name": "StyleView",
            "_model_name": "DescriptionStyleModel",
            "description_width": "",
            "_view_module": "@jupyter-widgets/base",
            "_model_module_version": "1.5.0",
            "_view_count": null,
            "_view_module_version": "1.2.0",
            "_model_module": "@jupyter-widgets/controls"
          }
        },
        "c29a4a843288497091cb640c9ee7ba0f": {
          "model_module": "@jupyter-widgets/base",
          "model_name": "LayoutModel",
          "model_module_version": "1.2.0",
          "state": {
            "_view_name": "LayoutView",
            "grid_template_rows": null,
            "right": null,
            "justify_content": null,
            "_view_module": "@jupyter-widgets/base",
            "overflow": null,
            "_model_module_version": "1.2.0",
            "_view_count": null,
            "flex_flow": null,
            "width": null,
            "min_width": null,
            "border": null,
            "align_items": null,
            "bottom": null,
            "_model_module": "@jupyter-widgets/base",
            "top": null,
            "grid_column": null,
            "overflow_y": null,
            "overflow_x": null,
            "grid_auto_flow": null,
            "grid_area": null,
            "grid_template_columns": null,
            "flex": null,
            "_model_name": "LayoutModel",
            "justify_items": null,
            "grid_row": null,
            "max_height": null,
            "align_content": null,
            "visibility": null,
            "align_self": null,
            "height": null,
            "min_height": null,
            "padding": null,
            "grid_auto_rows": null,
            "grid_gap": null,
            "max_width": null,
            "order": null,
            "_view_module_version": "1.2.0",
            "grid_template_areas": null,
            "object_position": null,
            "object_fit": null,
            "grid_auto_columns": null,
            "margin": null,
            "display": null,
            "left": null
          }
        }
      }
    }
  },
  "cells": [
    {
      "cell_type": "markdown",
      "metadata": {
        "id": "view-in-github",
        "colab_type": "text"
      },
      "source": [
        "<a href=\"https://colab.research.google.com/github/Albly/Numerical_Linear_Algebra/blob/main/hw2.ipynb\" target=\"_parent\"><img src=\"https://colab.research.google.com/assets/colab-badge.svg\" alt=\"Open In Colab\"/></a>"
      ]
    },
    {
      "cell_type": "markdown",
      "metadata": {
        "id": "t9v1vX4-OGIT"
      },
      "source": [
        "# Problem set 2 (45 + 50 + 33 + 15 = 143 pts)"
      ]
    },
    {
      "cell_type": "markdown",
      "metadata": {
        "id": "FOMNJ4TcOGIV"
      },
      "source": [
        "## Problem 1 (LU decomposition) 45 pts\n"
      ]
    },
    {
      "cell_type": "markdown",
      "metadata": {
        "id": "pYHDl6ppOGIV"
      },
      "source": [
        "### 1. LU  for band matrices and Cholesky decomposition (13 pts)\n",
        "\n",
        "The complexity to find an LU decomposition of a dense $n\\times n$ matrix is $\\mathcal{O}(n^3)$.\n",
        "Significant reduction in complexity can be achieved if the matrix has a certain structure, e.g. it is sparse. \n",
        "In the following task we consider an important example of $LU$ for a special type of matrices –– band matrices with top left entry equal to 1 and the bandwidth $m$ equal to 3 or 5 which called tridiagonal and pentadiagonal respectively. The bands may be ```[1, 2, 1]``` and ```[1, 1, 2, 1, 1]``` respectively\n",
        "\n",
        "- (4 pts) Write a function ```band_lu(diag_broadcast, n)``` which computes LU decomposition for tridiagonal or pentadiagonal matrix with top left entry equal to 1 with given diagonal bands. \n",
        "For example, input parametres ```(diag_broadcast = [1,2,1], n = 4)``` mean that we need to find LU decomposition for the triangular matrix of the form:\n",
        "\n",
        "$$A = \\begin{pmatrix}\n",
        "1 & 1 & 0 & 0\\\\\n",
        "1 & 2 & 1 & 0 \\\\\n",
        "0 & 1 & 2 & 1 \\\\\n",
        "0 & 0 & 1 & 2 \\\\\n",
        "\\end{pmatrix}.$$\n",
        "\n",
        "Provide the extensive testing of the implemented function that will works correctly for large $n$,  e.g. $n=100$.\n",
        "As an output it is considered to make ```L``` and ```U``` - 2D arrays representing diagonals in factors $L$ (```L[0]``` keeps first lower diagonal, ```L[1]``` keeps second lower, ...), and $U$ (```U[:,0]``` keeps main diagonal, ```U[:,1]``` keeps first upper, ...).\n",
        "\n",
        "- (2 pts) Compare execution time of the band LU decomposition using standard function from ```scipy```, i.e. which takes the whole matrix and does not know about its special structure, and band decomposition of yours implementation. Comment on the results.\n",
        "\n",
        "- (7 pts) Write a function ```cholesky(n)``` for computing Cholesky decomposition. It should take the the single argument - the matrix that will be factorized and return the single output - lower-triangular factor $L$. Think about the efficiency of your implementation and if necessary update it to achieve the best performance (eliminate Python loops, where it is possible and so on). Explicitly describe the difference with LU decomposition that reduces the complexity from $2n^3/3$ for LU to $n^3/3$ for Cholesky. \n",
        "Test the implemented function on the Pascal matrix of given size $n$ for $n = 5, 10, 50$. \n",
        "Pascal matrix is square matrix of the following form (here for $n=4$)\n",
        "$$P = \\begin{pmatrix}\n",
        "1 & 1 & 1 & 1\\\\\n",
        "1 & 2 & 3 & 4 \\\\\n",
        "1 & 3 & 6 & 10 \\\\\n",
        "1 & 4 & 10 & 20 \\\\\n",
        "\\end{pmatrix}.$$\n",
        "\n",
        "    [Here](https://en.wikipedia.org/wiki/Pascal_matrix) you can find more details about such matrices and analytical form for factor $L$ from Cholesky decomposition. Compare the result of your implementation with analytical expression in terms of some matrix norm of difference.  "
      ]
    },
    {
      "cell_type": "code",
      "metadata": {
        "id": "BvY7icWBOGIW"
      },
      "source": [
        "from scipy.sparse import diags # can be used with broadcasting of scalars if desired dimensions are large\n",
        "import scipy \n",
        "from scipy import linalg\n",
        "import numpy as np\n",
        "import warnings\n",
        "import matplotlib.pyplot as plt\n",
        "from numba import njit\n",
        "\n",
        "# INPUT : diag_broadcast - list of diagonals value to broadcast,length equal to 3 or 5; n - integer, band matrix shape.\n",
        "# OUTPUT : L - 2D np.ndarray, L.shape[0] depends on bandwidth, L.shape[1] = n-1, do not store main diagonal, where all ones;                  add zeros to the right side of rows to handle with changing length of diagonals.\n",
        "#          U - 2D np.ndarray, U.shape[0] = n, U.shape[1] depends on bandwidth;\n",
        "#              add zeros to the bottom of columns to handle with changing length of diagonals.\n",
        "\n",
        "@njit(fastmath=True)\n",
        "def band_lu(diag_broadcast, n):\n",
        "    # enter your code here\n",
        "    if len(diag_broadcast) ==3:\n",
        "        a_low_diag, a_diag, a_up_diag = diag_broadcast\n",
        "\n",
        "        L = np.zeros((1, n-1)) # prepare lower diagonal matrix \n",
        "        U = np.zeros((n, 2))   # prepare upper diag matrix\n",
        "\n",
        "        # do initialization\n",
        "        U[0][0] = 1     # Upper left entire \n",
        "        U[0:n-1, 1] = a_up_diag     # Upper diagonal elemetns for U matrix \n",
        "\n",
        "        for i in range(0, n-1):\n",
        "            if U[i,0] == 0:         # if diag entire == 0, cannot find LU because of zero division\n",
        "                print(\"LU doesn't exist. Nothing will be returned\")\n",
        "                return None         # finish with nothing\n",
        "\n",
        "            L[0,i] = a_low_diag / U[i,0]        # i-th lower diag element L matrix \n",
        "            U[i+1,0] = a_diag - L[0,i] * U[i,1] # i-th diag element of U matrix\n",
        "        return L,U \n",
        "\n",
        "    if len(diag_broadcast) == 5:\n",
        "        a_low_low_diag, a_low_diag, a_diag, a_up_diag, a_up_up_diag = diag_broadcast\n",
        "\n",
        "        L = np.zeros((2, n-1))  # L matrix with low_low_diag and low_diag\n",
        "        U = np.zeros((n, 3))    # U matrix with diag, up_diag, up_up_diag \n",
        "\n",
        "        # do initialization\n",
        "        U[0][0] = 1\n",
        "        U[0][1] = a_up_diag \n",
        "        U[0:n-2][2] = a_up_up_diag\n",
        "\n",
        "        for i in range(0, n-1):\n",
        "            if U[i,0] == 0:     # if zero then LU doesnt exist. \n",
        "                print(\"LU doesn't exist. Nothing will be returned\")\n",
        "                return None         # finish with nothing\n",
        "            \n",
        "            if i == 0:\n",
        "                L[1][i] = a_low_diag / U[i][0]              # low diag\n",
        "                U[i+1][0] = a_diag - L[1][i]*U[i][1]        # diag\n",
        "            \n",
        "            elif i >= 1 and i <= n-2:\n",
        "                L[0][i] = a_low_low_diag / U[i-1, 0]                    # low-low diag\n",
        "                L[1][i] = (a_low_diag - L[0][i]*U[i-1][1] / U[i,0])     # low diag\n",
        "                U[i+1][0] = a_diag - L[0][i]*U[i-1][2] - L[1,i] *U[i,1] # diag\n",
        "\n",
        "            if i <= n-3:\n",
        "                U[i+1, 1] = a_up_diag - L[1,i] * U[i,2]     # up diag\n",
        "        return L,U    \n",
        "    else:\n",
        "        print(\"Only 3 and 5 diag matrix works. Nothing will be returned\")\n",
        "        return None\n",
        "        \n",
        "#@njit(fastmath=True)\n",
        "def cholesky(A):\n",
        "    # enter your code here\n",
        "    L = np.zeros(A.shape, dtype = object)\n",
        "    n = A.shape[0]\n",
        "\n",
        "    # do initialization\n",
        "    L[0,0] = A[0,0]**0.5\n",
        "    L[1:n,0] = A[1:n,0] /L[0,0]\n",
        "\n",
        "    for i in range(1,n):\n",
        "        L[i][i] = (A[i,i] - sum( L[i,0:i]**2) )**0.5\n",
        "\n",
        "        for j in range( i+1 ,n ):\n",
        "            L[j][i] = (A[j,i] - sum(L[j,0:i] * L[i,0:i])) / L[i,i] \n",
        "    return L"
      ],
      "execution_count": null,
      "outputs": []
    },
    {
      "cell_type": "code",
      "metadata": {
        "id": "XVySYJbTOGIa"
      },
      "source": [
        "# Your solution is here\n",
        "def get_task_matrix(diag_broadcast,n):\n",
        "    '''Function wich generates matrices from task'''\n",
        "    if len(diag_broadcast) == 3:        \n",
        "        diags_pos  = [-1,0,1]\n",
        "    elif len(diag_broadcast) == 5:\n",
        "        diags_pos = [-2,-1,0,1,2]\n",
        "\n",
        "    A = diags(diag_broadcast,diags_pos, shape=(n,n)).toarray()\n",
        "    A[0,0] = 1\n",
        "    return A\n",
        "\n",
        "def to_dense(n,L,U, N_diags):\n",
        "    '''From our diag from transform L and U to dense usual form'''\n",
        "    if N_diags == 3:\n",
        "        L0 = np.eye(n) + diags(L[0,:], -1).toarray()\n",
        "        U0 = diags([U[:,0],U[:,1]],[0,1]).toarray()\n",
        "    \n",
        "    elif N_diags == 5:\n",
        "        L0 = np.eye(n) + diags([L[0,1:],L[1,:]], [-2,-1]).toarray()\n",
        "        U0 = diags([U[:,0],U[:,1],U[:,2]],[0,1,2]).toarray()\n",
        "\n",
        "    return L0, U0\n",
        "\n",
        "diag_broadcast, n = [6, 4, -2], 75\n",
        "\n",
        "L0,U0 = band_lu(np.array(diag_broadcast), n)"
      ],
      "execution_count": null,
      "outputs": []
    },
    {
      "cell_type": "code",
      "metadata": {
        "colab": {
          "base_uri": "https://localhost:8080/",
          "height": 545
        },
        "id": "qaxuED_K3AfT",
        "outputId": "17d804d2-2b69-4aff-bcbe-90195936204d"
      },
      "source": [
        "# Check matrices\n",
        "diag_broadcast, n = [1, 2, 1], 5\n",
        "A1 = get_task_matrix(diag_broadcast,n)\n",
        "plt.figure()\n",
        "plt.imshow(A1)\n",
        "plt.title('A1')\n",
        "plt.grid()\n",
        "plt.colorbar()\n",
        "diag_broadcast, n = [1, 1, 2, 1, 1], 7\n",
        "A2 = get_task_matrix(diag_broadcast,n)\n",
        "plt.figure()\n",
        "plt.imshow(A2)\n",
        "plt.title('A2')\n",
        "plt.colorbar()\n",
        "plt.grid()"
      ],
      "execution_count": null,
      "outputs": [
        {
          "output_type": "display_data",
          "data": {
            "image/png": "[encoded data removed]",
            "text/plain": [
              "<Figure size 432x288 with 2 Axes>"
            ]
          },
          "metadata": {
            "needs_background": "light"
          }
        },
        {
          "output_type": "display_data",
          "data": {
            "image/png": "[encoded data removed]",
            "text/plain": [
              "<Figure size 432x288 with 2 Axes>"
            ]
          },
          "metadata": {
            "needs_background": "light"
          }
        }
      ]
    },
    {
      "cell_type": "code",
      "metadata": {
        "colab": {
          "base_uri": "https://localhost:8080/"
        },
        "id": "IBNbAQ7x7ERe",
        "outputId": "4c528592-34ef-49e5-c9f4-1edfeabeba57"
      },
      "source": [
        "# Comparisson initial matrix with calculated from LU\n",
        "\n",
        "diag_broadcast = [1, 2, 1]\n",
        "n = 100\n",
        "test_matrix = get_task_matrix(diag_broadcast,n)\n",
        "L_band,U_band = band_lu(np.array(diag_broadcast), n)\n",
        "L, U = to_dense(n, L_band, U_band, 3)\n",
        "\n",
        "print('All correct :', np.isclose(test_matrix, L @ U).all())"
      ],
      "execution_count": null,
      "outputs": [
        {
          "output_type": "stream",
          "name": "stdout",
          "text": [
            "All correct : True\n"
          ]
        }
      ]
    },
    {
      "cell_type": "markdown",
      "metadata": {
        "id": "_a8RCy46E5PJ"
      },
      "source": [
        "---\n",
        "\n",
        "**1.1.2(2 pts) Compare execution time of the band LU decomposition using standard function from scipy, i.e. which takes the whole matrix and does not know about its special structure, and band decomposition of yours implementation. Comment on the results.**"
      ]
    },
    {
      "cell_type": "code",
      "metadata": {
        "colab": {
          "base_uri": "https://localhost:8080/",
          "height": 49,
          "referenced_widgets": [
            "5e41ebcb770942f38b69fd52bd0197ce",
            "4985b306fa6e447e8ab6f932e8f0ea1a",
            "350c36ca7c1c4eb4918198975857e8f9",
            "df05c73e71b3423697948cfc450004b8",
            "6752d091d94f496198b6a294e2d2524c",
            "53f36a44d9b342ebad348617f991207d",
            "1db019bc9703452c8f19f5a909a31deb",
            "93b44960e10e43d6915e0aba2ff91d79",
            "7e75548dd5784d48a3d18361a8240054",
            "93946bf72c734d17906de45c73aff24b",
            "822a454a2f91454b8ccd5aeb3c00b4c8"
          ]
        },
        "id": "H6mI_5vO8sWm",
        "outputId": "575278be-80bf-4632-eff8-8bcade058552"
      },
      "source": [
        "# Calculate time\n",
        "from tqdm.notebook import tqdm \n",
        "\n",
        "sizes = np.linspace(50, 5000, 30, dtype=int)\n",
        "\n",
        "diag_3_broadcast = np.array([1, 2, 1])\n",
        "diag_5_broadcast = np.array([1, 1, 2, 1, 3])\n",
        "\n",
        "band_lu_3 = []\n",
        "scipy_lu_3 = []\n",
        "band_lu_5 = []\n",
        "scipy_lu_5 = []\n",
        "\n",
        "for size in tqdm(sizes):\n",
        "    A3 = get_task_matrix(diag_3_broadcast, size)            \n",
        "    A5 = get_task_matrix(diag_5_broadcast, size)\n",
        "\n",
        "    time_band_3  = %timeit -o -q -n3 band_lu(diag_3_broadcast, size)\n",
        "    time_band_5  = %timeit -o -q -n3 band_lu(diag_5_broadcast, size)\n",
        "    time_scipy_3 = %timeit -o -q -n3 scipy.linalg.lu(A3 , permute_l=False) \n",
        "    time_scipy_5 = %timeit -o -q -n3 scipy.linalg.lu(A5 , permute_l=False) \n",
        "    \n",
        "    band_lu_3.append(time_band_3.best)\n",
        "    band_lu_5.append(time_band_5.best)\n",
        "    scipy_lu_3.append(time_scipy_3.best)\n",
        "    scipy_lu_5.append(time_scipy_5.best)"
      ],
      "execution_count": null,
      "outputs": [
        {
          "output_type": "display_data",
          "data": {
            "application/vnd.jupyter.widget-view+json": {
              "model_id": "5e41ebcb770942f38b69fd52bd0197ce",
              "version_minor": 0,
              "version_major": 2
            },
            "text/plain": [
              "  0%|          | 0/30 [00:00<?, ?it/s]"
            ]
          },
          "metadata": {}
        }
      ]
    },
    {
      "cell_type": "code",
      "metadata": {
        "colab": {
          "base_uri": "https://localhost:8080/",
          "height": 356
        },
        "id": "ZODNVMMjF99b",
        "outputId": "a2891276-4693-4556-9961-33b6382be3b8"
      },
      "source": [
        "import matplotlib.pyplot as plt\n",
        "\n",
        "plt.figure(figsize=(15,5))\n",
        "plt.subplot(1,2,1)\n",
        "plt.plot(sizes, band_lu_3,'.-', label = 'Band LU')\n",
        "plt.plot(sizes, scipy_lu_3,'.-', label = 'Scipy LU')\n",
        "plt.legend()\n",
        "plt.grid()\n",
        "plt.xlabel('Matrix size', fontsize =14)\n",
        "plt.ylabel('Execution time [s]',fontsize = 14)\n",
        "plt.yscale('log')\n",
        "plt.title('Execution time vs matrix size. Diags = 3', fontsize = 16)\n",
        "\n",
        "plt.subplot(1,2,2)\n",
        "plt.plot(sizes, band_lu_5,'.-', label = 'Band LU')\n",
        "plt.plot(sizes, scipy_lu_5,'.-', label = 'Scipy LU')\n",
        "plt.legend()\n",
        "plt.grid()\n",
        "plt.xlabel('Matrix size', fontsize =14)\n",
        "plt.ylabel('Execution time [s]',fontsize = 14)\n",
        "plt.yscale('log')\n",
        "plt.title('Execution time vs matrix size. Diags = 5', fontsize = 16)\n",
        "plt.show()"
      ],
      "execution_count": null,
      "outputs": [
        {
          "output_type": "display_data",
          "data": {
            "image/png": "[encoded data removed]",
            "text/plain": [
              "<Figure size 1080x360 with 2 Axes>"
            ]
          },
          "metadata": {
            "needs_background": "light"
          }
        }
      ]
    },
    {
      "cell_type": "markdown",
      "metadata": {
        "id": "Uk27YMZqAJnV"
      },
      "source": [
        "Finally, we can say that our band LU method works faster than scipy usual method. Complexity of our method is linear while scipy's is cubic."
      ]
    },
    {
      "cell_type": "markdown",
      "metadata": {
        "id": "7DSBejh1GvuL"
      },
      "source": [
        "___\n",
        "\n",
        "\n",
        "**1.1.3 (7 pts) Write a function ```cholesky(n)``` for computing Cholesky decomposition. It should take the the single argument - the matrix that will be factorized and return the single output - lower-triangular factor $L$. Think about the efficiency of your implementation and if necessary update it to achieve the best performance (eliminate Python loops, where it is possible and so on). Explicitly describe the difference with LU decomposition that reduces the complexity from $2n^3/3$ for LU to $n^3/3$ for Cholesky. \n",
        "Test the implemented function on the Pascal matrix of given size $n$ for $n = 5, 10, 50$. \n",
        "Pascal matrix is square matrix of the following form (here for $n=4$)\n",
        "$$P = \\begin{pmatrix}\n",
        "1 & 1 & 1 & 1\\\\\n",
        "1 & 2 & 3 & 4 \\\\\n",
        "1 & 3 & 6 & 10 \\\\\n",
        "1 & 4 & 10 & 20 \\\\\n",
        "\\end{pmatrix}.$$**"
      ]
    },
    {
      "cell_type": "code",
      "metadata": {
        "colab": {
          "base_uri": "https://localhost:8080/"
        },
        "id": "YP-gedCMApEd",
        "outputId": "49e305d5-3579-4a8c-8e28-9c3ac79d3389"
      },
      "source": [
        "n = 5\n",
        "P = scipy.linalg.pascal(n, kind='symmetric', exact = True)\n",
        "L = cholesky(P)\n",
        "print('Frobenius norm of difference with n = 5 is', np.sum(np.abs(L @ L.T - P)**2))\n",
        "# -----------------------------------------------------------------------------------\n",
        "n = 10\n",
        "P = scipy.linalg.pascal(n, kind='symmetric', exact = True)\n",
        "L = cholesky(P)\n",
        "print('Frobenius norm of difference with n = 10 is', np.sum(np.abs(L @ L.T - P)**2))\n",
        "# -----------------------------------------------------------------------------------\n",
        "n = 50\n",
        "P = scipy.linalg.pascal(n, kind = 'symmetric', exact = True)\n",
        "L = cholesky(P)\n",
        "print('Frobenius norm of difference with n = 50 is', np.sum(np.abs(L @ L.T - P)**2))"
      ],
      "execution_count": null,
      "outputs": [
        {
          "output_type": "stream",
          "name": "stdout",
          "text": [
            "Frobenius norm of difference with n = 5 is 0.0\n",
            "Frobenius norm of difference with n = 10 is 0.0\n",
            "Frobenius norm of difference with n = 50 is 0.011144022750634613\n"
          ]
        }
      ]
    },
    {
      "cell_type": "markdown",
      "metadata": {
        "id": "CA0FiUU-KP9w"
      },
      "source": [
        "**Compare the result of your implementation with analytical expression in terms of some matrix norm of difference.**"
      ]
    },
    {
      "cell_type": "markdown",
      "metadata": {
        "id": "c_z-0x34HTxx"
      },
      "source": [
        "Analytical expression can be calcualted as follows:\n",
        "$$\n",
        "L_{ij} = \\frac{i!}{j!(i-j)!}, j \\leq i, \\qquad i \\in [0,n-1]\n",
        "$$\n",
        "Lets use popular and well interpreted choise - Frobenius norm for difference calculation."
      ]
    },
    {
      "cell_type": "code",
      "metadata": {
        "colab": {
          "base_uri": "https://localhost:8080/"
        },
        "id": "pjjlzddvEnqX",
        "outputId": "c03fe55e-2f24-42c1-fdb0-5902a8c77d10"
      },
      "source": [
        "@njit(fastmath=True)\n",
        "def factorial(n):\n",
        "    return np.prod(np.arange(1,n+1))\n",
        "\n",
        "def L_analytical(n):\n",
        "    L = np.zeros((n,n), dtype=object)\n",
        "    for i in range(0, n):\n",
        "        for j in range(0, i+1):\n",
        "            L[i,j] = factorial(i) / factorial(j) / factorial(i-j)\n",
        "    return L\n",
        "\n",
        "n = 5\n",
        "P = scipy.linalg.pascal(n, kind='symmetric', exact=True)\n",
        "L = cholesky(P)\n",
        "L_a = L_analytical(n)\n",
        "print('Frobenius norm of difference with n = 5 is', np.sum(np.abs(L_a - L)**2))\n",
        "# -----------------------------------------------------------------------------------\n",
        "n = 10\n",
        "P = scipy.linalg.pascal(n, kind='symmetric', exact=True)\n",
        "L = cholesky(P)\n",
        "L_a = L_analytical(n)\n",
        "print('Frobenius norm of difference with n = 10 is', np.sum(np.abs(L_a - L)**2))\n",
        "# -----------------------------------------------------------------------------------\n",
        "n = 50\n",
        "P = scipy.linalg.pascal(n, kind='symmetric', exact=True)\n",
        "L = cholesky(P)\n",
        "L_a = L_analytical(n)\n",
        "print('Frobenius norm of difference with n = 50 is', np.sum(np.abs(L_a - L)**2)) # something scary"
      ],
      "execution_count": null,
      "outputs": [
        {
          "output_type": "stream",
          "name": "stdout",
          "text": [
            "Frobenius norm of difference with n = 5 is 0.0\n",
            "Frobenius norm of difference with n = 10 is 0.0\n",
            "Frobenius norm of difference with n = 50 is 3.7805734095298863e+28\n"
          ]
        }
      ]
    },
    {
      "cell_type": "markdown",
      "metadata": {
        "id": "_iM6NwHQOGId"
      },
      "source": [
        "### 2. Stability of LU (8 pts)\n"
      ]
    },
    {
      "cell_type": "markdown",
      "metadata": {
        "id": "f7Ko4unSK1oG"
      },
      "source": [
        "* **1.2.1(4 pts) Show, that for these  matrices $A$ and $B$ LU decomposition fails. Why does it happen?**\n",
        "\n",
        "$\n",
        "A = \\begin{pmatrix}\n",
        "0 & 1 \\\\\n",
        "2 & 3\n",
        "\\end{pmatrix}.$ \n",
        "\n",
        "$B = \\begin{pmatrix}\n",
        "1 & 1 & 0\\\\\n",
        "1 & 1 & 2 \\\\\n",
        "1 & 2 & 1\n",
        "\\end{pmatrix}.$ "
      ]
    },
    {
      "cell_type": "markdown",
      "metadata": {
        "id": "92WnKyKEK5Jc"
      },
      "source": [
        "Lets write the calculations:\n",
        "$$\n",
        "A = \\begin{pmatrix}\n",
        "0 & 1 \\\\\n",
        "2 & 3\n",
        "\\end{pmatrix}\n",
        "=\n",
        "LU\n",
        "=\n",
        "\\begin{pmatrix}\n",
        "l_{11} & 0 \\\\\n",
        "l_{21} & l_{22}\n",
        "\\end{pmatrix}\n",
        "\\begin{pmatrix}\n",
        "u_{11} & u_{12} \\\\\n",
        "0 & u_{22}\n",
        "\\end{pmatrix}\n",
        "=\n",
        "\\begin{pmatrix}\n",
        "l_{11}u_{11} & l_{11}u_{12} \\\\\n",
        "l_{21}u_{11} & l_{21}u_{12} + l_{11}u_{22}\n",
        "\\end{pmatrix}\n",
        "$$\n",
        "\n",
        "Finally we have system of equations:\n",
        "$$\n",
        " \\begin{cases}\n",
        " l_{11}u_{11} = 0\\\\\n",
        " l_{11}u_{12} = 1\\\\\n",
        " l_{21}u_{11} = 2\\\\\n",
        " l_{21}u_{12} + l_{11}u_{22} = 3\\\\\n",
        " \\end{cases}\n",
        "$$\n",
        "\n",
        "However first 3 equations are contradict with each other, that is the reason of the fail."
      ]
    },
    {
      "cell_type": "markdown",
      "metadata": {
        "id": "JA-0Qn9BL4N2"
      },
      "source": [
        "Lets do the same with second matrix:\n",
        "\n",
        "$$\n",
        "B = \\begin{pmatrix}\n",
        "1 & 1 & 0\\\\\n",
        "1 & 1 & 2 \\\\\n",
        "1 & 2 & 1\n",
        "\\end{pmatrix}\n",
        "=\n",
        "LU\n",
        "=\n",
        "\\begin{pmatrix}\n",
        "l_{11} & 0 & 0 \\\\\n",
        "l_{21} & l_{22} & 0 \\\\\n",
        "l_{31} & l_{32} & l_{33} \\\\\n",
        "\\end{pmatrix}\n",
        "\\begin{pmatrix}\n",
        "u_{11} & u_{12} & u_{13} \\\\\n",
        "0 & u_{22} & u_{23} \\\\\n",
        "0 & 0 & u_{33}\n",
        "\\end{pmatrix}\n",
        "=\n",
        "\\begin{pmatrix}\n",
        "l_{11}u_{11} & l_{11}u_{12} & l_{11}u_{13}\\\\\n",
        "l_{21}u_{11} & l_{21}u_{12} + l_{22}u_{22} & l_{21}u_{13} + l_{22}u_{23}\\\\\n",
        "l_{31}u_{11} & l_{31}u_{12} + l_{32}u_{22} & l_{31}u_{13} + l_{32}u_{23} + l_{33}u_{33}\\\\\n",
        "\\end{pmatrix}\n",
        "$$ \n",
        "\n",
        "After obvious simplifications we will get following system of equations:\n",
        "$$\n",
        "\\begin{cases}\n",
        "l_{22}u_{22} = 0\\\\\n",
        "l_{22}u_{23} = 2\\\\\n",
        "l_{32}u_{22} = 1\\\\\n",
        "l_{32}u_{23} + l_{33}u_{33} = 1\\\\\n",
        "\\end{cases}\n",
        "$$\n",
        "And again we have here contradictions with terms $l_{22}$ or $u_{22}$"
      ]
    },
    {
      "cell_type": "markdown",
      "metadata": {
        "id": "GdDCPwzrNdKL"
      },
      "source": [
        "---\n",
        "\n",
        "* **(4 pts) In the LU decomposition, a pivot position is a position of the element that identifies the row and column that will be eliminated in the current step. For example, first pivot in LU is usually the left top element. What value of $c$ leads to zero in the second pivot position? What $c$ produces zero in the third pivot position? What modification of LU should we use in order to address the possible zeros in pivot position?**\n",
        "\n",
        "$A = \\begin{pmatrix}\n",
        "1 & c & 0\\\\\n",
        "2 & 4 & 1 \\\\\n",
        "3 & 5 & 1\n",
        "\\end{pmatrix}.$ "
      ]
    },
    {
      "cell_type": "markdown",
      "metadata": {
        "id": "CisQpX16OyDk"
      },
      "source": [
        "Assume the main daigonal of $L$ consists of 1, then lets write lu decomposition for matrix $A$:\n",
        "$$\n",
        "A = \n",
        "LU\n",
        "=\n",
        "\\begin{pmatrix}\n",
        "1 & c & 0\\\\\n",
        "2 & 4 & 1 \\\\\n",
        "3 & 5 & 1\n",
        "\\end{pmatrix}\n",
        "=\n",
        "\\begin{pmatrix}\n",
        "1 & 0 & 0 \\\\\n",
        "l_{21} & 1 & 0 \\\\\n",
        "l_{31} & l_{32} & 1 \\\\\n",
        "\\end{pmatrix}\n",
        "\\begin{pmatrix}\n",
        "u_{11} & u_{12} & u_{13} \\\\\n",
        "0 & u_{22} & u_{23} \\\\\n",
        "0 & 0 & u_{33}\n",
        "\\end{pmatrix}\n",
        "$$\n",
        "\n",
        "Now we can say that $u_{11} = 1, u_{12} = c, u_{13} = 0$. Then we can find that $l_{21} = 2$ as $l_{21}u_{11} = 2$. Then we can find that $u_{22} = 4-2c$, from $l_{21}u_{12}+u_{22} = 4$. \n",
        "So, $u_{22}$ is the second pivot. Lets make it equal to 0, then $c=2$. \n",
        "\n",
        "Now we can find:\n",
        "\n",
        "$u_{23} =1 \\quad$ from $l_{21}u_{12}+u_{23}=1$\n",
        "\n",
        "$l_{31} = 3$ $\\quad$ from $l_{31}u_{11} = 3$\n",
        "\n",
        "$l_{32} = \\frac{5-3c}{4-2c} \\quad$ from $l_{31}u_{12}+l_{32}u_{22} = 5$\n",
        "\n",
        "$u_{33} = \\frac{c-1}{4-2c} \\quad$ from $l_{31}u_{13}+l_{32}u_{23}+u_{33} = 1$\n",
        "\n",
        "And $u_{33}$ is the third pivot Making it equal to 0 makes $c = 1$.\n",
        "\n",
        "Finally, $c = 1$ makes 0 in third pivot, and $c=2$ makes zero in second pivot\n",
        "\n",
        "----"
      ]
    },
    {
      "cell_type": "code",
      "metadata": {
        "id": "CmkB9hxwOGId"
      },
      "source": [
        "# Your solution is here"
      ],
      "execution_count": null,
      "outputs": []
    },
    {
      "cell_type": "markdown",
      "metadata": {
        "id": "YFc3BR_TOGIj"
      },
      "source": [
        "### 3. Implementation of PLU decomposition (14 pts)\n",
        "\n",
        "As you have noticed before, LU decomposition may fail. In order to make it stable, we can use LU decomposition with pivoting  (PLU).\n",
        "\n",
        "We want to find such permutation matrix $P$ that LU decomposition of $PA$ exists\n",
        "\n",
        "$$ PA = LU $$\n",
        "\n",
        "- (7 pts) Implement efficiently PLU decomposition (without loops and with appropriate level of BLAS operations).  Also, pay attention to the way of permutation matrix storage.\n",
        "\n",
        "- (4 pts ) Compare your function for computing PLU with built-in function on matrices of such type ```(mirror_diag = [1,2,1], n = 4)```. (Bandwidth and matrix size may vary). So, you can pass them as dense 2D NumPy array and do not tune your implementation to this special structure. Compare them in terms of running time (use ```%timeit``` magic) for range of dimensions to recover the asymptotic rate of time increasing and in terms of acuracy. We expect you plot the running time vs matrix dimension for built-in function and your implementation. So you should get the plot with two lines.\n",
        "Consider additionally one of the pathological examples from above, where LU fails, but PLU has to work.\n",
        "\n",
        "\n",
        "$$A = \\begin{pmatrix}\n",
        "0 & 0 & 1 & 1 \\\\\n",
        " 0 &1 & 2 & 1  \\\\\n",
        " 1 & 2 & 1  & 0\\\\\n",
        "1 & 2  & 0 & 0  \\\\\n",
        "\\end{pmatrix}.$$\n",
        "\n",
        "\n",
        "- (3 pts) Discuss the obtained results and explain how is it possible to accelerate computing the PLU factorization. \n",
        "\n",
        "NumPy or JAX are both ok in this problem, but please use the single library for all implementations. "
      ]
    },
    {
      "cell_type": "markdown",
      "metadata": {
        "id": "2b8C-6BpU-_N"
      },
      "source": [
        "**1.3.1 (7 pts) Implement efficiently PLU decomposition (without loops and with appropriate level of BLAS operations). Also, pay attention to the way of permutation matrix storage.**"
      ]
    },
    {
      "cell_type": "code",
      "metadata": {
        "id": "32HpfOPMOGIg"
      },
      "source": [
        "# Your solution is here\n",
        "@njit(fastmath = True)\n",
        "def LUP(A):\n",
        "    A = np.copy(A)\n",
        "    n = A.shape[0]\n",
        "    p = np.arange(0,n)  # permutation vec\n",
        "    \n",
        "    for i in range(n-1):\n",
        "        pivot_idx = np.argmax(np.abs(A[i:n,i]))+ i    # find pivot index\n",
        "        pivot_val = np.abs(A[pivot_idx,i])            # find pivot value\n",
        "        if pivot_val != 0:\n",
        "            p[i],p[pivot_idx] = p[pivot_idx],p[i]     # replace rows of p\n",
        "            A[i,:],A[pivot_idx,:] = np.copy(A[pivot_idx,:]),np.copy(A[i,:])\n",
        "            \n",
        "            # LU decomposition\n",
        "            for j in range(i+1, n):\n",
        "                A[j,i] = A[j,i] / A[i,i]\n",
        "                A[j,i+1:n] = A[j,i+1:n] - A[j,i] * A[i,i+1:n]\n",
        "        else:\n",
        "            print('Pivot is equal to 0. LUP does not exixst')\n",
        "            return None\n",
        "    L = np.tril(A,k=-1) + np.eye(n) \n",
        "    U = np.triu(A)\n",
        "    P = np.eye(n)[:,p]      # reconstruct permutation matrix\n",
        "    return P,L,U"
      ],
      "execution_count": null,
      "outputs": []
    },
    {
      "cell_type": "code",
      "metadata": {
        "colab": {
          "base_uri": "https://localhost:8080/"
        },
        "id": "KwLEYoarTb7m",
        "outputId": "e24d28d8-ed66-450c-b815-dddf5ce13bb7"
      },
      "source": [
        "# Checking \n",
        "n = 99\n",
        "A = np.random.randn(n,n)\n",
        "P,L,U = LUP(A)\n",
        "\n",
        "print('All correct: ',np.isclose(P @ L @ U,A).all())"
      ],
      "execution_count": null,
      "outputs": [
        {
          "output_type": "stream",
          "name": "stdout",
          "text": [
            "All correct:  True\n"
          ]
        }
      ]
    },
    {
      "cell_type": "markdown",
      "metadata": {
        "id": "-B5W2yz3VVfo"
      },
      "source": [
        "- 1.3.2 (4 pts ) Compare your function for computing PLU with built-in function on matrices of such type ```(mirror_diag = [1,2,1], n = 4)```. (Bandwidth and matrix size may vary). So, you can pass them as dense 2D NumPy array and do not tune your implementation to this special structure. Compare them in terms of running time (use ```%timeit``` magic) for range of dimensions to recover the asymptotic rate of time increasing and in terms of acuracy. We expect you plot the running time vs matrix dimension for built-in function and your implementation. So you should get the plot with two lines.\n",
        "Consider additionally one of the pathological examples from above, where LU fails, but PLU has to work\n",
        "\n",
        "\n",
        "$$A = \\begin{pmatrix}\n",
        "0 & 0 & 1 & 1 \\\\\n",
        " 0 &1 & 2 & 1  \\\\\n",
        " 1 & 2 & 1  & 0\\\\\n",
        "1 & 2  & 0 & 0  \\\\\n",
        "\\end{pmatrix}.$$"
      ]
    },
    {
      "cell_type": "code",
      "metadata": {
        "colab": {
          "base_uri": "https://localhost:8080/",
          "height": 388,
          "referenced_widgets": [
            "947ce30deda04067a6f31d76c0773e89",
            "5408dac9c69345cab14eaed948af3733",
            "42ec10132bcd4b37a9b082a9edac4de8",
            "2c66d0f003844e6fb7f5783664a09408",
            "e95e9a382bd044b8b218a891bbcb8734",
            "820a9c3ffa8e4b51917a7d3489ecbb60",
            "ffbe93ccf00e427cbc7987aa98420e07",
            "39be985d5a4f4d50a86e09736b9fb84b",
            "d3b67895849a4fd98434eb9a766ab005",
            "7fb7d6efed8c4a40bc27d60fd8d88b57",
            "b4b91e55429148068d0436ce25b9b009"
          ]
        },
        "id": "dqinoVX4VSyo",
        "outputId": "b8b42bab-c059-4822-b615-3b90bac42363"
      },
      "source": [
        "def get_matrix(diag_broadcast, n):\n",
        "    l = len(diag_broadcast)\n",
        "    diag = []\n",
        "    for i in range(l):\n",
        "        diag.append(int(i-(l-1)/2))\n",
        "\n",
        "    A = diags(diag_broadcast, diag, shape = (n,n)).toarray()\n",
        "    return A\n",
        "\n",
        "\n",
        "sizes = np.linspace(50, 1000, num = 20, dtype=int)\n",
        "diag_brodcast = [1,2,1]\n",
        "\n",
        "lup_times = []\n",
        "scipy_times = []\n",
        "\n",
        "for size in tqdm(sizes):\n",
        "    A = get_matrix(diag_broadcast, size)\n",
        "    \n",
        "    lup_time = %timeit -o -q -n3 LUP(A)\n",
        "    scipy_time = %timeit -o -q -n3 scipy.linalg.lu(A)\n",
        "    lup_times.append(lup_time.best)\n",
        "    scipy_times.append(scipy_time.best)\n",
        "    \n",
        "\n",
        "plt.figure(figsize=(10,5))\n",
        "plt.plot(sizes ,lup_times, '.-', label = 'LUP')\n",
        "plt.plot(sizes, scipy_times, '.-', label ='Scipy LUP')\n",
        "plt.yscale(\"log\")\n",
        "plt.xlabel('Size of matrix', fontsize = 14)\n",
        "plt.ylabel('Execution time [s]', fontsize = 14)\n",
        "plt.title('Execution time vs matrix size for LUP', fontsize =16)\n",
        "plt.legend()\n",
        "plt.grid()\n",
        "plt.show()\n"
      ],
      "execution_count": null,
      "outputs": [
        {
          "output_type": "display_data",
          "data": {
            "application/vnd.jupyter.widget-view+json": {
              "model_id": "947ce30deda04067a6f31d76c0773e89",
              "version_minor": 0,
              "version_major": 2
            },
            "text/plain": [
              "  0%|          | 0/20 [00:00<?, ?it/s]"
            ]
          },
          "metadata": {}
        },
        {
          "output_type": "display_data",
          "data": {
            "image/png": "[encoded data removed]",
            "text/plain": [
              "<Figure size 720x360 with 1 Axes>"
            ]
          },
          "metadata": {
            "needs_background": "light"
          }
        }
      ]
    },
    {
      "cell_type": "markdown",
      "metadata": {
        "id": "Syrq44mqVsTQ"
      },
      "source": [
        "Cases where usual LU failed:"
      ]
    },
    {
      "cell_type": "code",
      "metadata": {
        "colab": {
          "base_uri": "https://localhost:8080/"
        },
        "id": "5I5ScPBEYZrx",
        "outputId": "8cbe9bcd-e00c-4e10-fb7c-432b37160f46"
      },
      "source": [
        "A = np.array([[0,0,1,1],\n",
        "              [0,1,2,1],\n",
        "              [1,2,1,0],\n",
        "              [1,1,0,0]])\n",
        "\n",
        "P,L,U = LUP(A)\n",
        "print('All correct:', np.isclose(P @ L @ U, A).all())"
      ],
      "execution_count": null,
      "outputs": [
        {
          "output_type": "stream",
          "name": "stdout",
          "text": [
            "All correct: True\n"
          ]
        }
      ]
    },
    {
      "cell_type": "code",
      "metadata": {
        "colab": {
          "base_uri": "https://localhost:8080/"
        },
        "id": "PJuzzbjzaFsc",
        "outputId": "55695230-73d2-483b-fb19-c796fbfddf37"
      },
      "source": [
        "diag_broadcast, n = [1, 1, 2, 1, 1], 7\n",
        "A = get_task_matrix(diag_broadcast,n)\n",
        "P,L,U = LUP(A)\n",
        "print('All correct: ',np.isclose(P @ L @ U, A).all())"
      ],
      "execution_count": null,
      "outputs": [
        {
          "output_type": "stream",
          "name": "stdout",
          "text": [
            "All correct:  True\n"
          ]
        }
      ]
    },
    {
      "cell_type": "code",
      "metadata": {
        "colab": {
          "base_uri": "https://localhost:8080/"
        },
        "id": "EsCa9J5Baxd6",
        "outputId": "ef357668-7445-46d9-c65e-909567a7ca1d"
      },
      "source": [
        "c = 2\n",
        "A = np.array([[1,c,0],\n",
        "            [2,4,1],\n",
        "            [3,5,1]],dtype=np.float32)\n",
        "\n",
        "P,L,U = LUP(A)\n",
        "print('All correct: ', np.isclose(P @ L @ U,A).all())"
      ],
      "execution_count": null,
      "outputs": [
        {
          "output_type": "stream",
          "name": "stdout",
          "text": [
            "All correct:  True\n"
          ]
        }
      ]
    },
    {
      "cell_type": "markdown",
      "metadata": {
        "id": "uY0qTK5LWWwG"
      },
      "source": [
        "---\n",
        "\n",
        "**1.3.3 (3 pts) Discuss the obtained results and explain how is it possible to accelerate computing the PLU factorization.**\n",
        "According to obtained results, implemented function is slower than scipy implementation. I tried to use jit, but it doesn't help to beat the scipy function. Seems to me that we should ommit somehow loops to increase performance.\n",
        "\n",
        "---"
      ]
    },
    {
      "cell_type": "markdown",
      "metadata": {
        "id": "EQwdRJSIOGIg"
      },
      "source": [
        "### 4. Block LU (10 pts)\n",
        "\n",
        "Let $A = \\begin{bmatrix} A_{11} & A_{12} \\\\ A_{21} & A_{22} \\end{bmatrix}$ be a block matrix. The goal is to solve the linear system\n",
        "\n",
        "$$\n",
        "     \\begin{bmatrix} A_{11} & A_{12} \\\\ A_{21} & A_{22} \\end{bmatrix} \\begin{bmatrix} u_1 \\\\ u_2 \\end{bmatrix} = \\begin{bmatrix} f_1 \\\\ f_2 \\end{bmatrix}.\n",
        "$$\n",
        "\n",
        "* (2 pts) Using block elimination find matrix $S$ and right-hand side $\\hat{f_2}$ so that $u_2$ can be found from $S u_2 = \\hat{f_2}$. Note that the matrix $S$ is called <span style=\"color:red\">Schur complement</span> of the block $A_{11}$.\n",
        "* (4 pts) Using Schur complement properties prove that \n",
        "\n",
        "$$\\det(X+AB) = \\det(X)\\det(I+BX^{-1}A), $$\n",
        "\n",
        "\n",
        "where $X$ - nonsingular square matrix.\n",
        "* (4 pts) Let matrix $F \\in \\mathbb{R}^{m \\times n}$ and $G \\in \\mathbb{R}^{n \\times m}$. Prove that \n",
        "\n",
        "$$\\det(I_m - FG) = \\det(I_n - GF).$$"
      ]
    },
    {
      "cell_type": "markdown",
      "metadata": {
        "id": "RmAMEdJMcQuG"
      },
      "source": [
        "---"
      ]
    },
    {
      "cell_type": "markdown",
      "metadata": {
        "id": "pu8YuAkgaj2d"
      },
      "source": [
        "\n",
        "* 1.4.1 (2 pts) Using block elimination find matrix $S$ and right-hand side $\\hat{f_2}$ so that $u_2$ can be found from $S u_2 = \\hat{f_2}$. Note that the matrix $S$ is called <span style=\"color:red\">Schur complement</span> of the block $A_{11}$."
      ]
    },
    {
      "cell_type": "markdown",
      "metadata": {
        "id": "d-cHZB-Ta4CM"
      },
      "source": [
        "Consider Schur complement: $S = A_{22} - A_{21}A_{11}^{-1}A_{12}$, we can rewrite the system of equations as follows:\n",
        "$$\n",
        " \\begin{cases}\n",
        "   A_{11} u_1 + A_{12} u_2 = f_1\\\\\n",
        "   A_{21} u_1 + A_{22} u_2 = f_2\\\\\n",
        " \\end{cases}\n",
        "$$\n",
        "We have to multiply first equation by $ A_{21}A_{11}^{-1}$, then we will get:\n",
        "\n",
        "$$\n",
        " \\begin{cases}\n",
        "   A_{21}A_{11}^{-1} A_{11} u_1 + A_{21}A_{11}^{-1} A_{12} u_2 = f_1A_{21}A_{11}^{-1}\\\\\n",
        "   A_{21} u_1 + A_{22} u_2 = f_2\\\\\n",
        " \\end{cases}\n",
        "\\Rightarrow\n",
        " \\begin{cases}\n",
        "   A_{21} u_1 + A_{21}A_{11}^{-1} A_{12} u_2 = A_{21}A_{11}^{-1} f_1 \\\\\n",
        "   A_{21} u_1 + A_{22} u_2 = f_2 \\\\\n",
        " \\end{cases}\n",
        "$$\n",
        "\n",
        "Finally we can subtract the first equation from the second one and get: \n",
        "$$\n",
        "(A_{22} - A_{21}A_{11}^{-1} A_{12})u_2 = f_2 - A_{21}A_{11}^{-1} f_1 \\Rightarrow S u_2 = \\hat{f_2}\n",
        "$$\n",
        "\n",
        "----"
      ]
    },
    {
      "cell_type": "markdown",
      "metadata": {
        "id": "gtosLRpCcXhY"
      },
      "source": [
        "* 1.4.2 (4 pts) Using Schur complement properties prove that \n",
        "\n",
        "$$\\det(X+AB) = \\det(X)\\det(I+BX^{-1}A), $$\n",
        "\n",
        "\n",
        "where $X$ - nonsingular square matrix."
      ]
    },
    {
      "cell_type": "markdown",
      "metadata": {
        "id": "-BD1L3SGcY7_"
      },
      "source": [
        "Lets consider Schur complement determinant property for the such matrix:\n",
        "\n",
        "$ S = \\begin{bmatrix} A & B \\\\ C & D \\end{bmatrix} $\n",
        "\n",
        "Here we have 2 equalities which are: \n",
        "$$\n",
        "\\det(S) = \\det(A) \\det(D - CA^{-1}B) = \\det(D) \\det(A - BD^{-1}C)\n",
        "$$\n",
        "\n",
        "Lets rewrite right part: \n",
        "$$\n",
        "\\det(X)\\det(I+BX^{-1}A) = \\det(I)\\det(X+AI^{-1}B) = \\det(X+AB)\n",
        "$$ \n",
        "\n",
        "---\n"
      ]
    },
    {
      "cell_type": "markdown",
      "metadata": {
        "id": "cBj4x0v7d3sV"
      },
      "source": [
        "* (4 pts) Let matrix $F \\in \\mathbb{R}^{m \\times n}$ and $G \\in \\mathbb{R}^{n \\times m}$. Prove that \n",
        "\n",
        "$$\\det(I_m - FG) = \\det(I_n - GF).$$\n"
      ]
    },
    {
      "cell_type": "markdown",
      "metadata": {
        "id": "TG8xDLBud7-L"
      },
      "source": [
        "Since we can write that $\\det(I_n) = 1$ and $FI_n^{-1}G = FG$ then we simply can get that $\\det(I_m - FG) = \\det{(I_n)}\\det(I_m - FI_n^{-1}G)$\n",
        "\n",
        "Now, lets use Schur compliment property:\n",
        "$ S = \\begin{bmatrix} A & B \\\\ C & D \\end{bmatrix} $\n",
        "\n",
        "We have such 2 equalities:\n",
        "$$\n",
        "\\det(S) = \\det(A) \\det(D - CA^{-1}B) = \\det(D) \\det(A - BD^{-1}C)\n",
        "$$\n",
        "Now we again can use the fact that $\\det{(I_m)} = 1$ and $GI_m^{-1}F = GF$ to get such equation:\n",
        "$$\n",
        "\\det{(I_n)}\\det(I_m - FI_n^{-1}G) = \\det{(I_m)}\\det(I_n - GI_m^{-1}F) = \\det(I_n - GF)\n",
        "$$\n",
        "And finally, we can see that:\n",
        "$$\n",
        "\\det(I_m - FG) = \\det(I_n - GF)\n",
        "$$\n",
        "\n",
        "---"
      ]
    },
    {
      "cell_type": "code",
      "metadata": {
        "id": "4RBDYAWUOGIj"
      },
      "source": [
        "# Your solution is here"
      ],
      "execution_count": null,
      "outputs": []
    },
    {
      "cell_type": "markdown",
      "metadata": {
        "id": "BNWMQQ4nXmFl"
      },
      "source": [
        "## Problem 2 (eigenvalues)  (50 pts)\n",
        "\n",
        "### 1. Theoretical tasks (15 pts)\n",
        "\n",
        "* (2 pts) Prove that eigenvectors that correspond to distinct eigenvalues are linearly independent.\n",
        "\n",
        "* (3 pts) $A$ is a matrix such that $a_{i,j} \\ge 0$ and $\\sum_{j}a_{i,j} = 1$ (sum of the elements in each row is 1). Prove that $A$ has an eigenvalue $\\lambda=1$ and that any eigenvalue $\\lambda_i$: $|\\lambda_i| \\le 1$.\n",
        "\n",
        "* (5 pts) Prove that normal matrix is Hermitian iff its eigenvalues are real. Prove that normal matrix is unitary iff its eigenvalues satisfy $|\\lambda| = 1$. \n",
        "\n",
        "* (5 pts) The following problem illustrates instability of the Jordan form. Find theoretically the eigenvalues of the perturbed Jordan block (there is only one $\\varepsilon$ - in the left lower corner):\n",
        "\n",
        "$$\n",
        "    J(\\varepsilon) = \n",
        "    \\begin{bmatrix} \n",
        "     \\lambda & 1 & & & 0 \\\\ \n",
        "     0 & \\lambda & 1 & & \\\\ \n",
        "     & 0 & \\ddots & \\ddots & \\\\ \n",
        "     & & 0 & \\lambda & 1 \\\\ \n",
        "     \\varepsilon & & & 0 & \\lambda  \\\\ \n",
        "    \\end{bmatrix}_{n\\times n}\n",
        "$$\n",
        "\n",
        "   Comment how eigenvalues of $J(0)$ are perturbed for large $n$."
      ]
    },
    {
      "cell_type": "markdown",
      "metadata": {
        "id": "zFRhiOhAdX6D"
      },
      "source": [
        "**2.1.1 (2 pts) Prove that eigenvectors that correspond to distinct eigenvalues are linearly independent.**"
      ]
    },
    {
      "cell_type": "markdown",
      "metadata": {
        "id": "REDHX7ZJdfKt"
      },
      "source": [
        "Sequence of vectors $v_1 , v_2, \\dots , v_k$ are linearly dependent if $\\alpha_1v_1+\\alpha_2v_2+ \\dots+\\alpha_kv_k = 0$. Where $\\alpha_i$ are scalars, which are not equal to 0 simultaniously. Otherwise such vectors are linearly independent. \n",
        "Lets assume taht we have different eigenvalues $λ_i$ and corresponding eigenvectors $v_i$.\n",
        "Assume that eigenvectors are linearly dependent, then:\n",
        "$$\n",
        "\\alpha_1v_1 + \\alpha_2v_2 + \\dots + \\alpha_{k+1}v_{k+1} = 0 \\qquad (1) \n",
        "$$\n",
        "and $α_i \\neq 0, \\forall i:i \\in [1,2,\\dots, k+1]$. As $Av_i = λ_iv_i$, then we can rewrite (1) as follows:\n",
        "$$\n",
        "\\alpha_1λ_1v_1 + \\alpha_2λ_2v_2 + \\dots + \\alpha_{k+1}λ_{k+1}v_{k+1} = 0 \\qquad (2)\n",
        "$$\n",
        "Now, lets multiply (1) to $\\lambda_{K+1}$:\n",
        "$$\n",
        "\\alpha_1λ_{k+1}v_1 + \\alpha_2λ_{k+1}v_2 + \\dots + \\alpha_{k+1}λ_{k+1}v_{k+1} = 0 \\qquad (3)\n",
        "$$\n",
        "\n",
        "Now, lets substract (3) from (2). We will get:\n",
        "$$\n",
        "\\alpha_1(λ_1 - λ_{k+1})v_1 + \\alpha_2(λ_2 - λ_{k+1})v_2 + \\dots + \\alpha_k(λ_k - λ_{k+1})v_k = 0 \n",
        "$$\n",
        "All $λ_i$ is different, therefore from (1) we can say:\n",
        "$$\n",
        "\\alpha_{k+1}v_{k+1} = 0 \n",
        "$$\n",
        "Since $v_{k+1}$ is non-zero eigenvector, then $a_{k+1}=0$. But this contradicts with what we assumed at the beginning. Therefore eigenvectors corresponding different eigenvalues are linearly independent.\n",
        "\n",
        "--- "
      ]
    },
    {
      "cell_type": "markdown",
      "metadata": {
        "id": "yr6eu_ZBk2GR"
      },
      "source": [
        "**2.1.2 (3 pts)  A  is a matrix such that  ai,j≥0  and  ∑jai,j=1  (sum of the elements in each row is 1). Prove that  A  has an eigenvalue  λ=1  and that any eigenvalue  λi :  |λi|≤1 .**"
      ]
    },
    {
      "cell_type": "markdown",
      "metadata": {
        "id": "onQYpC2Vk9EZ"
      },
      "source": [
        "Here we can use Gershgorin theorem, that states that all eigenvalues $\\lambda_i,  i = 1, \\ldots, n$ are located inside the union of Gershgorin circles $C_i$, where $C_i$ is a disk on the complex plane with center in $a_{ii}$ and radius $r_i = \\sum_{j \\ne i} |a_{ij}|$. Therefore $|\\lambda_i| \\leq r_i$\n",
        "\n",
        "As $a_{i,j} \\ge 0$ then following equalities are equal: \n",
        "$$\n",
        "\\sum_{j}|a_{i,j}| = \\sum_{j}a_{i,j} = 1\n",
        "$$\n",
        "\n",
        "Then: \n",
        "$$\n",
        "|\\lambda_i| \\leq r_i = \\sum_{j \\ne i} |a_{ij}| \\leq \\sum_{j} |a_{ij}| = \\sum_{j} a_{ij} = 1 \\Rightarrow |\\lambda_i| \\leq 1\n",
        "$$\n",
        "\n",
        "Now, we can show that there is at leas one eigenvalue equals to 1. For that we can use Perron-Frobenius theorem, that describes maximum eigenvalue as:\n",
        "$$ \n",
        "\\min _{i}\\sum _{j}a_{ij}\\leqslant \\lambda_{m} \\leqslant \\max _{i}\\sum _{j}a_{ij}$$ \n",
        "\n",
        "In our case it is the same as $1 \\leqslant \\lambda_{m} \\leqslant 1$. Then, we can conclude that $\\lambda_{m} = 1$\n",
        "\n",
        "---"
      ]
    },
    {
      "cell_type": "markdown",
      "metadata": {
        "id": "cyql0PbSmObg"
      },
      "source": [
        "**2.1.3 (5 pts) Prove that normal matrix is Hermitian iff its eigenvalues are real. Prove that normal matrix is unitary iff its eigenvalues satisfy  |λ|=1**\n"
      ]
    },
    {
      "cell_type": "markdown",
      "metadata": {
        "id": "kQGDASjXmTjQ"
      },
      "source": [
        "From definition we know that complex square matrix $A$ is normal in case if:\n",
        "$$\n",
        "AA^H=A^HA\n",
        "$$\n",
        "And Hermitian matrix by definition is such as:\n",
        "$$\n",
        "A = A^H\n",
        "$$\n",
        "(1) Let's use specrtal decomposition of the normal matrix:$A = UΛU^H$ and $A^H = (UΛU^H)^H$. Here $Λ$ is diagonal and $U$ is unitary matrix.\n",
        "Easy to see, that $UΛU^H = UΛ^HU^H$. Then $Λ = Λ^H$, which can be true only for real numbers.\n",
        "\n",
        "(2) Now eigenvalues are real and $\\Lambda$ is diagonal. Then $Λ=Λ^H$. Again, we use specrtal decomposition: $A = UΛU^H$ and $A^H = (UΛU^H)^H = UΛ^HU^H$. But then $A = A^H$, so it's Hermitian \n",
        "\n",
        "Now, lets prove that normal matrix is unitary iff its eigenvalues satisfy |λ|=1:\n",
        "\n",
        "(1) From definition we know that matrix is unitary if $A^H = A^{-1}$.\n",
        "\n",
        "Since $A$ is normal: \n",
        "$$\n",
        "AA^H = A^HA = UΛU^HUΛ^HU^H = UΛ^HU^HUΛU^H = UΛ^HΛU^H = UΛ^2U^H \n",
        "$$\n",
        "But as A unitary $AA^H = I$ then $UΛ^2U^H = I$ then $U^HUΛ^2U^HU = U^HIU$ and using unitary definition we will finally get $Λ^2 = I$. Therefore $|λ| = 1$  \n",
        "\n",
        "(2)\n",
        "$$AA^H = A^HA= UΛU^HUΛ^HU^H = UΛ^HU^HUΛU^H = UΛ^2U^H$$\n",
        "Since we know that $|λ| =1$, then $Λ^2 = I$, therefore\n",
        "$$\n",
        "UΛ^2U^H = UIU^H = UU^H = I\n",
        "$$\n",
        "so A is unitary.\n",
        "\n",
        "---"
      ]
    },
    {
      "cell_type": "markdown",
      "metadata": {
        "id": "G8c2RQUNqrIm"
      },
      "source": [
        "* **2.1.4(5 pts) The following problem illustrates instability of the Jordan form. Find theoretically the eigenvalues of the perturbed Jordan block (there is only one $\\varepsilon$ - in the left lower corner):**\n",
        "\n",
        "$$\n",
        "    J(\\varepsilon) = \n",
        "    \\begin{bmatrix} \n",
        "     \\lambda & 1 & & & 0 \\\\ \n",
        "     0 & \\lambda & 1 & & \\\\ \n",
        "     & 0 & \\ddots & \\ddots & \\\\ \n",
        "     & & 0 & \\lambda & 1 \\\\ \n",
        "     \\varepsilon & & & 0 & \\lambda  \\\\ \n",
        "    \\end{bmatrix}_{n\\times n}\n",
        "$$\n",
        "\n",
        "   Comment how eigenvalues of $J(0)$ are perturbed for large $n$."
      ]
    },
    {
      "cell_type": "markdown",
      "metadata": {
        "id": "2Wd5GIV50OCP"
      },
      "source": [
        "## **Task 2.1.4**\n",
        "**(5 pts) The following problem illustrates instability of the Jordan form. Find theoretically the eigenvalues of the perturbed Jordan block (there is only one $\\varepsilon$ - in the left lower corner):\n",
        "$$\n",
        "    J(\\varepsilon) = \n",
        "    \\begin{bmatrix} \n",
        "     \\lambda & 1 & & & 0 \\\\ \n",
        "     0 & \\lambda & 1 & & \\\\ \n",
        "     & 0 & \\ddots & \\ddots & \\\\ \n",
        "     & & 0 & \\lambda & 1 \\\\ \n",
        "     \\varepsilon & & & 0 & \\lambda  \\\\ \n",
        "    \\end{bmatrix}_{n\\times n}\n",
        "$$\n",
        "Comment how eigenvalues of $J(0)$ are perturbed for large $n$.**\n",
        "\n",
        "Lets see the resulting characteristic equation for matrices with different sizes.\n",
        "\n",
        "For 2x2 :\n",
        "$$\n",
        "\\begin{vmatrix}\n",
        "\\lambda - x & 1 \\\\\n",
        "\\varepsilon & \\lambda - x \\\\\n",
        "\\end{vmatrix}\n",
        "= \n",
        "(\\lambda - x)^2 - \\varepsilon\n",
        "$$\n",
        "\n",
        "For 3x3 :\n",
        "\n",
        "$$\n",
        "\\begin{vmatrix}\n",
        "\\lambda - x & 1 & 0 \\\\\n",
        "0 & \\lambda - x & 1 \\\\\n",
        "\\varepsilon & 0 & \\lambda - x &\\\\\n",
        "\\end{vmatrix}\n",
        "= \n",
        "(\\lambda - x)\n",
        "\\begin{vmatrix}\n",
        "\\lambda - x & 1 \\\\\n",
        "0 & \\lambda - x \\\\\n",
        "\\end{vmatrix}\n",
        "-\n",
        "\\begin{vmatrix}\n",
        "0 & 1 \\\\\n",
        "\\varepsilon & \\lambda - x \\\\\n",
        "\\end{vmatrix}\n",
        "= \n",
        "(\\lambda - x)^3 + \\varepsilon\n",
        "$$\n",
        "\n",
        "For 4x4\n",
        "\n",
        "$$\n",
        "\\begin{vmatrix}\n",
        "\\lambda - x & 1 & 0 & 0\\\\\n",
        "0 & \\lambda - x & 1 & 0\\\\\n",
        "0 & 0 & \\lambda - x & 1\\\\\n",
        "\\varepsilon & 0 & 0 & \\lambda - x\\\\\n",
        "\\end{vmatrix}\n",
        "= \n",
        "(\\lambda - x)\n",
        "\\begin{vmatrix}\n",
        "\\lambda - x & 1 & 0 \\\\\n",
        "0 & \\lambda - x & 1 \\\\\n",
        "0 & 0 & \\lambda - x &\\\\\n",
        "\\end{vmatrix}\n",
        "-\n",
        "\\begin{vmatrix}\n",
        "0 & 1 & 0 \\\\\n",
        "0 & \\lambda - x & 1 \\\\\n",
        "\\varepsilon & 0 & \\lambda - x \\\\\n",
        "\\end{vmatrix}\n",
        "= \n",
        "(\\lambda - x)^4 - \\varepsilon\n",
        "$$\n"
      ]
    },
    {
      "cell_type": "markdown",
      "metadata": {
        "id": "0QHw7xjX1HkZ"
      },
      "source": [
        "Therefore, its easy to generalize charachteristic equation this for any Jordan block as:\n",
        "$$\n",
        "(λ-x)^n - ϵ(-1)^n = 0\n",
        "$$\n",
        "This can be rewritten as :\n",
        "$$\n",
        "(λ-x)^n = ϵ(-1)^n\n",
        "$$\n",
        "Then, if $n$ is even: \n",
        "$$\n",
        "(λ-x)^n = ϵ$$, therefore \n",
        "$$x_k = λ - \\sqrt[n]{ϵ}\\sqrt[n]{1} = λ - \\sqrt[n]{ϵ}\\exp(\\frac{2πki}{n})$$\n",
        "Where $k \\in [0,n-1]$\n",
        "\n",
        "Similar thing if $n$ is odd:\n",
        "$$x_k = λ - \\sqrt[n]{ϵ}\\sqrt[n]{1} = λ - \\sqrt[n]{ϵ}\\exp(\\frac{2πk+π}{n}i)$$\n",
        "\n",
        "For n $\\rightarrow\\infty$ we will get $\\sqrt[n]{ϵ}\\rightarrow 1 $ and $π/n \\rightarrow 0$, therefore for huge n, we will have such eigenvalues:\n",
        "$$\n",
        "x_k = \\lambda - \\exp(\\frac{2πk}{n}i), \\qquad k \\in [0,n-1]\n",
        "$$ \n",
        "\n",
        "---"
      ]
    },
    {
      "cell_type": "code",
      "metadata": {
        "id": "fpAA_pKYXmFl"
      },
      "source": [
        "# Your solution is here"
      ],
      "execution_count": null,
      "outputs": []
    },
    {
      "cell_type": "markdown",
      "metadata": {
        "id": "xWcyqKyrOGIp"
      },
      "source": [
        "### 2. PageRank (35 pts)\n",
        "\n",
        "\n",
        "#### Damping factor importance\n",
        "\n",
        "**2.2.1 (5 pts) Write the function ```pagerank_matrix(G)``` that takes an adjacency matrix $G$ (in both sparse and dense formats) as an input and outputs the corresponding PageRank matrix $A$.**"
      ]
    },
    {
      "cell_type": "code",
      "metadata": {
        "id": "2jktwIc8OGIp"
      },
      "source": [
        "import scipy\n",
        "from scipy.sparse import issparse\n",
        "import numpy as np\n",
        "\n",
        "# INPUT:  G - np.ndarray or sparse matrix\n",
        "# OUTPUT: A - np.ndarray (of size G.shape) or sparse matrix\n",
        "def pagerank_matrix(G):\n",
        "    norms = np.squeeze(np.asarray(G.sum(axis = 0)))  # calculate sum over columns\n",
        "    norms[norms == 0 ] = 1                           # replace 0 by 1 (0 appears if column is empty)\n",
        "    norms = 1/norms                                  # calculate normalization coeffs for each column\n",
        "\n",
        "    if issparse(G):\n",
        "        return G.multiply(norms)                     # if sparse matrix -> use sparce multiplication\n",
        "\n",
        "    return  G*norms                                  # with usual matrices -> usual matrix to vector multiplication "
      ],
      "execution_count": 1,
      "outputs": []
    },
    {
      "cell_type": "markdown",
      "metadata": {
        "id": "zV8Wo-4CZrLE"
      },
      "source": [
        "---"
      ]
    },
    {
      "cell_type": "markdown",
      "metadata": {
        "id": "RwawmBTyYQJc"
      },
      "source": [
        "**2.2.2 (3 pts) Find PageRank matrix $A$ that corresponds to the following graph: <img src=\"graph.png\" width='250'>\n",
        "What is its largest eigenvalue? What multiplicity does it have?**"
      ]
    },
    {
      "cell_type": "code",
      "metadata": {
        "colab": {
          "base_uri": "https://localhost:8080/"
        },
        "id": "xD4jvo4yYZND",
        "outputId": "a58802a4-f7b5-4408-806c-ef9e4ac445cb"
      },
      "source": [
        "G = np.array([[0, 1, 0, 0, 0],\n",
        "              [0, 0, 1, 0, 0],\n",
        "              [1, 1, 0, 0, 0],\n",
        "              [0, 0, 0, 0, 1],\n",
        "              [0, 0, 0, 1, 0]])\n",
        "P = pagerank_matrix(G)\n",
        "\n",
        "eigvals = np.linalg.eigvals(P)\n",
        "print(\"Eigenvalues: \\n\", eigvals)\n",
        "print()\n",
        "print(\"Max eigenval:{}\".format(max(eigvals)))\n",
        "print()\n",
        "print(\"Multiplicity:{}\".format(sum(np.isclose(eigvals, max(eigvals))))) # Should we count -1 ???????????????"
      ],
      "execution_count": 2,
      "outputs": [
        {
          "output_type": "stream",
          "name": "stdout",
          "text": [
            "Eigenvalues: \n",
            " [-0.5+0.5j -0.5-0.5j  1. +0.j   1. +0.j  -1. +0.j ]\n",
            "\n",
            "Max eigenval:(1.0000000000000004+0j)\n",
            "\n",
            "Multiplicity:2\n"
          ]
        }
      ]
    },
    {
      "cell_type": "markdown",
      "metadata": {
        "id": "iD-CXVJLYzeB"
      },
      "source": [
        "**The largest eigenvalue is 1.**\n",
        "Moreover, any non-degenerate pagerank matrix has max eigenvalue 1 according to the Perron-Frobenius theorem, which says that if matrix $A$ consist of only positive elements, then the largest eigenvalue $r$ such:\n",
        "$$\n",
        "\\min \\limits _i \\sum_j a_{ij} \\leq r \\leq \\max \\limits _i \\sum_j a_{ij} \n",
        "$$\n",
        "But it our case sum for each column is 1 then $r = 1$\n",
        "\n",
        "Also **the largest eigenvalue has multiplicity 2**, because our graph consist of 2 disconnected parts. Finally we have one eigenvalue, which is -1. It will be also important soon.\n",
        "\n",
        "---"
      ]
    },
    {
      "cell_type": "markdown",
      "metadata": {
        "id": "AoRUd5pqZYm0"
      },
      "source": [
        "**2.2.3 (5 pts) Implement the power method for a given matrix $A$, an initial guess $x_0$ and a number of iterations ```num_iter```. It should be organized as a function ```power_method(A, x0, num_iter)``` that outputs approximation to eigenvector $x$, eigenvalue $\\lambda$ and history of residuals $\\{\\|Ax_k - \\lambda_k x_k\\|_2\\}$. Make sure that the method converges to the correct solution on a matrix $\\begin{bmatrix} 2 & -1 \\\\ -1 & 2 \\end{bmatrix}$ which is known to have the largest eigenvalue equal to $3$.**"
      ]
    },
    {
      "cell_type": "code",
      "metadata": {
        "id": "uLo7A--rOGIs"
      },
      "source": [
        "# INPUT:  A - np.ndarray (2D), x0 - np.ndarray (1D), num_iter - integer (positive)\n",
        "# OUTPUT: x - np.ndarray (of size x0), l - float, res - np.ndarray (of size num_iter + 1 [include initial guess])\n",
        "def power_method(A, x0, num_iter): # 5 pts\n",
        "    x = x0                              # take initial x\n",
        "    res = np.zeros(num_iter + 1)        # residuals\n",
        "    \n",
        "    for iter in range(num_iter + 1):    # do itirations\n",
        "        Ax = A @ x                      # multiply matrix A to current x \n",
        "        l = x.T @ Ax                    # calculate current eigenvalue\n",
        "\n",
        "        res[iter] = np.linalg.norm(Ax -l*x,2) # calculate the residual\n",
        "        x = Ax / np.linalg.norm(Ax,2)   # normalize to norm of eigenvector \n",
        "\n",
        "    return x, l, res"
      ],
      "execution_count": 3,
      "outputs": []
    },
    {
      "cell_type": "code",
      "metadata": {
        "colab": {
          "base_uri": "https://localhost:8080/"
        },
        "id": "x8-8n2MrabXe",
        "outputId": "6d98e06e-9435-4f9b-f41d-104563ec7708"
      },
      "source": [
        "# Making sure that everything works\n",
        "check_matrix = np.array([[2, -1],[-1, 2]])\n",
        "eig_vec = np.random.random(2)\n",
        "eig_vec, eig_val, res = power_method(check_matrix, eig_vec, 10)\n",
        "print('Largest eigenvalue: ', eig_val)\n",
        "print('Which is: ', np.isclose(eig_val,3))"
      ],
      "execution_count": 4,
      "outputs": [
        {
          "output_type": "stream",
          "name": "stdout",
          "text": [
            "Largest eigenvalue:  2.9999999991338133\n",
            "Which is:  True\n"
          ]
        }
      ]
    },
    {
      "cell_type": "markdown",
      "metadata": {
        "id": "is7QkEjNcFIS"
      },
      "source": [
        "---"
      ]
    },
    {
      "cell_type": "markdown",
      "metadata": {
        "id": "dbcY0Dehb6r2"
      },
      "source": [
        "**2.2.4 (2 pts) Run the power method for the graph presented above and plot residuals $\\|Ax_k - \\lambda_k x_k\\|_2$ as a function of $k$ for ```num_iter=100``` and random initial guess ```x0```.  Explain the absence of convergence.** "
      ]
    },
    {
      "cell_type": "code",
      "metadata": {
        "colab": {
          "base_uri": "https://localhost:8080/",
          "height": 301
        },
        "id": "jh3ZE0ROatgQ",
        "outputId": "dd7dd36a-877a-4f8b-ca66-61b6f88b3994"
      },
      "source": [
        "# check the algorithm for given matrix\n",
        "import matplotlib.pyplot as plt\n",
        "\n",
        "eig_vec = np.random.random(P.shape[0])\n",
        "eig_vec, eig_val, res = power_method(P, eig_vec, 100)\n",
        "\n",
        "plt.figure(figsize=(10,4))\n",
        "plt.plot((10*np.log10(res)), '.-')\n",
        "plt.title('Residual evolution', fontsize = 15)\n",
        "plt.ylabel('Residual [db]', fontsize = 14)\n",
        "plt.xlabel('Iterations', fontsize = 14)\n",
        "plt.grid()"
      ],
      "execution_count": 5,
      "outputs": [
        {
          "output_type": "display_data",
          "data": {
            "image/png": "[encoded data removed]",
            "text/plain": [
              "<Figure size 720x288 with 1 Axes>"
            ]
          },
          "metadata": {
            "needs_background": "light"
          }
        }
      ]
    },
    {
      "cell_type": "markdown",
      "metadata": {
        "id": "7DFwTsWWbGvU"
      },
      "source": [
        "Here we have demonstration of the case where the method converges badly. The reason of such behaviour is the fact that we have following eigenvalues: +1, +1 , -1. For simplicity, lets assume that we have only +1 and -1 as eigenvalues. Resulting sequence will be as follows: \n",
        "\n",
        "$$\n",
        "x_k = \\frac{v_1 + \\frac{c2}{c1}(-1)^kv_2 }{\\|v_1 + \\frac{c2}{c1}(-1)^kv_2\\|} \\quad k \\rightarrow \\infty\n",
        "$$\n",
        "\n",
        "We can see that this sequence does not converge to some value, because second value change the sign due to value of $k$. That's why we have such behaviour.\n",
        "\n",
        "---\n",
        "\n"
      ]
    },
    {
      "cell_type": "markdown",
      "metadata": {
        "id": "9T_laowWbrPo"
      },
      "source": [
        "**2.2.5 (2 pts) Consider the same graph, but with additional self loop at node 4 (self loop is an edge that connects a vertex with itself). Plot residuals as in the previous task and discuss the convergence. Now, run the power method with ```num_iter=100``` for 10 different initial guesses and print/plot the resulting approximated eigenvectors. Why do they depend on the initial guess?**"
      ]
    },
    {
      "cell_type": "code",
      "metadata": {
        "colab": {
          "base_uri": "https://localhost:8080/",
          "height": 301
        },
        "id": "CM6q85ZncarD",
        "outputId": "fe3ed29e-2e8c-46fe-e468-f92b6879191b"
      },
      "source": [
        "G = np.array([[0, 1, 0, 0, 0],\n",
        "              [0, 0, 1, 0, 0],\n",
        "              [1, 1, 0, 0, 0],\n",
        "              [0, 0, 0, 0, 1],\n",
        "              [0, 0, 0, 1, 1]])\n",
        "P = pagerank_matrix(G)\n",
        "\n",
        "plt.figure(figsize=(10,4))\n",
        "\n",
        "for i in range(10):\n",
        "    eig_vec = np.random.random(P.shape[0])\n",
        "    eig_vec, eig_val, res = power_method(P, eig_vec, 100)\n",
        "    plt.plot((10*np.log10(res)), '.-', label = 'trial:{}'.format(i))\n",
        "    #plt.plot(res, '.-', label = 'trial:{}'.format(i))\n",
        "\n",
        "plt.title('Residual evolution', fontsize = 15)\n",
        "plt.ylabel('Residual [db]', fontsize = 14)\n",
        "plt.xlabel('Iterations', fontsize = 14)\n",
        "plt.legend()\n",
        "plt.grid()\n"
      ],
      "execution_count": 6,
      "outputs": [
        {
          "output_type": "display_data",
          "data": {
            "image/png": "[encoded data removed]",
            "text/plain": [
              "<Figure size 720x288 with 1 Axes>"
            ]
          },
          "metadata": {
            "needs_background": "light"
          }
        }
      ]
    },
    {
      "cell_type": "markdown",
      "metadata": {
        "id": "bfZd-yA8coJJ"
      },
      "source": [
        "We elimainated eigenvalue which was -1, but our graph still consist of 2 independent parts, and we have 2 eigenvalues of +1. However the sequence converges perfectly, to the combination of two eigenvectors that corresponds to 2 dominant eigenvalues:\n",
        "\n",
        "$$\n",
        "x_k = \\frac{v_1 + \\frac{c2}{c1}v_2 }{\\|v_1 + \\frac{c2}{c1}v_2\\|} \\quad k \\rightarrow \\infty\n",
        "$$\n",
        "\n",
        "But it's not the result that we expect. Resulting vector $x_k$ is not the sought eigenvector.\n",
        "Moreover we can see that curve depend on the initial vector $x_0$. The reason is the fact that for different trials we have different multiplier $\\frac{c2}{c1}$.\n",
        "\n",
        "---"
      ]
    },
    {
      "cell_type": "markdown",
      "metadata": {
        "id": "9hAowO6zOGIu"
      },
      "source": [
        "In order to avoid this problem Larry Page and Sergey Brin [proposed](http://ilpubs.stanford.edu:8090/422/1/1999-66.pdf) to use the following regularization technique:\n",
        "\n",
        "$$\n",
        "A_d = dA + \\frac{1-d}{N} \\begin{pmatrix} 1 & \\dots & 1 \\\\ \\vdots & & \\vdots \\\\ 1 & \\dots & 1 \\end{pmatrix},\n",
        "$$\n",
        "\n",
        "where $d$ is a small parameter in $[0,1]$ (typically $d=0.85$), which is called **damping factor**, $A$ is of size $N\\times N$. Now $A_d$ is the matrix with multiplicity of the largest eigenvalue equal to 1. \n",
        "Recall that computing the eigenvector of the PageRank matrix, which corresponds to the largest eigenvalue, has the following interpretation. Consider a person who stays in a random node of a graph (i.e. opens a random web page); at each step s/he follows one of the outcoming edges uniformly at random (i.e. opens one of the links). So the person randomly walks through the graph and the eigenvector we are looking for is exactly his/her stationary distribution â€” for each node it tells you the probability of visiting this particular node. Therefore, if the person has started from a part of the graph which is not connected with the other part, he will never get there.  In the regularized model, the person at each step follows one of the outcoming links with probability $d$ OR teleports to a random node from the whole graph with probability $(1-d)$.\n"
      ]
    },
    {
      "cell_type": "markdown",
      "metadata": {
        "id": "nVI192j4dN1I"
      },
      "source": [
        "**2.2.6 (2 pts) Now, run the power method with $A_d$ and plot residuals $\\|A_d x_k - \\lambda_k x_k\\|_2$ as a function of $k$ for $d=0.97$, ```num_iter=100``` and a random initial guess ```x0```.**"
      ]
    },
    {
      "cell_type": "code",
      "metadata": {
        "id": "qj6g3dgrd3SD"
      },
      "source": [
        "def add_weak_links(A, dampling_factor = 0.85):\n",
        "    R = np.ones((A.shape)) / A.shape[0]\n",
        "    A_corrected = dampling_factor*A + (1-dampling_factor)*R\n",
        "    return A_corrected"
      ],
      "execution_count": 7,
      "outputs": []
    },
    {
      "cell_type": "code",
      "metadata": {
        "colab": {
          "base_uri": "https://localhost:8080/",
          "height": 356
        },
        "id": "DjiiwkdpdZj4",
        "outputId": "28b65361-592f-4c7c-e65f-f04d19cbfd4e"
      },
      "source": [
        "P_corrected = add_weak_links(P, 0.97)\n",
        "\n",
        "plt.figure(figsize=(10,5))\n",
        "\n",
        "eig_vec = np.random.random(P_corrected.shape[0])\n",
        "eig_vec, eig_val, res = power_method(P_corrected, eig_vec,100)\n",
        "plt.plot((10*np.log10(res)), '.-')\n",
        "\n",
        "plt.title('Residual evolution', fontsize = 15)\n",
        "plt.ylabel('Residual [db]', fontsize = 14)\n",
        "plt.xlabel('Iterations', fontsize = 14)\n",
        "plt.grid()"
      ],
      "execution_count": 8,
      "outputs": [
        {
          "output_type": "display_data",
          "data": {
            "image/png": "[encoded data removed]",
            "text/plain": [
              "<Figure size 720x360 with 1 Axes>"
            ]
          },
          "metadata": {
            "needs_background": "light"
          }
        }
      ]
    },
    {
      "cell_type": "markdown",
      "metadata": {
        "id": "e30wrUFDeFM5"
      },
      "source": [
        "---\n",
        "\n",
        "\n",
        "**2.2.7 (5 pts) Find the second largest in the absolute value eigenvalue of the obtained matrix  Ad . How and why is it connected to the damping factor  d ? What is the convergence rate of the PageRank algorithm when using damping factor?**"
      ]
    },
    {
      "cell_type": "code",
      "metadata": {
        "colab": {
          "base_uri": "https://localhost:8080/"
        },
        "id": "tafBKMS9eZSn",
        "outputId": "c116b9f0-ae9d-41b9-fbef-0e5f8057c416"
      },
      "source": [
        "eig_vals, eig_vecs = np.linalg.eig(P)\n",
        "eig_vals_d, eig_vecs_d = np.linalg.eig(P_corrected)\n",
        "\n",
        "eig_vals = eig_vals[np.argsort(abs(eig_vals))][::-1]\n",
        "eig_vals_d = eig_vals_d[np.argsort(abs(eig_vals_d))][::-1] \n",
        "\n",
        "eig_v = ['{:.2f}'.format(i) for i in eig_vals]\n",
        "eig_vd = ['{:.2f}'.format(i) for i in eig_vals_d]\n",
        "\n",
        "print('Original: ')\n",
        "print(eig_v)\n",
        "print('With damping:')\n",
        "print(eig_vd)"
      ],
      "execution_count": null,
      "outputs": [
        {
          "output_type": "stream",
          "name": "stdout",
          "text": [
            "Original: \n",
            "['1.00+0.00j', '1.00+0.00j', '-0.50-0.50j', '-0.50+0.50j', '-0.50+0.00j']\n",
            "With damping:\n",
            "['1.00+0.00j', '0.97+0.00j', '-0.49-0.49j', '-0.49+0.49j', '-0.49+0.00j']\n"
          ]
        }
      ]
    },
    {
      "cell_type": "markdown",
      "metadata": {
        "id": "xO9IgoIAjtAM"
      },
      "source": [
        "It can be seen that one dominant eigenvalue haven't changed. But all the other eigenvalues are multiplied by damping factor $d$. Moreover it can be seen that multiplication original matrix to dampling factor leads multiplication all the eigenvalues of the original matrix, and adding term $(1-d)\\cdot R$ to the result leads the recovering the dominant eigenvalue from multiplication to the initial value.\n",
        "\n",
        "So conergence rate will be $q^k$, where $q = \\left|\\frac{d\\lambda_{2}}{\\lambda_{1}}\\right| < 1$, for $\\lambda_1>\\lambda_2\\geq\\dots\\geq \\lambda_n$ and $k$\n",
        "\n",
        "---"
      ]
    },
    {
      "cell_type": "markdown",
      "metadata": {
        "id": "475E2pE3mNYR"
      },
      "source": [
        "Usually, graphs that arise in various areas are sparse (social, web, road networks, etc.) and, thus, computation of a matrix-vector product for corresponding PageRank matrix $A$ is much cheaper than $\\mathcal{O}(N^2)$. However, if $A_d$ is calculated directly, it becomes dense and, therefore, $\\mathcal{O}(N^2)$ cost grows prohibitively large for  big $N$.\n"
      ]
    },
    {
      "cell_type": "markdown",
      "metadata": {
        "id": "zfWZiPmHmQqs"
      },
      "source": [
        "**2.2.8 (2 pts) Implement fast matrix-vector product for $A_d$ as a function ```pagerank_matvec(A, d, x)```, which takes a PageRank matrix $A$ (in sparse format, e.g., ```csr_matrix```), damping factor $d$ and a vector $x$ as an input and returns $A_dx$ as an output.** "
      ]
    },
    {
      "cell_type": "code",
      "metadata": {
        "id": "4o3LKx5UOGIv"
      },
      "source": [
        "# INPUT:  A - np.ndarray (2D), d - float (from 0.0 to 1.0), x - np.ndarray (1D, size of A.shape[0/1])\n",
        "# OUTPUT: y - np.ndarray (1D, size of x)\n",
        "def pagerank_matvec(A, d, x): # 2 pts\n",
        "    # enter your code here\n",
        "    A_shape = A.shape[0]\n",
        "    x_shape = x.shape[0]\n",
        "\n",
        "    x1 = d*A @ x \n",
        "    x2 = (1-d)* np.ones(x_shape) * np.sum(x)/A_shape\n",
        "    y = x1+x2 \n",
        "\n",
        "    return y\n"
      ],
      "execution_count": null,
      "outputs": []
    },
    {
      "cell_type": "markdown",
      "metadata": {
        "id": "a0DzDPmRm0je"
      },
      "source": [
        "**2.2.9 (1 pts) Generate a random adjacency matrix of size $10000 \\times 10000$ with only 100 non-zero elements and compare ```pagerank_matvec``` performance with direct evaluation of $A_dx$.**"
      ]
    },
    {
      "cell_type": "code",
      "metadata": {
        "id": "VdeusaFgm6vW"
      },
      "source": [
        "n = 10**4                       # matrix size\n",
        "density = 100/(n**2)            # n_non_zero elements / n_all_elements\n",
        "A = scipy.sparse.random(n, n, density=density) \n",
        "x = np.random.random(n)"
      ],
      "execution_count": null,
      "outputs": []
    },
    {
      "cell_type": "code",
      "metadata": {
        "colab": {
          "base_uri": "https://localhost:8080/"
        },
        "id": "OZsI1fKEpm-j",
        "outputId": "795d475d-8e73-4ee9-f791-821109ccf42b"
      },
      "source": [
        "t1 = %timeit -n5 -r5 -o -q pagerank_matvec(A,0.85, x)\n",
        "t1"
      ],
      "execution_count": null,
      "outputs": [
        {
          "output_type": "execute_result",
          "data": {
            "text/plain": [
              "<TimeitResult : 5 loops, best of 5: 176 µs per loop>"
            ]
          },
          "metadata": {},
          "execution_count": 31
        }
      ]
    },
    {
      "cell_type": "code",
      "metadata": {
        "colab": {
          "base_uri": "https://localhost:8080/"
        },
        "id": "nIKJic7qpn_c",
        "outputId": "3148ce35-a4fc-423e-e9e3-ab48ab7e8077"
      },
      "source": [
        "t2 = %timeit -n5 -r5 -o -q add_weak_links(A)@x\n",
        "t2"
      ],
      "execution_count": null,
      "outputs": [
        {
          "output_type": "execute_result",
          "data": {
            "text/plain": [
              "<TimeitResult : 5 loops, best of 5: 370 ms per loop>"
            ]
          },
          "metadata": {},
          "execution_count": 32
        }
      ]
    },
    {
      "cell_type": "code",
      "metadata": {
        "colab": {
          "base_uri": "https://localhost:8080/"
        },
        "id": "6kCxlaWqnGiQ",
        "outputId": "c60ae724-29e4-4e1a-f0f1-6cc404cc5ce2"
      },
      "source": [
        "print('Speedup: ', '{:.0f}'.format(t2.best/t1.best), ' times')"
      ],
      "execution_count": null,
      "outputs": [
        {
          "output_type": "stream",
          "name": "stdout",
          "text": [
            "Speedup:  2102  times\n"
          ]
        }
      ]
    },
    {
      "cell_type": "markdown",
      "metadata": {
        "id": "DkIEN89Km_yz"
      },
      "source": [
        "---"
      ]
    },
    {
      "cell_type": "markdown",
      "metadata": {
        "id": "ru70NGUlOGIy"
      },
      "source": [
        "#### DBLP: computer science bibliography\n",
        "\n",
        "Download the dataset from [here](https://goo.gl/oZVxEa), unzip it and put `dblp_authors.npz`  and `dblp_graph.npz` in the same folder with this notebook. Each value (author name) from `dblp_authors.npz` corresponds to the row/column of the matrix from `dblp_graph.npz`. Value at row `i` and column `j` of the matrix from `dblp_graph.npz` corresponds to the number of times author `i` cited papers of the author `j`. Let us now find the most significant scientists according to PageRank model over DBLP data.\n"
      ]
    },
    {
      "cell_type": "markdown",
      "metadata": {
        "id": "hxxUqN9hrWhe"
      },
      "source": [
        "**2.2.10 (4 pts) Load the weighted adjacency matrix and the authors list into Python using ```load_dblp(...)``` function. Print its density (fraction of nonzero elements). Find top-10 most cited authors from the weighted adjacency matrix. Now, make all the weights of the adjacency matrix equal to 1 for simplicity (consider only existence of connection between authors, not its weight). Obtain the PageRank matrix $A$ from the adjacency matrix and verify that it is stochastic.**\n",
        " "
      ]
    },
    {
      "cell_type": "code",
      "metadata": {
        "colab": {
          "base_uri": "https://localhost:8080/"
        },
        "id": "bn5BM1_eqZfZ",
        "outputId": "ebe47e81-8a38-4b7b-947d-bf55fc8243b8"
      },
      "source": [
        "# Easy downloading directly to colab\n",
        "!gdown --id 1a77VOi_XAOXQLGEsVauBHU5WpnzyS57-\n",
        "!unzip dblp.zip"
      ],
      "execution_count": null,
      "outputs": [
        {
          "output_type": "stream",
          "name": "stdout",
          "text": [
            "Downloading...\n",
            "From: https://drive.google.com/uc?id=1a77VOi_XAOXQLGEsVauBHU5WpnzyS57-\n",
            "To: /content/dblp.zip\n",
            "100% 488M/488M [00:02<00:00, 204MB/s]\n",
            "Archive:  dblp.zip\n",
            "replace dblp_authors.npz? [y]es, [n]o, [A]ll, [N]one, [r]ename: no\n",
            "replace dblp_graph.npz? [y]es, [n]o, [A]ll, [N]one, [r]ename: no\n"
          ]
        }
      ]
    },
    {
      "cell_type": "code",
      "metadata": {
        "id": "L5ZnW7m-OGIz"
      },
      "source": [
        "from scipy.sparse import load_npz\n",
        "import numpy as np\n",
        "def load_dblp(path_auth, path_graph):\n",
        "    G = load_npz(path_graph).astype(float)\n",
        "    with np.load(path_auth) as data: authors = data['authors']\n",
        "    return G, authors\n",
        "G, authors = load_dblp('dblp_authors.npz', 'dblp_graph.npz')"
      ],
      "execution_count": null,
      "outputs": []
    },
    {
      "cell_type": "code",
      "metadata": {
        "id": "QynfixvjOGI1",
        "colab": {
          "base_uri": "https://localhost:8080/"
        },
        "outputId": "e84ff3df-b897-48c9-eff8-7348238f1fc6"
      },
      "source": [
        "# Your code is here\n",
        "N_stored_elements = G.getnnz()\n",
        "N_all_elements = np.prod(G.shape)\n",
        "density = N_stored_elements/N_all_elements # number of all stored elements including explicit zeros\n",
        "\n",
        "print(\"N_stored     : \", N_stored_elements)\n",
        "print(\"All_elements : \",N_all_elements)\n",
        "print(\"Density      :  {:.6f}\".format(density))"
      ],
      "execution_count": null,
      "outputs": [
        {
          "output_type": "stream",
          "name": "stdout",
          "text": [
            "N_stored     :  140388901\n",
            "All_elements :  3120688303209\n",
            "Density      :  0.000045\n"
          ]
        }
      ]
    },
    {
      "cell_type": "code",
      "metadata": {
        "colab": {
          "base_uri": "https://localhost:8080/"
        },
        "id": "h5NOlnLVqxQK",
        "outputId": "2b1881af-2433-408c-ec77-5e8d5cb970e1"
      },
      "source": [
        "total_cited = np.asarray(np.sum(G,axis =0)).flatten()\n",
        "most_cited = total_cited.argsort()[-10:][::-1]\n",
        "\n",
        "for index in most_cited:\n",
        "  print(f'Author name: {authors[index]}. Number of citations: {int(total_cited[index])}')"
      ],
      "execution_count": null,
      "outputs": [
        {
          "output_type": "stream",
          "name": "stdout",
          "text": [
            "Author name: Scott Shenker. Number of citations: 119853\n",
            "Author name: Andrew Zisserman. Number of citations: 118558\n",
            "Author name: Hari Balakrishnan. Number of citations: 117253\n",
            "Author name: Jiawei Han. Number of citations: 116708\n",
            "Author name: Anil K. Jain. Number of citations: 113874\n",
            "Author name: Cordelia Schmid. Number of citations: 102996\n",
            "Author name: Jitendra Malik. Number of citations: 101657\n",
            "Author name: Ion Stoica. Number of citations: 98017\n",
            "Author name: David E. Culler. Number of citations: 95762\n",
            "Author name: David G. Lowe. Number of citations: 93678\n"
          ]
        }
      ]
    },
    {
      "cell_type": "code",
      "metadata": {
        "colab": {
          "base_uri": "https://localhost:8080/"
        },
        "id": "ALnmagZZrtqt",
        "outputId": "bf41e7ad-625d-4535-f22d-6ffc8aacc1a1"
      },
      "source": [
        "P = pagerank_matrix(G)\n",
        "\n",
        "A = np.squeeze(np.asarray(P.sum(0)))\n",
        "ans = (np.isclose(A,1)+np.isclose(A,0)).all() # we also have to check sum equal to 0, because of 'dangling node' problem\n",
        "print('Matrix is stochastic: ', ans)"
      ],
      "execution_count": null,
      "outputs": [
        {
          "output_type": "stream",
          "name": "stdout",
          "text": [
            "Matrix is stochastic:  True\n"
          ]
        }
      ]
    },
    {
      "cell_type": "markdown",
      "metadata": {
        "id": "iA3aALsDvHqc"
      },
      "source": [
        "---\n",
        "\n",
        "\n",
        "2.2.11 (1 pts) In order to provide ```pagerank_matvec``` to your ```power_method``` (without rewriting it) for fast calculation of $A_dx$, you can create a ```LinearOperator```: \n",
        "```python\n",
        "L = scipy.sparse.linalg.LinearOperator(A.shape, matvec=lambda x, A=A, d=d: pagerank_matvec(A, d, x))\n",
        "```\n",
        "Calling ```L@x``` or ```L.dot(x)``` will result in calculation of ```pagerank_matvec(A, d, x)``` and, thus, you can plug $L$ instead of the matrix $A$ in the ```power_method``` directly. **Note:** though in the previous subtask graph was very small (so you could disparage fast matvec implementation), here it is very large (but sparse), so that direct evaluation of $A_dx$ will require $\\sim 10^{12}$ matrix elements to store - good luck with that (^_<)\n"
      ]
    },
    {
      "cell_type": "code",
      "metadata": {
        "id": "wNiqd3EpvY2K"
      },
      "source": [
        "import scipy.sparse.linalg\n",
        "del G\n",
        "\n",
        "A = P.copy()\n",
        "d = 0.85\n",
        "\n",
        "L = scipy.sparse.linalg.LinearOperator(A.shape, matvec=lambda x, A=A, d=d: pagerank_matvec(A, d, x))"
      ],
      "execution_count": null,
      "outputs": []
    },
    {
      "cell_type": "markdown",
      "metadata": {
        "id": "W_5DNhYVvy2z"
      },
      "source": [
        "---\n",
        "\n",
        "**2.2.12 (2 pts) Run the power method starting from the vector of all ones and plot residuals $\\|A_dx_k - \\lambda_k x_k\\|_2$  as a function of $k$ for $d=0.85$.**\n"
      ]
    },
    {
      "cell_type": "code",
      "metadata": {
        "id": "l2IhyEc3v352"
      },
      "source": [
        "num_iter = 100\n",
        "vector_ones = np.ones(A.shape[0])\n",
        "\n",
        "x, l, res = power_method(L, vector_ones, num_iter)"
      ],
      "execution_count": null,
      "outputs": []
    },
    {
      "cell_type": "code",
      "metadata": {
        "colab": {
          "base_uri": "https://localhost:8080/",
          "height": 548
        },
        "id": "U_gBoL9DwBhg",
        "outputId": "94266896-baaa-446b-bc97-0a57586d2a98"
      },
      "source": [
        "import matplotlib.pyplot as plt\n",
        "\n",
        "plt.figure(figsize=(12, 8))\n",
        "plt.plot(10*np.log10(res), linewidth = 3)\n",
        "plt.xlabel('N of iterations', fontsize=20)\n",
        "plt.ylabel('Residuals [db]', fontsize=20)\n",
        "plt.xticks(fontsize=15)\n",
        "plt.yticks(fontsize=15)\n",
        "plt.grid()\n",
        "plt.title(r'Residuals vs number of iterations', fontsize=18)"
      ],
      "execution_count": null,
      "outputs": [
        {
          "output_type": "execute_result",
          "data": {
            "text/plain": [
              "Text(0.5, 1.0, 'Residuals vs number of iterations')"
            ]
          },
          "metadata": {},
          "execution_count": 42
        },
        {
          "output_type": "display_data",
          "data": {
            "image/png": "[encoded data removed]",
            "text/plain": [
              "<Figure size 864x576 with 1 Axes>"
            ]
          },
          "metadata": {
            "needs_background": "light"
          }
        }
      ]
    },
    {
      "cell_type": "markdown",
      "metadata": {
        "id": "tveHKH1-wIaU"
      },
      "source": [
        "---\n",
        " \n",
        "**2.2.13 (1 pts) Print names of the top-10 authors according to PageRank over DBLP when $d=0.85$. Comment on your findings.**"
      ]
    },
    {
      "cell_type": "code",
      "metadata": {
        "colab": {
          "base_uri": "https://localhost:8080/"
        },
        "id": "u5jfyLejwTmm",
        "outputId": "244320ce-966f-4579-c2b1-6095a61b0cf3"
      },
      "source": [
        "most_cited_dblp = x.argsort()[-10:][::-1]\n",
        "\n",
        "for index in most_cited_dblp:\n",
        "  print(f'Author name: {authors[index]}')"
      ],
      "execution_count": null,
      "outputs": [
        {
          "output_type": "stream",
          "name": "stdout",
          "text": [
            "Author name: Wei Wang\n",
            "Author name: Yang Liu\n",
            "Author name: Wei Zhang\n",
            "Author name: Lajos Hanzo\n",
            "Author name: Leonard Barolli\n",
            "Author name: Lei Zhang\n",
            "Author name: Jun Zhang\n",
            "Author name: Wei Li\n",
            "Author name: Jun Wang\n",
            "Author name: Lei Wang\n"
          ]
        }
      ]
    },
    {
      "cell_type": "markdown",
      "metadata": {
        "id": "pP4TgXAuxLaj"
      },
      "source": [
        "I also checked https://dblp.org/statistics/prolific1.html and it turned out, that most names coincides with list from the link. Therefore I can conclude that it works good.\n",
        "\n",
        "---"
      ]
    },
    {
      "cell_type": "markdown",
      "metadata": {
        "id": "hQ2vaIyMOGI3"
      },
      "source": [
        "## Problem 3. QR algorithm (33 pts)\n",
        "\n",
        "* Implement QR-algorithm without shifts. Prototype of the function is given below"
      ]
    },
    {
      "cell_type": "code",
      "metadata": {
        "id": "Pz7Vnv69qAOQ"
      },
      "source": [
        "import numpy as np \n",
        "import scipy \n",
        "from scipy import linalg\n",
        "import matplotlib.pyplot as plt"
      ],
      "execution_count": null,
      "outputs": []
    },
    {
      "cell_type": "code",
      "metadata": {
        "id": "rMHBZLojOGI3"
      },
      "source": [
        "# INPUT: \n",
        "# A_init - square matrix, \n",
        "# num_iter - number of iterations for QR algorithm\n",
        "# OUTPUT: \n",
        "# Ak - transformed matrix A_init given by QR algorithm, \n",
        "# convergence - numpy array of shape (num_iter, ), \n",
        "# where we store the maximal number from the Chebyshev norm \n",
        "# of triangular part of the Ak for every iteration\n",
        "def qr_algorithm(A_init, num_iter): # 3 pts\n",
        "    # enter your code here\n",
        "    Ak = A_init                     # put inital matrix\n",
        "    convergence = []                # list for convergence\n",
        "\n",
        "    for iter in range(num_iter):\n",
        "        Q,R = scipy.linalg.qr(Ak)                               # do QR decomposition \n",
        "        convergence.append(np.amax(np.abs(np.tril(Ak, k=-1))))  # Calculate Chebyshev norm from lower subdiagonal matrix\n",
        "        #convergence.append(np.linalg.norm(np.tril(Ak, k=-1), np.inf)) # Option for inf norm\n",
        "        Ak = R @ Q      # multiply Q R  in inverse order\n",
        "    \n",
        "    return Ak, convergence"
      ],
      "execution_count": null,
      "outputs": []
    },
    {
      "cell_type": "markdown",
      "metadata": {
        "id": "UNrCBNRUOGI6"
      },
      "source": [
        "#### Symmetric case (3 pts)\n",
        "- Create symmetric tridiagonal $11 \\times 11$ matrix with elements $-1, 2, -1$ on sub-, main- and upper diagonal respectively without using loops.\n",
        "- Run $400$ iterations of the QR algorithm for this matrix.\n",
        "- Plot the output matrix with function ```plt.spy(Ak, precision=1e-7)```.\n",
        "- Plot convergence of QR-algorithm."
      ]
    },
    {
      "cell_type": "code",
      "metadata": {
        "id": "NuKwQGXbOGI6",
        "colab": {
          "base_uri": "https://localhost:8080/",
          "height": 369
        },
        "outputId": "986d1ce9-3de8-4594-aebd-e29664af1d42"
      },
      "source": [
        "# Your solution is here\n",
        "from scipy.sparse import diags \n",
        "n = 11         # matrix size\n",
        "n_iter = 400   # Number of iterations\n",
        "A = diags([-1, 2, -1], [-1, 0, 1], shape=(n, n)).toarray() # create required symmetric matrix \n",
        "\n",
        "Ak, conv = qr_algorithm(A,n_iter)   # do QR algorithm\n",
        "\n",
        "plt.figure(figsize = (15,5))\n",
        "plt.subplot(1,2,1)\n",
        "plt.spy(Ak, precision=1e-7)        \n",
        "plt.title('Sparcity pattern of A', fontsize = 15)\n",
        "\n",
        "plt.subplot(1,2,2)\n",
        "plt.plot(conv)\n",
        "plt.yscale('log')\n",
        "plt.grid()\n",
        "plt.xlabel('Iteration', fontsize = 15)\n",
        "plt.ylabel('Chebyshev norm of subdiag matrix', fontsize = 15)\n",
        "plt.title('Convergence of QR-algorthm (Symmetric case)', fontsize = 16)\n",
        "plt.tight_layout()"
      ],
      "execution_count": null,
      "outputs": [
        {
          "output_type": "display_data",
          "data": {
            "image/png": "[encoded data removed]",
            "text/plain": [
              "<Figure size 1080x360 with 2 Axes>"
            ]
          },
          "metadata": {
            "needs_background": "light"
          }
        }
      ]
    },
    {
      "cell_type": "markdown",
      "metadata": {
        "id": "-lomV2K-OGI8"
      },
      "source": [
        "#### Nonsymmetric case (5 pts)\n",
        "\n",
        "- Create nonsymmetric tridiagonal $11 \\times 11$ matrix with elements $5, 3, -2$ on sub-, main- and upper diagonal respectively without using loops.\n",
        "- Run $250$ iterations of the QR algorithm for this matrix.\n",
        "- Plot the result matrix with function ```plt.spy(Ak, precision=1e-7)```. Is this matrix lower triangular? How does this correspond to the claim about convergence of the QR algorithm?"
      ]
    },
    {
      "cell_type": "code",
      "metadata": {
        "id": "C2lGBHjaOGI9",
        "colab": {
          "base_uri": "https://localhost:8080/",
          "height": 369
        },
        "outputId": "c4bfce41-2639-439c-d10f-5f20501addd6"
      },
      "source": [
        "# Your solution is here\n",
        "from scipy.sparse import diags \n",
        "n = 11          # matrix size\n",
        "n_iter = 250    # number of iterations\n",
        "A = diags([5, 3, -2], [-1, 0, 1], shape=(n, n)).toarray() #Create required nonsymmetric matrix \n",
        "\n",
        "Ak, conv = qr_algorithm(A,n_iter)   # do QR algorithm\n",
        "\n",
        "plt.figure(figsize = (15,5))\n",
        "plt.subplot(1,2,1)\n",
        "plt.spy(Ak, precision=1e-7)\n",
        "plt.title('Sparcity pattern of A', fontsize = 15)\n",
        "\n",
        "plt.subplot(1,2,2)\n",
        "plt.plot(conv)\n",
        "plt.yscale('log')\n",
        "plt.grid()\n",
        "plt.xlabel('Iteration', fontsize = 15)\n",
        "plt.ylabel('Chebyshev norm of subdiag matrix', fontsize = 15)\n",
        "plt.title('Convergence of QR-algorthm (Nonsymmetric case)', fontsize = 16)\n",
        "plt.tight_layout()"
      ],
      "execution_count": null,
      "outputs": [
        {
          "output_type": "display_data",
          "data": {
            "image/png": "[encoded data removed]",
            "text/plain": [
              "<Figure size 1080x360 with 2 Axes>"
            ]
          },
          "metadata": {
            "needs_background": "light"
          }
        }
      ]
    },
    {
      "cell_type": "markdown",
      "metadata": {
        "id": "rToZC6K_PvgH"
      },
      "source": [
        "In nonsymmetric case we don't have a triangular matrix, because nonsymmetric matrix has complex eigenvalues"
      ]
    },
    {
      "cell_type": "markdown",
      "metadata": {
        "id": "NUsArFlxXmFp"
      },
      "source": [
        "### QR algorithms with Rayleigh Quotient shift (10 pts)\n",
        "\n",
        "In the lectures the Rayleigh Quotient shift was introduced to speed up convergence of power method. Here we ask you to generalize this approach to construct the shifts in QR algorithm.\n",
        "\n",
        "- How to compute the Rayleigh Quotient shift in QR algorithm fast? Provide formulas and explanations how they can be simplified.\n",
        "- Implement explicit QR algorithm with Rayleigh Quotient shift. Please do not worry about implicit orthogonalization, we want to compare convergence only in terms of iterations.\n",
        "- Test your implementation in the symmetric case. Plot the convergence of QR algorithm with and without shift. Choose the dimension $n \\sim 100 $ for more representative results. \n",
        "- How the convergence of the shifted algorithm compares to the simple QR? Why? "
      ]
    },
    {
      "cell_type": "markdown",
      "metadata": {
        "id": "BhxTAxkJC6aI"
      },
      "source": [
        "---\n",
        "\n",
        "Rayleigh shift for QR-algorithm can be calculated as follows:\n",
        "$$\n",
        "\\mu^{(k)} = \\frac{(q_m^{(k)})^TAq_m^{(k)}}{(q_m^{(k)})^Tq_m^{(k)}}\n",
        "$$\n",
        "Where $q_m^{(k)}$ is the last column of $Q^{(k)} $ matrix. Since $Q^{(k)}$ is orthogonal, then the denominator will be equal to 1. Therefore:\n",
        "$$\n",
        "\\frac{(q_m^{(k)})^TAq_m^{(k)}}{(q_m^{(k)})^Tq_m^{(k)}} = (q_m^{(k)})^TAq_m^{(k)} \n",
        "$$\n",
        "This can be rewritten as follows:\n",
        "$$\n",
        "(q_m^{(k)})^TAq_m^{(k)} = e^T_m[Q^{k}]^TAQ^{(k)}e_m = e^T_mA^{(k)}e_m=A_{mm}^{(k)}\n",
        "$$\n",
        "So, we can see that for Rayleigh shift in QR-algorithm we can choose last right bottom element of the matrix $A$"
      ]
    },
    {
      "cell_type": "code",
      "metadata": {
        "id": "3LOkDnIWXmFq"
      },
      "source": [
        "def qr_algorithm_reileigh(A_init, num_iter):\n",
        "    # enter your code here\n",
        "    Ak = A_init             # put initial value\n",
        "    convergence = []        # list of convergence\n",
        "    mu = 0                  # initialize shift \n",
        "    I = np.eye(Ak.shape[0]) # Identity matrix\n",
        "    \n",
        "    for iter in range(num_iter):\n",
        "        \n",
        "        Q,R = scipy.linalg.qr(Ak - mu*I)    # Before QR decomposition we substract shift multiplied with identity \n",
        "        convergence.append(np.amax(np.abs(np.tril(Ak, k=-1)))) # Calculate Chebyshev norm\n",
        "        \n",
        "        Ak = R @ Q + mu*I   # Multiply Q R in inverse order and add shift to the result\n",
        "        mu = Ak[-1,-1]  # For next iteration choose shift as last bottom element of the matrix \n",
        "\n",
        "    return Ak, convergence"
      ],
      "execution_count": null,
      "outputs": []
    },
    {
      "cell_type": "code",
      "metadata": {
        "colab": {
          "base_uri": "https://localhost:8080/",
          "height": 357
        },
        "id": "o2xH_NU0wkYf",
        "outputId": "649a26b9-cfc7-47c7-a802-96907228da70"
      },
      "source": [
        "n = 100         # matrix size  \n",
        "n_iter = 50     # number of iterations\n",
        "A = diags([-1, 2, -1], [-1, 0, 1], shape=(n, n)).toarray() # Create symmetric matrix\n",
        "\n",
        "Ak, conv = qr_algorithm(A,n_iter)                           # apply simple qr algorithm\n",
        "Ak_shifted, conv_shifted = qr_algorithm_reileigh(A,n_iter)  # apply qr algorithm with Reileigh shift \n",
        "\n",
        "plt.figure(figsize = (15,5))\n",
        "plt.plot(conv, label = 'Without shift')\n",
        "plt.plot(conv_shifted, label = 'Reileigh shift')\n",
        "plt.yscale('log')\n",
        "plt.grid()\n",
        "plt.xlabel('Iteration', fontsize = 15)\n",
        "plt.ylabel('Chebyshev norm of subdiag matrix', fontsize = 15)\n",
        "plt.title('Convergence of QR-algorthm (Symmetric case)', fontsize = 16)\n",
        "plt.legend();"
      ],
      "execution_count": null,
      "outputs": [
        {
          "output_type": "display_data",
          "data": {
            "image/png": "[encoded data removed]",
            "text/plain": [
              "<Figure size 1080x360 with 1 Axes>"
            ]
          },
          "metadata": {
            "needs_background": "light"
          }
        }
      ]
    },
    {
      "cell_type": "markdown",
      "metadata": {
        "id": "-OxYMcU7TROw"
      },
      "source": [
        "Since shift increases the gap between eigenvalues, then convergence is better, than without shift. "
      ]
    },
    {
      "cell_type": "markdown",
      "metadata": {
        "id": "m2d-OsdvXmFq"
      },
      "source": [
        "- Try QR with Rayleigh Quotient shift for a simple matrix $A = \\begin{bmatrix}\n",
        "0 & 1 \\\\\n",
        "1 & 0\n",
        "\\end{bmatrix}$. Does anything change from iteration to iteration? Does shift affect convergence here? Why?"
      ]
    },
    {
      "cell_type": "code",
      "metadata": {
        "id": "sDio9SGWXmFq",
        "colab": {
          "base_uri": "https://localhost:8080/",
          "height": 357
        },
        "outputId": "a0ab390b-951f-4386-c180-b42526910e62"
      },
      "source": [
        "# Your solution is here\n",
        "A = np.array([[0,1],[1,0]])     # creat proposed matrix \n",
        "n_iter = 50                     # number of iterations for QR\n",
        "\n",
        "Ak_shifted, conv_shifted = qr_algorithm_reileigh(A,n_iter)  # Apply QR with Reileigh shift\n",
        "plt.figure(figsize = (15,5))\n",
        "plt.plot(conv_shifted, label = 'Reileigh shift')\n",
        "plt.yscale('log')\n",
        "plt.grid()\n",
        "plt.xlabel('Iteration', fontsize = 15)\n",
        "plt.ylabel('Chebyshev norm of subdiag matrix', fontsize = 15)\n",
        "plt.title('Convergence of QR-algorthm ', fontsize = 16)\n",
        "plt.legend();"
      ],
      "execution_count": null,
      "outputs": [
        {
          "output_type": "display_data",
          "data": {
            "image/png": "[encoded data removed]",
            "text/plain": [
              "<Figure size 1080x360 with 1 Axes>"
            ]
          },
          "metadata": {
            "needs_background": "light"
          }
        }
      ]
    },
    {
      "cell_type": "markdown",
      "metadata": {
        "id": "cYYpl7jPVeFP"
      },
      "source": [
        "For this matrix we have the following situation $A = QR = RQ$. Then it doesn't change after iterations of QR algorithm. However the Rayleigh shift doesn't help us because $A_{mm} = 0$. And the same value keeps on all iterations, that's why it doesn't work.  "
      ]
    },
    {
      "cell_type": "markdown",
      "metadata": {
        "id": "z7CI7ac2XmFq"
      },
      "source": [
        "### QR with Wilkinson shift  (15 pts)\n",
        "\n",
        "To solve the problem that appears in the last example, we can use the Wilkinson shift:\n",
        "\n",
        "$$\\mu = a_m - \\frac {sign(\\delta) b^2_{m-1}} {(|\\delta| + \\sqrt{\\delta^2 + b^2_{m-1}} )},$$\n",
        "\n",
        "where $\\delta = \\frac{(a_{m-1} - a_m)}{2}$. If $\\delta = 0$, then instead of $sign(\\delta)$ you have to choose $1$ or $-1$ arbitrary.\n",
        "The numbers $a_m, b_{m-1}, a_{m-1}$ are taken from matrix $B$:\n",
        "\n",
        "$$\n",
        "    B = \n",
        "    \\begin{bmatrix} \n",
        "     a_{m-1} & b_{m-1} \\\\ \n",
        "     b_{m-1} & a_m \\\\ \n",
        "    \\end{bmatrix},\n",
        "$$  \n",
        "which is a lower right bottom submatrix of $A^{(k)}$. Here $k$ is an iteration counter in QR algorithm.\n",
        "\n",
        "- Compare convergence in the symmetric cases: \n",
        "    - distinctive eigenvalues\n",
        "    - two coincident eigenvalues\n",
        "    - maximum and minimum eigenvalues with the same absolute value\n",
        "Choose the dimension $n \\sim 100 $ for more representative results.\n",
        "What do you observe? "
      ]
    },
    {
      "cell_type": "code",
      "metadata": {
        "id": "DE6UrDxRkbUN"
      },
      "source": [
        "def qr_algorithm_wilkinson(A_init, num_iter):\n",
        "    # enter your code here\n",
        "    def wilkinson(B):\n",
        "        delta = (B[0,0] - B[1,1])/2   \n",
        "\n",
        "        if np.isclose(delta, 0, atol=1e-12):  # if delta is close to zero, then choose the sign randomly\n",
        "            delta = np.random.choice([-1,1])\n",
        "\n",
        "        return B[1,1] - (np.sign(delta)*B[0,1]**2)/(abs(delta) + np.sqrt(delta**2+B[0,1]**2))\n",
        "     \n",
        "    Ak = A_init\n",
        "    convergence = []\n",
        "    n = Ak.shape[1]     # shape of matrix\n",
        "    I = np.eye(n)       # Identity\n",
        "\n",
        "    for iter in range(num_iter):\n",
        "        mu = wilkinson(Ak[-2:, -2:])    # calculate Wilkinson shift \n",
        "        Q,R = scipy.linalg.qr(Ak - mu*I)    # subtract shift and do QR decomposition\n",
        "        convergence.append(np.amax(np.abs(np.tril(Ak, k=-1))))  # calc Chebyshev norm\n",
        "        #convergence.append(np.linalg.norm(np.tril(Ak, k=-1), np.inf))\n",
        "        Ak = R @ Q + mu*I       # multiply Q R in inverse order and add shift \n",
        "    \n",
        "    return Ak, convergence"
      ],
      "execution_count": null,
      "outputs": []
    },
    {
      "cell_type": "code",
      "metadata": {
        "id": "GwdPueaNXmFq",
        "colab": {
          "base_uri": "https://localhost:8080/",
          "height": 357
        },
        "outputId": "b6d53d22-bc9c-411c-854d-c02050406def"
      },
      "source": [
        "# Your solution is here\n",
        "A = np.array([[0,1],[1,0]])\n",
        "n_iter = 10\n",
        "\n",
        "Ak_shifted, conv_shifted = qr_algorithm_wilkinson(A,n_iter)\n",
        "plt.figure(figsize = (15,5))\n",
        "plt.plot(conv_shifted, label = 'Wilkinson shift')\n",
        "plt.yscale('log')\n",
        "plt.grid()\n",
        "plt.xlabel('Iteration', fontsize = 15)\n",
        "plt.ylabel('Chebyshev norm of subdiag matrix', fontsize = 15)\n",
        "plt.title('Convergence of QR-algorthm (Symmetric case)', fontsize = 16)\n",
        "plt.legend();"
      ],
      "execution_count": null,
      "outputs": [
        {
          "output_type": "display_data",
          "data": {
            "image/png": "[encoded data removed]",
            "text/plain": [
              "<Figure size 1080x360 with 1 Axes>"
            ]
          },
          "metadata": {
            "needs_background": "light"
          }
        }
      ]
    },
    {
      "cell_type": "markdown",
      "metadata": {
        "id": "6YGKSMSDasSc"
      },
      "source": [
        "Here we can see that Wilkinson shift helps us to deal with symmetry and algorithm converges."
      ]
    },
    {
      "cell_type": "code",
      "metadata": {
        "id": "yICNh9S83mth"
      },
      "source": [
        "from tqdm.notebook import tqdm\n",
        "\n",
        "def gen_with_distinctive(size):\n",
        "    '''\n",
        "    Generates random symmetric matrix with qudratic exponential decay of eigenvalues by\n",
        "    generating elements of eigendecomposition and multiplies it \n",
        "    '''\n",
        "    H = np.random.rand(size,size) # Create random matrix \n",
        "    Q,_ = np.linalg.qr(H)         # find ortogonal matrix of eigenvectors (to have symetric matrix)\n",
        "    A = np.diag(np.exp((1/np.arange(1,size+1))**2)) # Create diagonal matrix with eigenvalues\n",
        "    return Q@A@Q.T #calculate sought matrix\n",
        "\n",
        "def gen_with_coincides(size):\n",
        "    '''\n",
        "    Generates random symmetric matrix with exponential decay of eigenvalues \n",
        "    and 2 equal maximal eigenvalues \n",
        "    by generating elements of eigendecomposition and multiplies it \n",
        "    '''\n",
        "    H = np.random.rand(size,size)   # random matrix\n",
        "    Q,_ = np.linalg.qr(H)           # find orthogonal\n",
        "    eigvals = np.concatenate((np.array([1]), np.arange(1, size))) # prepare values for eigenvalues\n",
        "    A = np.diag(np.exp(1/eigvals)) # create diag matrix with eigenvalues\n",
        "    return Q@A@Q.T\n",
        "\n",
        "def gen_with_dif_abs(size):\n",
        "    '''\n",
        "    Generates random symmetric matrix with exponential decay of eigenvalues \n",
        "    and 2 opposite by sign, equal by abs dominant eigenvalues\n",
        "    '''\n",
        "    H = np.random.rand(size,size) # random matrix \n",
        "    Q,_ = np.linalg.qr(H)         # orthogonal matrix \n",
        "    eigvals = np.concatenate((np.array([1]), np.arange(1, size))) # prepare eignvalues\n",
        "    eigvals = np.exp(1/eigvals)\n",
        "    eigvals[0] *= -1  \n",
        "    A = np.diag(eigvals) # cheate diag matrix with eigenvalues \n",
        "    return Q@A@Q.T\n"
      ],
      "execution_count": null,
      "outputs": []
    },
    {
      "cell_type": "code",
      "metadata": {
        "colab": {
          "base_uri": "https://localhost:8080/",
          "height": 389,
          "referenced_widgets": [
            "3d3c684af1454a579d86fd7f16bca516",
            "e523580edfe7461192422ad2e8f78cd5",
            "6ceaffca10d642c6b10bf2672461f4a2",
            "6707bdd2d5654089954f78b016abe0ff",
            "8fa023dfe91a4906b0c31b42fa6e58d5",
            "a7b1d011eb634516b9eb2be0625044ad",
            "fe50e88dbb7b4578af8538c5f6c5077b",
            "09a118b3d4694e87a0d2559d65eed906",
            "495971cba78e46a7864e5f5c74c88297",
            "3d742cdf4a594da98278bd97ddccefcb",
            "a7afb4d632f84fbb86e1ea68a2a88f66"
          ]
        },
        "id": "oVwU0qeA-FMV",
        "outputId": "6b933472-f807-4245-ced4-ed7fc30a05db"
      },
      "source": [
        "# CASE WITH DISTINCTIVE EIGENVALUES \n",
        "n = 100         #matrix size\n",
        "n_iter = 200    \n",
        "REPEATS = 200   # number of experiments \n",
        "\n",
        "Conv_simple = np.zeros((REPEATS, n_iter))   # storage for convergenca data for simple QR\n",
        "Conv_reileigh = np.zeros((REPEATS, n_iter)) # storage for convergenca data for QR with Reileigh shift\n",
        "Conv_wilkinson = np.zeros((REPEATS, n_iter))# storage for convergenca data for QR with WIlkinson shift\n",
        "\n",
        "for repeat in tqdm(range(REPEATS)):     # repeat experiment 200 times \n",
        "    A = gen_with_distinctive(n)         # create matrix with distinctive eigenvalues\n",
        "    A = scipy.linalg.hessenberg(A)      # transform it to Hessinberg form. (For better convergence and fast calculation)\n",
        "    Ak, conv = qr_algorithm(A,n_iter)   # apply simple qr algorithm\n",
        "    Ak_shifted, conv_shifted = qr_algorithm_reileigh(A,n_iter)      #apply qr with Reileigh shift \n",
        "    Ak_shifted2, conv_shifted2 = qr_algorithm_wilkinson(A,n_iter)   # apply qr with Wilkinson shift\n",
        "\n",
        "    Conv_simple[repeat,:] = conv                # add current values to storage \n",
        "    Conv_reileigh[repeat,:] = conv_shifted\n",
        "    Conv_wilkinson[repeat,:] = conv_shifted2\n",
        "\n",
        "\n",
        "# Plot meaned over all experiments graphs\n",
        "plt.figure(figsize = (15,5))\n",
        "plt.plot(np.mean(Conv_simple,axis = 0), label = 'Without shift')\n",
        "plt.plot(np.mean(Conv_reileigh,axis = 0), label = 'Reileigh shift')\n",
        "plt.plot(np.mean(Conv_wilkinson,axis = 0), label = 'Wilkinson shift')\n",
        "\n",
        "plt.yscale('log')\n",
        "plt.grid()\n",
        "plt.xlabel('Iteration', fontsize = 15)\n",
        "plt.ylabel('Chebyshev norm of subdiag matrix', fontsize = 15)\n",
        "plt.title('Convergence of QR-algorthms (distinctive eigvals)', fontsize = 16)\n",
        "plt.legend();"
      ],
      "execution_count": null,
      "outputs": [
        {
          "output_type": "display_data",
          "data": {
            "application/vnd.jupyter.widget-view+json": {
              "model_id": "3d3c684af1454a579d86fd7f16bca516",
              "version_minor": 0,
              "version_major": 2
            },
            "text/plain": [
              "  0%|          | 0/200 [00:00<?, ?it/s]"
            ]
          },
          "metadata": {}
        },
        {
          "output_type": "display_data",
          "data": {
            "image/png": "[encoded data removed]",
            "text/plain": [
              "<Figure size 1080x360 with 1 Axes>"
            ]
          },
          "metadata": {
            "needs_background": "light"
          }
        }
      ]
    },
    {
      "cell_type": "markdown",
      "metadata": {
        "id": "Kjp9oAfhXoXr"
      },
      "source": [
        "So we can see that with large gap between eigenvalues all algorithms converges, but shifted versions do it much faster"
      ]
    },
    {
      "cell_type": "code",
      "metadata": {
        "colab": {
          "base_uri": "https://localhost:8080/",
          "height": 389,
          "referenced_widgets": [
            "6ff69440653348e78d428f1f9019b9da",
            "ea06668fa41042148f50b5fa14e472db",
            "a06159b05f544c32ba28fbbfcf26c5f4",
            "d15b7bd1eee444628d48afb019e65c38",
            "341bac16a164432286d3fa10784bc07a",
            "e25319fe89fc4529bcaf8b29afb80ac0",
            "332ac999b5864ef8bcefff26ab399f27",
            "6a4ae5d367e34cc5950fd19a9efb5f95",
            "cbb513277d57417fa4ac2954f0886642",
            "c1cfaacffa634d00b5c606929a33961b",
            "1375c7dd60b44e9c9e8763502bdf756a"
          ]
        },
        "id": "cvlPUMzwFYCs",
        "outputId": "6737223f-b400-4fb1-b212-f14519d08a25"
      },
      "source": [
        "# CASE WITH 2 EQUAL DOMINANT EIGENVALUES\n",
        "n = 100         # matrix size\n",
        "n_iter = 200    \n",
        "\n",
        "REPEATS = 200\n",
        "Conv_simple = np.zeros((REPEATS, n_iter))\n",
        "Conv_reileigh = np.zeros((REPEATS, n_iter))\n",
        "Conv_wilkinson = np.zeros((REPEATS, n_iter))\n",
        "\n",
        "for repeat in tqdm(range(REPEATS)):\n",
        "\n",
        "    A = gen_with_coincides(n)           # create matrix with 2 equal eigenvalues \n",
        "    A = scipy.linalg.hessenberg(A)      # transform it to Hessinberg form. (For better convergence and reducing complexity) \n",
        "    Ak, conv = qr_algorithm(A,n_iter)   # apply simple QR algorithm\n",
        "    Ak_shifted, conv_shifted = qr_algorithm_reileigh(A,n_iter)    #apply QR algorithm with Reileigh shift \n",
        "    Ak_shifted2, conv_shifted2 = qr_algorithm_wilkinson(A,n_iter) # apply Qr algorithm with Wilkinson shift \n",
        "\n",
        "    Conv_simple[repeat,:] = conv\n",
        "    Conv_reileigh[repeat,:] = conv_shifted\n",
        "    Conv_wilkinson[repeat,:] = conv_shifted2\n",
        "\n",
        "# Plot meaned over all experiments graphs\n",
        "plt.figure(figsize = (15,5))\n",
        "plt.plot(np.mean(Conv_simple,axis = 0), label = 'Without shift')\n",
        "plt.plot(np.mean(Conv_reileigh,axis = 0), label = 'Reileigh shift')\n",
        "plt.plot(np.mean(Conv_wilkinson,axis = 0), label = 'Wilkinson shift')\n",
        "\n",
        "plt.yscale('log')\n",
        "plt.grid()\n",
        "plt.xlabel('Iteration', fontsize = 15)\n",
        "plt.ylabel('Chebyshev norm of subdiag matrix', fontsize = 15)\n",
        "plt.title('Convergence of QR-algorthms (2 equal eigenvals)', fontsize = 16)\n",
        "plt.legend();"
      ],
      "execution_count": null,
      "outputs": [
        {
          "output_type": "display_data",
          "data": {
            "application/vnd.jupyter.widget-view+json": {
              "model_id": "6ff69440653348e78d428f1f9019b9da",
              "version_minor": 0,
              "version_major": 2
            },
            "text/plain": [
              "  0%|          | 0/200 [00:00<?, ?it/s]"
            ]
          },
          "metadata": {}
        },
        {
          "output_type": "display_data",
          "data": {
            "image/png": "[encoded data removed]",
            "text/plain": [
              "<Figure size 1080x360 with 1 Axes>"
            ]
          },
          "metadata": {
            "needs_background": "light"
          }
        }
      ]
    },
    {
      "cell_type": "markdown",
      "metadata": {
        "id": "E6MJoujCYVuo"
      },
      "source": [
        "If 2 eigenvalues coincides then algorithms converges with oscilations, but finally they decays. Moreover the asymptote of convergence is higher than in previous case, so in such situation, algorithms converges worse than in case where we have distinctive eigenvalues."
      ]
    },
    {
      "cell_type": "code",
      "metadata": {
        "colab": {
          "base_uri": "https://localhost:8080/",
          "height": 389,
          "referenced_widgets": [
            "b7d389ca525b4ff68b8b4dd7f4cb77df",
            "12a21d7cfb1e449c901d5e4ad2e2ac77",
            "1ab0561a5ccb42ae9f0b99c23d27db81",
            "e13e52b5800247cca8845c467b3db3cb",
            "735a94c02e974b62a743ed85fa719c89",
            "23b80e7a2f5341e78ac594f4f6e62c0f",
            "3d495c088e0242bf917600d5a8a76c46",
            "50895dfdf7964c7f8b9e121d7e91b0c2",
            "0d6a9e10e2344e1aa25a561b68347458",
            "b442f1e21c5f47b4b7c20b0fb8f6a070",
            "c29a4a843288497091cb640c9ee7ba0f"
          ]
        },
        "id": "DWGo-VIsGgWV",
        "outputId": "c15cc5ef-fa09-4a04-b304-b0daf3a1d7d7"
      },
      "source": [
        "# CASE WITH OPPOSITE DOMINANT EIGENVALUES    \n",
        "n = 100 \n",
        "n_iter = 200\n",
        "REPEATS = 200\n",
        "Conv_simple = np.zeros((REPEATS, n_iter))\n",
        "Conv_reileigh = np.zeros((REPEATS, n_iter))\n",
        "Conv_wilkinson = np.zeros((REPEATS, n_iter))\n",
        "\n",
        "for repeat in tqdm(range(REPEATS)):\n",
        "\n",
        "    A = gen_with_dif_abs(n)\n",
        "    A = scipy.linalg.hessenberg(A)\n",
        "    Ak, conv = qr_algorithm(A,n_iter)\n",
        "    Ak_shifted, conv_shifted = qr_algorithm_reileigh(A,n_iter)\n",
        "    Ak_shifted2, conv_shifted2 = qr_algorithm_wilkinson(A,n_iter)\n",
        "    \n",
        "    Conv_simple[repeat,:] = conv\n",
        "    Conv_reileigh[repeat,:] = conv_shifted\n",
        "    Conv_wilkinson[repeat,:] = conv_shifted2\n",
        "\n",
        "\n",
        "plt.figure(figsize = (15,5))\n",
        "plt.plot(np.mean(Conv_simple,axis = 0), label = 'Without shift')\n",
        "plt.plot(np.mean(Conv_reileigh,axis = 0), label = 'Reileigh shift')\n",
        "plt.plot(np.mean(Conv_wilkinson,axis = 0), label = 'Wilkinson shift')\n",
        "\n",
        "plt.yscale('log')\n",
        "plt.grid()\n",
        "plt.xlabel('Iteration', fontsize = 15)\n",
        "plt.ylabel('Chebyshev norm of subdiag matrix', fontsize = 15)\n",
        "plt.title('Convergence of QR-algorthm (Symmetric case)', fontsize = 16)\n",
        "plt.legend();"
      ],
      "execution_count": null,
      "outputs": [
        {
          "output_type": "display_data",
          "data": {
            "application/vnd.jupyter.widget-view+json": {
              "model_id": "b7d389ca525b4ff68b8b4dd7f4cb77df",
              "version_minor": 0,
              "version_major": 2
            },
            "text/plain": [
              "  0%|          | 0/200 [00:00<?, ?it/s]"
            ]
          },
          "metadata": {}
        },
        {
          "output_type": "display_data",
          "data": {
            "image/png": "[encoded data removed]",
            "text/plain": [
              "<Figure size 1080x360 with 1 Axes>"
            ]
          },
          "metadata": {
            "needs_background": "light"
          }
        }
      ]
    },
    {
      "cell_type": "markdown",
      "metadata": {
        "id": "0fso-hkFZogQ"
      },
      "source": [
        "Here we can see that simple qr algorithm doesn't converge at all. While algorithms with shifts performs with the same way when we have the same eigenvalues and smoothly converges."
      ]
    },
    {
      "cell_type": "markdown",
      "metadata": {
        "id": "c_8OYe7wOGI-"
      },
      "source": [
        "## Problem 4. (Movie Recommender system) 15 pts\n",
        "\n",
        "Imagine the world without NLA where you have free evenings and you can watch movies!  \n",
        "But it is always hard to choose a movie to watch. \n",
        "In this problem we suggest you to build your own movie recommender system based on SVD decomposition, so you can combine two perfect things: Numerical Linear Algebra and cinematography!"
      ]
    },
    {
      "cell_type": "markdown",
      "metadata": {
        "id": "W2duSA-Su7CI"
      },
      "source": [
        "In order to build recommender system you need data. \n",
        "Here you are https://grouplens.org/datasets/movielens/1m/\n",
        "\n",
        "Usually all recommender systems may be devided into two groups\n",
        "\n",
        "#### Collaborative filtering. \n",
        "\n",
        "This approach is based on user-item interaction.\n",
        "It has one important assumption: user who has liked an item in the past will also likes the same in the future. Suppose the user A likes the films about vampires. \n",
        "He is Twilight saga fan and he has watched the film \"What we do in the shadows\" and liked it or unliked it, in other words he evaluated it somehow. And suppose another user B, who has the similair behavior to the first user (he is also Twilight saga fan). And the chance, that he will estimate \"What we do in the shadows\" in the same way that user A did, is huge. So, the purpose of the collaborative filtering is to predict a user's behavior based on behavior of the simular users.\n",
        "\n",
        "#### Content based filtering.\n",
        "\n",
        "Collaborative filtering has some essential flaws. The main one is called \"cold start\". \"Cold start\" happens when the new user comes and he has not react anyhow to the items. So we do not know his past behavior and we do not know what to advise. Here content based filtering helps. Often resources gather some extra info about users and items before a user comes down to utilising the resource. So, for example we would know that user likes horror movies before he watched anything on the resource."
      ]
    },
    {
      "cell_type": "markdown",
      "metadata": {
        "id": "mMvQV1zSu7Cg"
      },
      "source": [
        "\n",
        "- In this task you will implement Collaborative filtering based on SVD (we will use the function from the proper package and check if the result recommender system advices the similar movies)"
      ]
    },
    {
      "cell_type": "markdown",
      "metadata": {
        "id": "tMN7EK6gu7Ch"
      },
      "source": [
        "1) (1 pts)  Explore the data. Construct the interaction matrix $M$ of size $m \\times n$ which contains the information of how a certain user rated a certain film. \n",
        "\n",
        "2) (5 pts)  Compute SVD of this matrix. Remeber that matrix $M$ is sparse (one user can hardly watch all the movies) so the good choice would be to use method from ```scipy.sparse.linalg``` package\n",
        "\n",
        "$$ M = USV^{\\top}, $$\n",
        "\n",
        "where $U$ is a $m \\times r $ orthogonal matrix with left singular vectors, which represents the relationship between users and latent factors, $S$ is a $r \\times r $ diagonal matrix, which describes the strength of each latent factor and $V^\\top$ is a $r \\times n$ matrix with right singular vectors, which represent the embeddings of  items (movies in our case) in latent space.\n",
        "Describe any simple heuristic to choose appropriate value for $r$ and explain why do you expect that it will work.\n"
      ]
    },
    {
      "cell_type": "code",
      "metadata": {
        "colab": {
          "base_uri": "https://localhost:8080/"
        },
        "id": "PI8xL-dnAwdx",
        "outputId": "066a6a6f-da3d-4f68-a42f-06e9503c3001"
      },
      "source": [
        "!wget https://files.grouplens.org/datasets/movielens/ml-1m.zip\n",
        "!unzip ml-1m.zip\n",
        "PATH = 'ml-1m/'"
      ],
      "execution_count": null,
      "outputs": [
        {
          "output_type": "stream",
          "name": "stdout",
          "text": [
            "--2021-11-30 21:13:53--  https://files.grouplens.org/datasets/movielens/ml-1m.zip\n",
            "Resolving files.grouplens.org (files.grouplens.org)... 128.101.65.152\n",
            "Connecting to files.grouplens.org (files.grouplens.org)|128.101.65.152|:443... connected.\n",
            "HTTP request sent, awaiting response... 200 OK\n",
            "Length: 5917549 (5.6M) [application/zip]\n",
            "Saving to: ‘ml-1m.zip’\n",
            "\n",
            "ml-1m.zip           100%[===================>]   5.64M  6.16MB/s    in 0.9s    \n",
            "\n",
            "2021-11-30 21:13:55 (6.16 MB/s) - ‘ml-1m.zip’ saved [5917549/5917549]\n",
            "\n",
            "Archive:  ml-1m.zip\n",
            "   creating: ml-1m/\n",
            "  inflating: ml-1m/movies.dat        \n",
            "  inflating: ml-1m/ratings.dat       \n",
            "  inflating: ml-1m/README            \n",
            "  inflating: ml-1m/users.dat         \n"
          ]
        }
      ]
    },
    {
      "cell_type": "code",
      "metadata": {
        "id": "qxYtnm7au7Ci"
      },
      "source": [
        "# Importing Libraries\n",
        "import numpy as np\n",
        "import pandas as pd\n",
        "\n",
        "# Read the dataset\n",
        "movies = pd.read_table(PATH + 'movies.dat',\n",
        "                       names=['MovieID','Title','Genres'],\n",
        "                       encoding='latin-1',\n",
        "                       engine = 'python',\n",
        "                       delimiter='::')\n",
        "\n",
        "ratings = pd.read_table(PATH + 'ratings.dat',\n",
        "                        names=['UserID','MovieID','Rating','Timestamp'],\n",
        "                        encoding='latin-1',\n",
        "                        engine = 'python',\n",
        "                        delimiter='::')\n",
        "\n",
        "users = pd.read_table(PATH + 'users.dat',\n",
        "                      names=['UserID','Gender','Age','Occupation','Zip-code'],\n",
        "                      encoding='latin-1',\n",
        "                      engine = 'python',\n",
        "                      delimiter='::')\n",
        "\n",
        "# Create the interaction matrix\n",
        "M = np.zeros((len(users), len(movies)))\n",
        "movie_ids = np.array(movies.MovieID)\n",
        "user_ids = np.array(users.UserID)\n",
        "\n",
        "\n",
        "for i in range(len(ratings)):\n",
        "    user_id = ratings.UserID[i]\n",
        "    movie_id = ratings.MovieID[i]\n",
        "\n",
        "    user_idx = np.argmax(user_ids == user_id)\n",
        "    movie_idx = np.argmax(movie_ids == movie_id)\n",
        "    M[user_idx, movie_idx] = ratings.Rating[i]\n",
        "\n",
        "\n",
        "def get_mov_by_id(mov_id, mov_ids):\n",
        "    idx = np.argmax(movie_ids == mov_id)\n",
        "    title = movies.Title[idx]\n",
        "    genre = movies.Genres[idx]\n",
        "    return title, genre\n",
        "\n",
        "def get_mov_by_idx(idx):\n",
        "    title = movies.Title[idx]\n",
        "    genre = movies.Genres[idx]\n",
        "    return title, genre\n",
        "\n",
        "# Normalize the matrix\n"
      ],
      "execution_count": null,
      "outputs": []
    },
    {
      "cell_type": "code",
      "metadata": {
        "colab": {
          "base_uri": "https://localhost:8080/"
        },
        "id": "Xg8maYE2XY8F",
        "outputId": "74184c2d-ba3d-4e5b-f652-e5909564e95c"
      },
      "source": [
        "M.shape"
      ],
      "execution_count": null,
      "outputs": [
        {
          "output_type": "execute_result",
          "data": {
            "text/plain": [
              "(6040, 3883)"
            ]
          },
          "metadata": {},
          "execution_count": 59
        }
      ]
    },
    {
      "cell_type": "code",
      "metadata": {
        "id": "iM-s2mNNIuw7",
        "colab": {
          "base_uri": "https://localhost:8080/"
        },
        "outputId": "7318e3b4-2a01-4bdc-9123-e59619c3f9c2"
      },
      "source": [
        "# Method for calculating approximation rank\n",
        "\n",
        "U,S,V = np.linalg.svd(M.T @ M)  # make svd of matrix multiplication \n",
        "# And sum singular values while we get 50% of accuracy \n",
        "singular_sum = np.sum(S)\n",
        "r = 0\n",
        "sum_current = 0\n",
        "# until 50% accuracy\n",
        "while np.abs(sum_current - singular_sum)/singular_sum > 0.5:\n",
        "    sum_current = np.sum(S[0:r])\n",
        "    r += 1\n",
        "print(r)"
      ],
      "execution_count": null,
      "outputs": [
        {
          "output_type": "stream",
          "name": "stdout",
          "text": [
            "54\n"
          ]
        }
      ]
    },
    {
      "cell_type": "code",
      "metadata": {
        "id": "3zUd9OvBu7Cj"
      },
      "source": [
        "# Compute Singular Value Decomposition of interaction matrix. You can use built-in functions\n",
        "from scipy.sparse import csc_matrix\n",
        "from scipy.sparse.linalg import svds\n",
        "\n",
        "M_s = csc_matrix(M,dtype = float)\n",
        "\n",
        "U,S,V = svds(M_s, k = r) # Update this line, it is just example"
      ],
      "execution_count": null,
      "outputs": []
    },
    {
      "cell_type": "markdown",
      "metadata": {
        "id": "SMXnKF5Tu7Cj"
      },
      "source": [
        "3) (2 pts) In order to get weighted item-latent factors, we can multiply $S$ and $V^{T}$. Please, remember that $S$ is diagonal and multiply them efficiently."
      ]
    },
    {
      "cell_type": "code",
      "metadata": {
        "id": "VEW4M5Ovu7Cj"
      },
      "source": [
        "# Your solutuion is here\n",
        "S = S[::-1]\n",
        "V = V[::-1,:]\n",
        "\n",
        "SV_T = S.reshape(-1,1)[0:r,:] * V[0:r,:]"
      ],
      "execution_count": null,
      "outputs": []
    },
    {
      "cell_type": "markdown",
      "metadata": {
        "id": "eEMDQkkqu7Ck"
      },
      "source": [
        "Now we have vectors that represent our item space. In other words we have $N$ movies and $N$ vectors which describe each movie, a.k.a. embeddings. \n",
        "In order to know if two movies are similar or not we need just to check if the corresponding vectors are similair or not. How we can do this?\n",
        "\n",
        "4) (2 pts)  Implement the cosine metric. If the cosine metric between two vectors equals to $1$ both vectors are collinear, if $0$ vectors are orthogonal, as a result corresponding movies are completely different.\n",
        "\n",
        "$$\n",
        "cosine(u,v) = \\frac{u^{\\top}v}{\\|u\\|_2\\|v\\|_2}\n",
        "$$"
      ]
    },
    {
      "cell_type": "code",
      "metadata": {
        "id": "lAR4dXMOOGI_"
      },
      "source": [
        "# Your solutuion is here\n",
        "def cosine(u,v):\n",
        "    return (u.T @ v)/np.linalg.norm(u,2)/np.linalg.norm(v,2)"
      ],
      "execution_count": null,
      "outputs": []
    },
    {
      "cell_type": "markdown",
      "metadata": {
        "id": "6wRZh8ALu7C1"
      },
      "source": [
        "5) (5 pts) Check your result. Implement the fuction, which finds and prints $k$ similar movies to the one you have chosen"
      ]
    },
    {
      "cell_type": "code",
      "metadata": {
        "id": "26g7MzeWu7C1"
      },
      "source": [
        "# Your solutuion is here\n",
        "def recommend(film_idx, SV_T, k):\n",
        "    recommendations  = {}\n",
        "    selected = {}\n",
        "\n",
        "    scores = []\n",
        "    for idx in range(SV_T.shape[1]):\n",
        "        similarity = cosine(SV_T[:,film_idx], SV_T[:,idx])\n",
        "        scores.append(similarity)\n",
        "\n",
        "    sorted_scores = sorted(scores)[-k-1:-1][::-1]\n",
        "\n",
        "    for score in sorted_scores:\n",
        "        idx = np.argmax(scores == score)\n",
        "        selected[idx] = score\n",
        "    \n",
        "    film,genre = get_mov_by_idx(film_idx)\n",
        "    print('You have chosen: ', film, '. Genre is ', genre)\n",
        "    print('lets find something interesting...')\n",
        "    table = {'Film name': [],'Film index': [], 'Genre': [], 'Similarity': []}\n",
        "\n",
        "    for idx, similarity in zip(selected.keys(), selected.values()):\n",
        "        film_name,genre = get_mov_by_idx(idx)\n",
        "        \n",
        "        table['Film name'].append(film_name)\n",
        "        table['Film index'].append(idx)\n",
        "        table['Genre'].append(genre)\n",
        "        table['Similarity'].append(np.round(similarity,3))\n",
        "    df = pd.DataFrame(table)\n",
        "    #df = df.style.set_properties(**{'text-align': 'left'})\n",
        "    return df\n"
      ],
      "execution_count": null,
      "outputs": []
    },
    {
      "cell_type": "code",
      "metadata": {
        "colab": {
          "base_uri": "https://localhost:8080/",
          "height": 398
        },
        "id": "ttYjPqcBEO3z",
        "outputId": "2f408d3c-9fc0-4682-d156-edac04faac87"
      },
      "source": [
        "k = 10\n",
        "selected_film_idx = 0\n",
        "recommend(selected_film_idx,SV_T,k)"
      ],
      "execution_count": null,
      "outputs": [
        {
          "output_type": "stream",
          "name": "stdout",
          "text": [
            "You have chosen:  Toy Story (1995) . Genre is  Animation|Children's|Comedy\n",
            "lets find something interesting...\n"
          ]
        },
        {
          "output_type": "execute_result",
          "data": {
            "text/html": [
              "<div>\n",
              "<style scoped>\n",
              "    .dataframe tbody tr th:only-of-type {\n",
              "        vertical-align: middle;\n",
              "    }\n",
              "\n",
              "    .dataframe tbody tr th {\n",
              "        vertical-align: top;\n",
              "    }\n",
              "\n",
              "    .dataframe thead th {\n",
              "        text-align: right;\n",
              "    }\n",
              "</style>\n",
              "<table border=\"1\" class=\"dataframe\">\n",
              "  <thead>\n",
              "    <tr style=\"text-align: right;\">\n",
              "      <th></th>\n",
              "      <th>Film name</th>\n",
              "      <th>Film index</th>\n",
              "      <th>Genre</th>\n",
              "      <th>Similarity</th>\n",
              "    </tr>\n",
              "  </thead>\n",
              "  <tbody>\n",
              "    <tr>\n",
              "      <th>0</th>\n",
              "      <td>Toy Story 2 (1999)</td>\n",
              "      <td>3045</td>\n",
              "      <td>Animation|Children's|Comedy</td>\n",
              "      <td>0.909</td>\n",
              "    </tr>\n",
              "    <tr>\n",
              "      <th>1</th>\n",
              "      <td>Bug's Life, A (1998)</td>\n",
              "      <td>2286</td>\n",
              "      <td>Animation|Children's|Comedy</td>\n",
              "      <td>0.857</td>\n",
              "    </tr>\n",
              "    <tr>\n",
              "      <th>2</th>\n",
              "      <td>Babe (1995)</td>\n",
              "      <td>33</td>\n",
              "      <td>Children's|Comedy|Drama</td>\n",
              "      <td>0.854</td>\n",
              "    </tr>\n",
              "    <tr>\n",
              "      <th>3</th>\n",
              "      <td>Aladdin (1992)</td>\n",
              "      <td>584</td>\n",
              "      <td>Animation|Children's|Comedy|Musical</td>\n",
              "      <td>0.849</td>\n",
              "    </tr>\n",
              "    <tr>\n",
              "      <th>4</th>\n",
              "      <td>Groundhog Day (1993)</td>\n",
              "      <td>1245</td>\n",
              "      <td>Comedy|Romance</td>\n",
              "      <td>0.832</td>\n",
              "    </tr>\n",
              "    <tr>\n",
              "      <th>5</th>\n",
              "      <td>Pleasantville (1998)</td>\n",
              "      <td>2252</td>\n",
              "      <td>Comedy</td>\n",
              "      <td>0.819</td>\n",
              "    </tr>\n",
              "    <tr>\n",
              "      <th>6</th>\n",
              "      <td>Lion King, The (1994)</td>\n",
              "      <td>360</td>\n",
              "      <td>Animation|Children's|Musical</td>\n",
              "      <td>0.792</td>\n",
              "    </tr>\n",
              "    <tr>\n",
              "      <th>7</th>\n",
              "      <td>There's Something About Mary (1998)</td>\n",
              "      <td>1854</td>\n",
              "      <td>Comedy</td>\n",
              "      <td>0.780</td>\n",
              "    </tr>\n",
              "    <tr>\n",
              "      <th>8</th>\n",
              "      <td>Babe: Pig in the City (1998)</td>\n",
              "      <td>2315</td>\n",
              "      <td>Children's|Comedy</td>\n",
              "      <td>0.777</td>\n",
              "    </tr>\n",
              "    <tr>\n",
              "      <th>9</th>\n",
              "      <td>Wayne's World (1992)</td>\n",
              "      <td>3184</td>\n",
              "      <td>Comedy</td>\n",
              "      <td>0.772</td>\n",
              "    </tr>\n",
              "  </tbody>\n",
              "</table>\n",
              "</div>"
            ],
            "text/plain": [
              "                             Film name  ...  Similarity\n",
              "0                   Toy Story 2 (1999)  ...       0.909\n",
              "1                 Bug's Life, A (1998)  ...       0.857\n",
              "2                          Babe (1995)  ...       0.854\n",
              "3                       Aladdin (1992)  ...       0.849\n",
              "4                 Groundhog Day (1993)  ...       0.832\n",
              "5                 Pleasantville (1998)  ...       0.819\n",
              "6                Lion King, The (1994)  ...       0.792\n",
              "7  There's Something About Mary (1998)  ...       0.780\n",
              "8         Babe: Pig in the City (1998)  ...       0.777\n",
              "9                 Wayne's World (1992)  ...       0.772\n",
              "\n",
              "[10 rows x 4 columns]"
            ]
          },
          "metadata": {},
          "execution_count": 65
        }
      ]
    },
    {
      "cell_type": "code",
      "metadata": {
        "colab": {
          "base_uri": "https://localhost:8080/",
          "height": 398
        },
        "id": "ptQSBXG4Eyd0",
        "outputId": "00e8094f-31a5-4b69-870e-0c741130c6ca"
      },
      "source": [
        "selected_film_idx = 1943\n",
        "recommend(selected_film_idx,SV_T,k)"
      ],
      "execution_count": null,
      "outputs": [
        {
          "output_type": "stream",
          "name": "stdout",
          "text": [
            "You have chosen:  Back to the Future Part III (1990) . Genre is  Comedy|Sci-Fi|Western\n",
            "lets find something interesting...\n"
          ]
        },
        {
          "output_type": "execute_result",
          "data": {
            "text/html": [
              "<div>\n",
              "<style scoped>\n",
              "    .dataframe tbody tr th:only-of-type {\n",
              "        vertical-align: middle;\n",
              "    }\n",
              "\n",
              "    .dataframe tbody tr th {\n",
              "        vertical-align: top;\n",
              "    }\n",
              "\n",
              "    .dataframe thead th {\n",
              "        text-align: right;\n",
              "    }\n",
              "</style>\n",
              "<table border=\"1\" class=\"dataframe\">\n",
              "  <thead>\n",
              "    <tr style=\"text-align: right;\">\n",
              "      <th></th>\n",
              "      <th>Film name</th>\n",
              "      <th>Film index</th>\n",
              "      <th>Genre</th>\n",
              "      <th>Similarity</th>\n",
              "    </tr>\n",
              "  </thead>\n",
              "  <tbody>\n",
              "    <tr>\n",
              "      <th>0</th>\n",
              "      <td>Back to the Future Part II (1989)</td>\n",
              "      <td>1942</td>\n",
              "      <td>Comedy|Sci-Fi</td>\n",
              "      <td>0.898</td>\n",
              "    </tr>\n",
              "    <tr>\n",
              "      <th>1</th>\n",
              "      <td>Rocketeer, The (1991)</td>\n",
              "      <td>2025</td>\n",
              "      <td>Action|Adventure|Sci-Fi</td>\n",
              "      <td>0.878</td>\n",
              "    </tr>\n",
              "    <tr>\n",
              "      <th>2</th>\n",
              "      <td>Coneheads (1993)</td>\n",
              "      <td>431</td>\n",
              "      <td>Comedy|Sci-Fi</td>\n",
              "      <td>0.876</td>\n",
              "    </tr>\n",
              "    <tr>\n",
              "      <th>3</th>\n",
              "      <td>Nutty Professor, The (1996)</td>\n",
              "      <td>778</td>\n",
              "      <td>Comedy|Fantasy|Romance|Sci-Fi</td>\n",
              "      <td>0.873</td>\n",
              "    </tr>\n",
              "    <tr>\n",
              "      <th>4</th>\n",
              "      <td>Flight of the Navigator (1986)</td>\n",
              "      <td>1977</td>\n",
              "      <td>Adventure|Children's|Sci-Fi</td>\n",
              "      <td>0.869</td>\n",
              "    </tr>\n",
              "    <tr>\n",
              "      <th>5</th>\n",
              "      <td>Mars Attacks! (1996)</td>\n",
              "      <td>1370</td>\n",
              "      <td>Action|Comedy|Sci-Fi|War</td>\n",
              "      <td>0.861</td>\n",
              "    </tr>\n",
              "    <tr>\n",
              "      <th>6</th>\n",
              "      <td>Honey, I Shrunk the Kids (1989)</td>\n",
              "      <td>1985</td>\n",
              "      <td>Adventure|Children's|Comedy|Fantasy|Sci-Fi</td>\n",
              "      <td>0.847</td>\n",
              "    </tr>\n",
              "    <tr>\n",
              "      <th>7</th>\n",
              "      <td>Stargate (1994)</td>\n",
              "      <td>313</td>\n",
              "      <td>Action|Adventure|Sci-Fi</td>\n",
              "      <td>0.845</td>\n",
              "    </tr>\n",
              "    <tr>\n",
              "      <th>8</th>\n",
              "      <td>Sneakers (1992)</td>\n",
              "      <td>1375</td>\n",
              "      <td>Crime|Drama|Sci-Fi</td>\n",
              "      <td>0.837</td>\n",
              "    </tr>\n",
              "    <tr>\n",
              "      <th>9</th>\n",
              "      <td>Independence Day (ID4) (1996)</td>\n",
              "      <td>770</td>\n",
              "      <td>Action|Sci-Fi|War</td>\n",
              "      <td>0.836</td>\n",
              "    </tr>\n",
              "  </tbody>\n",
              "</table>\n",
              "</div>"
            ],
            "text/plain": [
              "                           Film name  ...  Similarity\n",
              "0  Back to the Future Part II (1989)  ...       0.898\n",
              "1              Rocketeer, The (1991)  ...       0.878\n",
              "2                   Coneheads (1993)  ...       0.876\n",
              "3        Nutty Professor, The (1996)  ...       0.873\n",
              "4     Flight of the Navigator (1986)  ...       0.869\n",
              "5               Mars Attacks! (1996)  ...       0.861\n",
              "6    Honey, I Shrunk the Kids (1989)  ...       0.847\n",
              "7                    Stargate (1994)  ...       0.845\n",
              "8                    Sneakers (1992)  ...       0.837\n",
              "9      Independence Day (ID4) (1996)  ...       0.836\n",
              "\n",
              "[10 rows x 4 columns]"
            ]
          },
          "metadata": {},
          "execution_count": 66
        }
      ]
    },
    {
      "cell_type": "code",
      "metadata": {
        "colab": {
          "base_uri": "https://localhost:8080/",
          "height": 398
        },
        "id": "xSFNmTtNZa7r",
        "outputId": "812dd3b1-ef7b-40e2-f7d1-1d72b5876a81"
      },
      "source": [
        "selected_film_idx = 1000\n",
        "recommend(selected_film_idx,SV_T,k)"
      ],
      "execution_count": null,
      "outputs": [
        {
          "output_type": "stream",
          "name": "stdout",
          "text": [
            "You have chosen:  Parent Trap, The (1961) . Genre is  Children's|Drama\n",
            "lets find something interesting...\n"
          ]
        },
        {
          "output_type": "execute_result",
          "data": {
            "text/html": [
              "<div>\n",
              "<style scoped>\n",
              "    .dataframe tbody tr th:only-of-type {\n",
              "        vertical-align: middle;\n",
              "    }\n",
              "\n",
              "    .dataframe tbody tr th {\n",
              "        vertical-align: top;\n",
              "    }\n",
              "\n",
              "    .dataframe thead th {\n",
              "        text-align: right;\n",
              "    }\n",
              "</style>\n",
              "<table border=\"1\" class=\"dataframe\">\n",
              "  <thead>\n",
              "    <tr style=\"text-align: right;\">\n",
              "      <th></th>\n",
              "      <th>Film name</th>\n",
              "      <th>Film index</th>\n",
              "      <th>Genre</th>\n",
              "      <th>Similarity</th>\n",
              "    </tr>\n",
              "  </thead>\n",
              "  <tbody>\n",
              "    <tr>\n",
              "      <th>0</th>\n",
              "      <td>Old Yeller (1957)</td>\n",
              "      <td>999</td>\n",
              "      <td>Children's|Drama</td>\n",
              "      <td>0.891</td>\n",
              "    </tr>\n",
              "    <tr>\n",
              "      <th>1</th>\n",
              "      <td>Journey of Natty Gann, The (1985)</td>\n",
              "      <td>2008</td>\n",
              "      <td>Adventure|Children's</td>\n",
              "      <td>0.878</td>\n",
              "    </tr>\n",
              "    <tr>\n",
              "      <th>2</th>\n",
              "      <td>Pollyanna (1960)</td>\n",
              "      <td>1001</td>\n",
              "      <td>Children's|Comedy|Drama</td>\n",
              "      <td>0.874</td>\n",
              "    </tr>\n",
              "    <tr>\n",
              "      <th>3</th>\n",
              "      <td>Little Princess, The (1939)</td>\n",
              "      <td>905</td>\n",
              "      <td>Children's|Drama</td>\n",
              "      <td>0.864</td>\n",
              "    </tr>\n",
              "    <tr>\n",
              "      <th>4</th>\n",
              "      <td>Parent Trap, The (1998)</td>\n",
              "      <td>1990</td>\n",
              "      <td>Children's|Drama</td>\n",
              "      <td>0.860</td>\n",
              "    </tr>\n",
              "    <tr>\n",
              "      <th>5</th>\n",
              "      <td>Freaky Friday (1977)</td>\n",
              "      <td>1945</td>\n",
              "      <td>Children's|Comedy</td>\n",
              "      <td>0.858</td>\n",
              "    </tr>\n",
              "    <tr>\n",
              "      <th>6</th>\n",
              "      <td>Swiss Family Robinson (1960)</td>\n",
              "      <td>1004</td>\n",
              "      <td>Adventure|Children's</td>\n",
              "      <td>0.851</td>\n",
              "    </tr>\n",
              "    <tr>\n",
              "      <th>7</th>\n",
              "      <td>Bedknobs and Broomsticks (1971)</td>\n",
              "      <td>1018</td>\n",
              "      <td>Adventure|Children's|Musical</td>\n",
              "      <td>0.851</td>\n",
              "    </tr>\n",
              "    <tr>\n",
              "      <th>8</th>\n",
              "      <td>Pete's Dragon (1977)</td>\n",
              "      <td>1017</td>\n",
              "      <td>Adventure|Animation|Children's|Musical</td>\n",
              "      <td>0.836</td>\n",
              "    </tr>\n",
              "    <tr>\n",
              "      <th>9</th>\n",
              "      <td>Incredible Journey, The (1963)</td>\n",
              "      <td>1988</td>\n",
              "      <td>Adventure|Children's</td>\n",
              "      <td>0.835</td>\n",
              "    </tr>\n",
              "  </tbody>\n",
              "</table>\n",
              "</div>"
            ],
            "text/plain": [
              "                           Film name  ...  Similarity\n",
              "0                  Old Yeller (1957)  ...       0.891\n",
              "1  Journey of Natty Gann, The (1985)  ...       0.878\n",
              "2                   Pollyanna (1960)  ...       0.874\n",
              "3        Little Princess, The (1939)  ...       0.864\n",
              "4            Parent Trap, The (1998)  ...       0.860\n",
              "5               Freaky Friday (1977)  ...       0.858\n",
              "6       Swiss Family Robinson (1960)  ...       0.851\n",
              "7    Bedknobs and Broomsticks (1971)  ...       0.851\n",
              "8               Pete's Dragon (1977)  ...       0.836\n",
              "9     Incredible Journey, The (1963)  ...       0.835\n",
              "\n",
              "[10 rows x 4 columns]"
            ]
          },
          "metadata": {},
          "execution_count": 67
        }
      ]
    },
    {
      "cell_type": "markdown",
      "metadata": {
        "id": "PD6TA9t7ZeOr"
      },
      "source": [
        "So, I can see that it works well, because genres are usually match each other and if film has several parts, then we usuallu have all of them in similar"
      ]
    },
    {
      "cell_type": "markdown",
      "metadata": {
        "id": "oPIQfKcmu7C2"
      },
      "source": [
        "Enjoy watching the recommended movies!\n"
      ]
    },
    {
      "cell_type": "code",
      "metadata": {
        "id": "VXfFLxTcZaO9"
      },
      "source": [
        ""
      ],
      "execution_count": null,
      "outputs": []
    }
  ]
}